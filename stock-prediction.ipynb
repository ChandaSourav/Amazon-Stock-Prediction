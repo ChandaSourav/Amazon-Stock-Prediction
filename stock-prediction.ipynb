{
 "cells": [
  {
   "cell_type": "code",
   "execution_count": 1,
   "id": "17a3f871",
   "metadata": {
    "_cell_guid": "b1076dfc-b9ad-4769-8c92-a6c4dae69d19",
    "_uuid": "8f2839f25d086af736a60e9eeb907d3b93b6e0e5",
    "execution": {
     "iopub.execute_input": "2023-04-13T07:47:39.567828Z",
     "iopub.status.busy": "2023-04-13T07:47:39.567284Z",
     "iopub.status.idle": "2023-04-13T07:47:40.792912Z",
     "shell.execute_reply": "2023-04-13T07:47:40.791296Z"
    },
    "papermill": {
     "duration": 1.237077,
     "end_time": "2023-04-13T07:47:40.796763",
     "exception": false,
     "start_time": "2023-04-13T07:47:39.559686",
     "status": "completed"
    },
    "tags": []
   },
   "outputs": [
    {
     "name": "stdout",
     "output_type": "stream",
     "text": [
      "/kaggle/input/amazon-stock-price-all-time/Amazon.csv\n"
     ]
    }
   ],
   "source": [
    "import numpy as np \n",
    "import pandas as pd\n",
    "import matplotlib.pyplot as plt\n",
    "from sklearn.model_selection import train_test_split\n",
    "from sklearn.linear_model import LinearRegression\n",
    "import os\n",
    "for dirname, _, filenames in os.walk('/kaggle/input'):\n",
    "    for filename in filenames:\n",
    "        print(os.path.join(dirname, filename))\n",
    "import warnings\n",
    "warnings.filterwarnings('ignore')"
   ]
  },
  {
   "cell_type": "code",
   "execution_count": 2,
   "id": "98e4e098",
   "metadata": {
    "execution": {
     "iopub.execute_input": "2023-04-13T07:47:40.807398Z",
     "iopub.status.busy": "2023-04-13T07:47:40.806980Z",
     "iopub.status.idle": "2023-04-13T07:47:40.844695Z",
     "shell.execute_reply": "2023-04-13T07:47:40.843223Z"
    },
    "papermill": {
     "duration": 0.046641,
     "end_time": "2023-04-13T07:47:40.848060",
     "exception": false,
     "start_time": "2023-04-13T07:47:40.801419",
     "status": "completed"
    },
    "tags": []
   },
   "outputs": [],
   "source": [
    "df = pd.read_csv(\"/kaggle/input/amazon-stock-price-all-time/Amazon.csv\")"
   ]
  },
  {
   "cell_type": "code",
   "execution_count": 3,
   "id": "f3575f7f",
   "metadata": {
    "execution": {
     "iopub.execute_input": "2023-04-13T07:47:40.859652Z",
     "iopub.status.busy": "2023-04-13T07:47:40.859244Z",
     "iopub.status.idle": "2023-04-13T07:47:40.891914Z",
     "shell.execute_reply": "2023-04-13T07:47:40.890922Z"
    },
    "papermill": {
     "duration": 0.041291,
     "end_time": "2023-04-13T07:47:40.894327",
     "exception": false,
     "start_time": "2023-04-13T07:47:40.853036",
     "status": "completed"
    },
    "tags": []
   },
   "outputs": [
    {
     "data": {
      "text/html": [
       "<div>\n",
       "<style scoped>\n",
       "    .dataframe tbody tr th:only-of-type {\n",
       "        vertical-align: middle;\n",
       "    }\n",
       "\n",
       "    .dataframe tbody tr th {\n",
       "        vertical-align: top;\n",
       "    }\n",
       "\n",
       "    .dataframe thead th {\n",
       "        text-align: right;\n",
       "    }\n",
       "</style>\n",
       "<table border=\"1\" class=\"dataframe\">\n",
       "  <thead>\n",
       "    <tr style=\"text-align: right;\">\n",
       "      <th></th>\n",
       "      <th>Date</th>\n",
       "      <th>Open</th>\n",
       "      <th>High</th>\n",
       "      <th>Low</th>\n",
       "      <th>Close</th>\n",
       "      <th>Adj Close</th>\n",
       "      <th>Volume</th>\n",
       "    </tr>\n",
       "  </thead>\n",
       "  <tbody>\n",
       "    <tr>\n",
       "      <th>0</th>\n",
       "      <td>1997-05-15</td>\n",
       "      <td>2.437500</td>\n",
       "      <td>2.500000</td>\n",
       "      <td>1.927083</td>\n",
       "      <td>1.958333</td>\n",
       "      <td>1.958333</td>\n",
       "      <td>72156000</td>\n",
       "    </tr>\n",
       "    <tr>\n",
       "      <th>1</th>\n",
       "      <td>1997-05-16</td>\n",
       "      <td>1.968750</td>\n",
       "      <td>1.979167</td>\n",
       "      <td>1.708333</td>\n",
       "      <td>1.729167</td>\n",
       "      <td>1.729167</td>\n",
       "      <td>14700000</td>\n",
       "    </tr>\n",
       "    <tr>\n",
       "      <th>2</th>\n",
       "      <td>1997-05-19</td>\n",
       "      <td>1.760417</td>\n",
       "      <td>1.770833</td>\n",
       "      <td>1.625000</td>\n",
       "      <td>1.708333</td>\n",
       "      <td>1.708333</td>\n",
       "      <td>6106800</td>\n",
       "    </tr>\n",
       "    <tr>\n",
       "      <th>3</th>\n",
       "      <td>1997-05-20</td>\n",
       "      <td>1.729167</td>\n",
       "      <td>1.750000</td>\n",
       "      <td>1.635417</td>\n",
       "      <td>1.635417</td>\n",
       "      <td>1.635417</td>\n",
       "      <td>5467200</td>\n",
       "    </tr>\n",
       "    <tr>\n",
       "      <th>4</th>\n",
       "      <td>1997-05-21</td>\n",
       "      <td>1.635417</td>\n",
       "      <td>1.645833</td>\n",
       "      <td>1.375000</td>\n",
       "      <td>1.427083</td>\n",
       "      <td>1.427083</td>\n",
       "      <td>18853200</td>\n",
       "    </tr>\n",
       "    <tr>\n",
       "      <th>5</th>\n",
       "      <td>1997-05-22</td>\n",
       "      <td>1.437500</td>\n",
       "      <td>1.447917</td>\n",
       "      <td>1.312500</td>\n",
       "      <td>1.395833</td>\n",
       "      <td>1.395833</td>\n",
       "      <td>11776800</td>\n",
       "    </tr>\n",
       "    <tr>\n",
       "      <th>6</th>\n",
       "      <td>1997-05-23</td>\n",
       "      <td>1.406250</td>\n",
       "      <td>1.520833</td>\n",
       "      <td>1.333333</td>\n",
       "      <td>1.500000</td>\n",
       "      <td>1.500000</td>\n",
       "      <td>15937200</td>\n",
       "    </tr>\n",
       "    <tr>\n",
       "      <th>7</th>\n",
       "      <td>1997-05-27</td>\n",
       "      <td>1.510417</td>\n",
       "      <td>1.645833</td>\n",
       "      <td>1.458333</td>\n",
       "      <td>1.583333</td>\n",
       "      <td>1.583333</td>\n",
       "      <td>8697600</td>\n",
       "    </tr>\n",
       "    <tr>\n",
       "      <th>8</th>\n",
       "      <td>1997-05-28</td>\n",
       "      <td>1.625000</td>\n",
       "      <td>1.635417</td>\n",
       "      <td>1.531250</td>\n",
       "      <td>1.531250</td>\n",
       "      <td>1.531250</td>\n",
       "      <td>4574400</td>\n",
       "    </tr>\n",
       "    <tr>\n",
       "      <th>9</th>\n",
       "      <td>1997-05-29</td>\n",
       "      <td>1.541667</td>\n",
       "      <td>1.541667</td>\n",
       "      <td>1.479167</td>\n",
       "      <td>1.505208</td>\n",
       "      <td>1.505208</td>\n",
       "      <td>3472800</td>\n",
       "    </tr>\n",
       "  </tbody>\n",
       "</table>\n",
       "</div>"
      ],
      "text/plain": [
       "         Date      Open      High       Low     Close  Adj Close    Volume\n",
       "0  1997-05-15  2.437500  2.500000  1.927083  1.958333   1.958333  72156000\n",
       "1  1997-05-16  1.968750  1.979167  1.708333  1.729167   1.729167  14700000\n",
       "2  1997-05-19  1.760417  1.770833  1.625000  1.708333   1.708333   6106800\n",
       "3  1997-05-20  1.729167  1.750000  1.635417  1.635417   1.635417   5467200\n",
       "4  1997-05-21  1.635417  1.645833  1.375000  1.427083   1.427083  18853200\n",
       "5  1997-05-22  1.437500  1.447917  1.312500  1.395833   1.395833  11776800\n",
       "6  1997-05-23  1.406250  1.520833  1.333333  1.500000   1.500000  15937200\n",
       "7  1997-05-27  1.510417  1.645833  1.458333  1.583333   1.583333   8697600\n",
       "8  1997-05-28  1.625000  1.635417  1.531250  1.531250   1.531250   4574400\n",
       "9  1997-05-29  1.541667  1.541667  1.479167  1.505208   1.505208   3472800"
      ]
     },
     "execution_count": 3,
     "metadata": {},
     "output_type": "execute_result"
    }
   ],
   "source": [
    "df.head(10)"
   ]
  },
  {
   "cell_type": "code",
   "execution_count": 4,
   "id": "be3995f8",
   "metadata": {
    "execution": {
     "iopub.execute_input": "2023-04-13T07:47:40.906042Z",
     "iopub.status.busy": "2023-04-13T07:47:40.905623Z",
     "iopub.status.idle": "2023-04-13T07:47:40.916343Z",
     "shell.execute_reply": "2023-04-13T07:47:40.915150Z"
    },
    "papermill": {
     "duration": 0.019245,
     "end_time": "2023-04-13T07:47:40.918542",
     "exception": false,
     "start_time": "2023-04-13T07:47:40.899297",
     "status": "completed"
    },
    "tags": []
   },
   "outputs": [
    {
     "data": {
      "text/plain": [
       "Date         0\n",
       "Open         0\n",
       "High         0\n",
       "Low          0\n",
       "Close        0\n",
       "Adj Close    0\n",
       "Volume       0\n",
       "dtype: int64"
      ]
     },
     "execution_count": 4,
     "metadata": {},
     "output_type": "execute_result"
    }
   ],
   "source": [
    "df.isnull().sum()"
   ]
  },
  {
   "cell_type": "code",
   "execution_count": 5,
   "id": "c5469373",
   "metadata": {
    "execution": {
     "iopub.execute_input": "2023-04-13T07:47:40.929810Z",
     "iopub.status.busy": "2023-04-13T07:47:40.929428Z",
     "iopub.status.idle": "2023-04-13T07:47:40.936610Z",
     "shell.execute_reply": "2023-04-13T07:47:40.935430Z"
    },
    "papermill": {
     "duration": 0.015324,
     "end_time": "2023-04-13T07:47:40.938888",
     "exception": false,
     "start_time": "2023-04-13T07:47:40.923564",
     "status": "completed"
    },
    "tags": []
   },
   "outputs": [
    {
     "data": {
      "text/plain": [
       "(6155, 7)"
      ]
     },
     "execution_count": 5,
     "metadata": {},
     "output_type": "execute_result"
    }
   ],
   "source": [
    "df.shape"
   ]
  },
  {
   "cell_type": "code",
   "execution_count": 6,
   "id": "97721178",
   "metadata": {
    "execution": {
     "iopub.execute_input": "2023-04-13T07:47:40.950517Z",
     "iopub.status.busy": "2023-04-13T07:47:40.950129Z",
     "iopub.status.idle": "2023-04-13T07:47:40.975386Z",
     "shell.execute_reply": "2023-04-13T07:47:40.973754Z"
    },
    "papermill": {
     "duration": 0.034481,
     "end_time": "2023-04-13T07:47:40.978449",
     "exception": false,
     "start_time": "2023-04-13T07:47:40.943968",
     "status": "completed"
    },
    "tags": []
   },
   "outputs": [
    {
     "name": "stdout",
     "output_type": "stream",
     "text": [
      "<class 'pandas.core.frame.DataFrame'>\n",
      "RangeIndex: 6155 entries, 0 to 6154\n",
      "Data columns (total 7 columns):\n",
      " #   Column     Non-Null Count  Dtype  \n",
      "---  ------     --------------  -----  \n",
      " 0   Date       6155 non-null   object \n",
      " 1   Open       6155 non-null   float64\n",
      " 2   High       6155 non-null   float64\n",
      " 3   Low        6155 non-null   float64\n",
      " 4   Close      6155 non-null   float64\n",
      " 5   Adj Close  6155 non-null   float64\n",
      " 6   Volume     6155 non-null   int64  \n",
      "dtypes: float64(5), int64(1), object(1)\n",
      "memory usage: 336.7+ KB\n"
     ]
    }
   ],
   "source": [
    "df.info()"
   ]
  },
  {
   "cell_type": "code",
   "execution_count": 7,
   "id": "17b3d805",
   "metadata": {
    "execution": {
     "iopub.execute_input": "2023-04-13T07:47:40.991042Z",
     "iopub.status.busy": "2023-04-13T07:47:40.990305Z",
     "iopub.status.idle": "2023-04-13T07:47:41.028242Z",
     "shell.execute_reply": "2023-04-13T07:47:41.026642Z"
    },
    "papermill": {
     "duration": 0.047637,
     "end_time": "2023-04-13T07:47:41.031329",
     "exception": false,
     "start_time": "2023-04-13T07:47:40.983692",
     "status": "completed"
    },
    "tags": []
   },
   "outputs": [
    {
     "data": {
      "text/html": [
       "<div>\n",
       "<style scoped>\n",
       "    .dataframe tbody tr th:only-of-type {\n",
       "        vertical-align: middle;\n",
       "    }\n",
       "\n",
       "    .dataframe tbody tr th {\n",
       "        vertical-align: top;\n",
       "    }\n",
       "\n",
       "    .dataframe thead th {\n",
       "        text-align: right;\n",
       "    }\n",
       "</style>\n",
       "<table border=\"1\" class=\"dataframe\">\n",
       "  <thead>\n",
       "    <tr style=\"text-align: right;\">\n",
       "      <th></th>\n",
       "      <th>count</th>\n",
       "      <th>mean</th>\n",
       "      <th>std</th>\n",
       "      <th>min</th>\n",
       "      <th>25%</th>\n",
       "      <th>50%</th>\n",
       "      <th>75%</th>\n",
       "      <th>max</th>\n",
       "    </tr>\n",
       "  </thead>\n",
       "  <tbody>\n",
       "    <tr>\n",
       "      <th>Open</th>\n",
       "      <td>6155.0</td>\n",
       "      <td>5.205563e+02</td>\n",
       "      <td>8.571617e+02</td>\n",
       "      <td>1.406250</td>\n",
       "      <td>3.875000e+01</td>\n",
       "      <td>9.267000e+01</td>\n",
       "      <td>5.289500e+02</td>\n",
       "      <td>3.744000e+03</td>\n",
       "    </tr>\n",
       "    <tr>\n",
       "      <th>High</th>\n",
       "      <td>6155.0</td>\n",
       "      <td>5.262161e+02</td>\n",
       "      <td>8.658210e+02</td>\n",
       "      <td>1.447917</td>\n",
       "      <td>3.951500e+01</td>\n",
       "      <td>9.419000e+01</td>\n",
       "      <td>5.353050e+02</td>\n",
       "      <td>3.773080e+03</td>\n",
       "    </tr>\n",
       "    <tr>\n",
       "      <th>Low</th>\n",
       "      <td>6155.0</td>\n",
       "      <td>5.142773e+02</td>\n",
       "      <td>8.472709e+02</td>\n",
       "      <td>1.312500</td>\n",
       "      <td>3.810500e+01</td>\n",
       "      <td>9.075000e+01</td>\n",
       "      <td>5.219500e+02</td>\n",
       "      <td>3.696790e+03</td>\n",
       "    </tr>\n",
       "    <tr>\n",
       "      <th>Close</th>\n",
       "      <td>6155.0</td>\n",
       "      <td>5.204298e+02</td>\n",
       "      <td>8.566685e+02</td>\n",
       "      <td>1.395833</td>\n",
       "      <td>3.882125e+01</td>\n",
       "      <td>9.264000e+01</td>\n",
       "      <td>5.294500e+02</td>\n",
       "      <td>3.731410e+03</td>\n",
       "    </tr>\n",
       "    <tr>\n",
       "      <th>Adj Close</th>\n",
       "      <td>6155.0</td>\n",
       "      <td>5.204298e+02</td>\n",
       "      <td>8.566685e+02</td>\n",
       "      <td>1.395833</td>\n",
       "      <td>3.882125e+01</td>\n",
       "      <td>9.264000e+01</td>\n",
       "      <td>5.294500e+02</td>\n",
       "      <td>3.731410e+03</td>\n",
       "    </tr>\n",
       "    <tr>\n",
       "      <th>Volume</th>\n",
       "      <td>6155.0</td>\n",
       "      <td>7.329010e+06</td>\n",
       "      <td>7.149521e+06</td>\n",
       "      <td>487200.000000</td>\n",
       "      <td>3.579350e+06</td>\n",
       "      <td>5.470000e+06</td>\n",
       "      <td>8.294950e+06</td>\n",
       "      <td>1.043292e+08</td>\n",
       "    </tr>\n",
       "  </tbody>\n",
       "</table>\n",
       "</div>"
      ],
      "text/plain": [
       "            count          mean           std            min           25%  \\\n",
       "Open       6155.0  5.205563e+02  8.571617e+02       1.406250  3.875000e+01   \n",
       "High       6155.0  5.262161e+02  8.658210e+02       1.447917  3.951500e+01   \n",
       "Low        6155.0  5.142773e+02  8.472709e+02       1.312500  3.810500e+01   \n",
       "Close      6155.0  5.204298e+02  8.566685e+02       1.395833  3.882125e+01   \n",
       "Adj Close  6155.0  5.204298e+02  8.566685e+02       1.395833  3.882125e+01   \n",
       "Volume     6155.0  7.329010e+06  7.149521e+06  487200.000000  3.579350e+06   \n",
       "\n",
       "                    50%           75%           max  \n",
       "Open       9.267000e+01  5.289500e+02  3.744000e+03  \n",
       "High       9.419000e+01  5.353050e+02  3.773080e+03  \n",
       "Low        9.075000e+01  5.219500e+02  3.696790e+03  \n",
       "Close      9.264000e+01  5.294500e+02  3.731410e+03  \n",
       "Adj Close  9.264000e+01  5.294500e+02  3.731410e+03  \n",
       "Volume     5.470000e+06  8.294950e+06  1.043292e+08  "
      ]
     },
     "execution_count": 7,
     "metadata": {},
     "output_type": "execute_result"
    }
   ],
   "source": [
    "df.describe().T"
   ]
  },
  {
   "cell_type": "code",
   "execution_count": 8,
   "id": "56f465e0",
   "metadata": {
    "execution": {
     "iopub.execute_input": "2023-04-13T07:47:41.043933Z",
     "iopub.status.busy": "2023-04-13T07:47:41.043004Z",
     "iopub.status.idle": "2023-04-13T07:47:41.053714Z",
     "shell.execute_reply": "2023-04-13T07:47:41.052794Z"
    },
    "papermill": {
     "duration": 0.01949,
     "end_time": "2023-04-13T07:47:41.056089",
     "exception": false,
     "start_time": "2023-04-13T07:47:41.036599",
     "status": "completed"
    },
    "tags": []
   },
   "outputs": [],
   "source": [
    "train, test = train_test_split(df, test_size = 0.2)"
   ]
  },
  {
   "cell_type": "code",
   "execution_count": 9,
   "id": "907705ec",
   "metadata": {
    "execution": {
     "iopub.execute_input": "2023-04-13T07:47:41.067823Z",
     "iopub.status.busy": "2023-04-13T07:47:41.067360Z",
     "iopub.status.idle": "2023-04-13T07:47:41.084061Z",
     "shell.execute_reply": "2023-04-13T07:47:41.082484Z"
    },
    "papermill": {
     "duration": 0.025654,
     "end_time": "2023-04-13T07:47:41.086889",
     "exception": false,
     "start_time": "2023-04-13T07:47:41.061235",
     "status": "completed"
    },
    "tags": []
   },
   "outputs": [
    {
     "data": {
      "text/html": [
       "<div>\n",
       "<style scoped>\n",
       "    .dataframe tbody tr th:only-of-type {\n",
       "        vertical-align: middle;\n",
       "    }\n",
       "\n",
       "    .dataframe tbody tr th {\n",
       "        vertical-align: top;\n",
       "    }\n",
       "\n",
       "    .dataframe thead th {\n",
       "        text-align: right;\n",
       "    }\n",
       "</style>\n",
       "<table border=\"1\" class=\"dataframe\">\n",
       "  <thead>\n",
       "    <tr style=\"text-align: right;\">\n",
       "      <th></th>\n",
       "      <th>Date</th>\n",
       "      <th>Open</th>\n",
       "      <th>High</th>\n",
       "      <th>Low</th>\n",
       "      <th>Close</th>\n",
       "      <th>Adj Close</th>\n",
       "      <th>Volume</th>\n",
       "    </tr>\n",
       "  </thead>\n",
       "  <tbody>\n",
       "    <tr>\n",
       "      <th>5875</th>\n",
       "      <td>2020-09-18</td>\n",
       "      <td>3031.739990</td>\n",
       "      <td>3037.800049</td>\n",
       "      <td>2905.540039</td>\n",
       "      <td>2954.909912</td>\n",
       "      <td>2954.909912</td>\n",
       "      <td>8892600</td>\n",
       "    </tr>\n",
       "    <tr>\n",
       "      <th>353</th>\n",
       "      <td>1998-10-08</td>\n",
       "      <td>13.812500</td>\n",
       "      <td>14.666667</td>\n",
       "      <td>13.333333</td>\n",
       "      <td>14.364583</td>\n",
       "      <td>14.364583</td>\n",
       "      <td>30384600</td>\n",
       "    </tr>\n",
       "    <tr>\n",
       "      <th>1032</th>\n",
       "      <td>2001-06-19</td>\n",
       "      <td>12.450000</td>\n",
       "      <td>12.650000</td>\n",
       "      <td>11.200000</td>\n",
       "      <td>11.360000</td>\n",
       "      <td>11.360000</td>\n",
       "      <td>6109500</td>\n",
       "    </tr>\n",
       "    <tr>\n",
       "      <th>1025</th>\n",
       "      <td>2001-06-08</td>\n",
       "      <td>16.250000</td>\n",
       "      <td>16.330000</td>\n",
       "      <td>15.650000</td>\n",
       "      <td>15.700000</td>\n",
       "      <td>15.700000</td>\n",
       "      <td>2508300</td>\n",
       "    </tr>\n",
       "    <tr>\n",
       "      <th>1578</th>\n",
       "      <td>2003-08-25</td>\n",
       "      <td>44.849998</td>\n",
       "      <td>46.160000</td>\n",
       "      <td>44.529999</td>\n",
       "      <td>45.849998</td>\n",
       "      <td>45.849998</td>\n",
       "      <td>7103500</td>\n",
       "    </tr>\n",
       "    <tr>\n",
       "      <th>5516</th>\n",
       "      <td>2019-04-17</td>\n",
       "      <td>1872.989990</td>\n",
       "      <td>1876.469971</td>\n",
       "      <td>1860.439941</td>\n",
       "      <td>1864.819946</td>\n",
       "      <td>1864.819946</td>\n",
       "      <td>2893500</td>\n",
       "    </tr>\n",
       "    <tr>\n",
       "      <th>4101</th>\n",
       "      <td>2013-09-03</td>\n",
       "      <td>284.730011</td>\n",
       "      <td>291.390015</td>\n",
       "      <td>284.170013</td>\n",
       "      <td>288.799988</td>\n",
       "      <td>288.799988</td>\n",
       "      <td>2897600</td>\n",
       "    </tr>\n",
       "    <tr>\n",
       "      <th>2684</th>\n",
       "      <td>2008-01-16</td>\n",
       "      <td>79.580002</td>\n",
       "      <td>82.360001</td>\n",
       "      <td>78.440002</td>\n",
       "      <td>80.349998</td>\n",
       "      <td>80.349998</td>\n",
       "      <td>12407000</td>\n",
       "    </tr>\n",
       "    <tr>\n",
       "      <th>2399</th>\n",
       "      <td>2006-11-27</td>\n",
       "      <td>42.180000</td>\n",
       "      <td>42.799999</td>\n",
       "      <td>40.720001</td>\n",
       "      <td>40.849998</td>\n",
       "      <td>40.849998</td>\n",
       "      <td>8972800</td>\n",
       "    </tr>\n",
       "    <tr>\n",
       "      <th>3047</th>\n",
       "      <td>2009-06-25</td>\n",
       "      <td>79.099998</td>\n",
       "      <td>82.230003</td>\n",
       "      <td>79.029999</td>\n",
       "      <td>82.199997</td>\n",
       "      <td>82.199997</td>\n",
       "      <td>7360400</td>\n",
       "    </tr>\n",
       "  </tbody>\n",
       "</table>\n",
       "</div>"
      ],
      "text/plain": [
       "            Date         Open         High          Low        Close  \\\n",
       "5875  2020-09-18  3031.739990  3037.800049  2905.540039  2954.909912   \n",
       "353   1998-10-08    13.812500    14.666667    13.333333    14.364583   \n",
       "1032  2001-06-19    12.450000    12.650000    11.200000    11.360000   \n",
       "1025  2001-06-08    16.250000    16.330000    15.650000    15.700000   \n",
       "1578  2003-08-25    44.849998    46.160000    44.529999    45.849998   \n",
       "5516  2019-04-17  1872.989990  1876.469971  1860.439941  1864.819946   \n",
       "4101  2013-09-03   284.730011   291.390015   284.170013   288.799988   \n",
       "2684  2008-01-16    79.580002    82.360001    78.440002    80.349998   \n",
       "2399  2006-11-27    42.180000    42.799999    40.720001    40.849998   \n",
       "3047  2009-06-25    79.099998    82.230003    79.029999    82.199997   \n",
       "\n",
       "        Adj Close    Volume  \n",
       "5875  2954.909912   8892600  \n",
       "353     14.364583  30384600  \n",
       "1032    11.360000   6109500  \n",
       "1025    15.700000   2508300  \n",
       "1578    45.849998   7103500  \n",
       "5516  1864.819946   2893500  \n",
       "4101   288.799988   2897600  \n",
       "2684    80.349998  12407000  \n",
       "2399    40.849998   8972800  \n",
       "3047    82.199997   7360400  "
      ]
     },
     "execution_count": 9,
     "metadata": {},
     "output_type": "execute_result"
    }
   ],
   "source": [
    "train.head(10)"
   ]
  },
  {
   "cell_type": "code",
   "execution_count": 10,
   "id": "e73a6598",
   "metadata": {
    "execution": {
     "iopub.execute_input": "2023-04-13T07:47:41.100424Z",
     "iopub.status.busy": "2023-04-13T07:47:41.099948Z",
     "iopub.status.idle": "2023-04-13T07:47:41.116146Z",
     "shell.execute_reply": "2023-04-13T07:47:41.114974Z"
    },
    "papermill": {
     "duration": 0.026011,
     "end_time": "2023-04-13T07:47:41.118554",
     "exception": false,
     "start_time": "2023-04-13T07:47:41.092543",
     "status": "completed"
    },
    "tags": []
   },
   "outputs": [
    {
     "data": {
      "text/html": [
       "<div>\n",
       "<style scoped>\n",
       "    .dataframe tbody tr th:only-of-type {\n",
       "        vertical-align: middle;\n",
       "    }\n",
       "\n",
       "    .dataframe tbody tr th {\n",
       "        vertical-align: top;\n",
       "    }\n",
       "\n",
       "    .dataframe thead th {\n",
       "        text-align: right;\n",
       "    }\n",
       "</style>\n",
       "<table border=\"1\" class=\"dataframe\">\n",
       "  <thead>\n",
       "    <tr style=\"text-align: right;\">\n",
       "      <th></th>\n",
       "      <th>Date</th>\n",
       "      <th>Open</th>\n",
       "      <th>High</th>\n",
       "      <th>Low</th>\n",
       "      <th>Close</th>\n",
       "      <th>Adj Close</th>\n",
       "      <th>Volume</th>\n",
       "    </tr>\n",
       "  </thead>\n",
       "  <tbody>\n",
       "    <tr>\n",
       "      <th>780</th>\n",
       "      <td>2000-06-19</td>\n",
       "      <td>45.500000</td>\n",
       "      <td>45.875000</td>\n",
       "      <td>43.500000</td>\n",
       "      <td>45.312500</td>\n",
       "      <td>45.312500</td>\n",
       "      <td>5151500</td>\n",
       "    </tr>\n",
       "    <tr>\n",
       "      <th>1667</th>\n",
       "      <td>2003-12-31</td>\n",
       "      <td>52.820000</td>\n",
       "      <td>53.480000</td>\n",
       "      <td>52.400002</td>\n",
       "      <td>52.619999</td>\n",
       "      <td>52.619999</td>\n",
       "      <td>5307200</td>\n",
       "    </tr>\n",
       "    <tr>\n",
       "      <th>5483</th>\n",
       "      <td>2019-03-01</td>\n",
       "      <td>1655.130005</td>\n",
       "      <td>1674.260010</td>\n",
       "      <td>1651.000000</td>\n",
       "      <td>1671.729980</td>\n",
       "      <td>1671.729980</td>\n",
       "      <td>4974900</td>\n",
       "    </tr>\n",
       "    <tr>\n",
       "      <th>1509</th>\n",
       "      <td>2003-05-16</td>\n",
       "      <td>32.509998</td>\n",
       "      <td>33.160000</td>\n",
       "      <td>32.380001</td>\n",
       "      <td>33.049999</td>\n",
       "      <td>33.049999</td>\n",
       "      <td>7644100</td>\n",
       "    </tr>\n",
       "    <tr>\n",
       "      <th>474</th>\n",
       "      <td>1999-04-05</td>\n",
       "      <td>86.312500</td>\n",
       "      <td>93.750000</td>\n",
       "      <td>85.875000</td>\n",
       "      <td>93.250000</td>\n",
       "      <td>93.250000</td>\n",
       "      <td>15916800</td>\n",
       "    </tr>\n",
       "    <tr>\n",
       "      <th>2468</th>\n",
       "      <td>2007-03-09</td>\n",
       "      <td>38.480000</td>\n",
       "      <td>38.889999</td>\n",
       "      <td>38.000000</td>\n",
       "      <td>38.840000</td>\n",
       "      <td>38.840000</td>\n",
       "      <td>6200100</td>\n",
       "    </tr>\n",
       "    <tr>\n",
       "      <th>3272</th>\n",
       "      <td>2010-05-18</td>\n",
       "      <td>130.139999</td>\n",
       "      <td>131.250000</td>\n",
       "      <td>125.510002</td>\n",
       "      <td>126.279999</td>\n",
       "      <td>126.279999</td>\n",
       "      <td>5256900</td>\n",
       "    </tr>\n",
       "    <tr>\n",
       "      <th>5759</th>\n",
       "      <td>2020-04-03</td>\n",
       "      <td>1911.150024</td>\n",
       "      <td>1926.329956</td>\n",
       "      <td>1889.150024</td>\n",
       "      <td>1906.589966</td>\n",
       "      <td>1906.589966</td>\n",
       "      <td>3609900</td>\n",
       "    </tr>\n",
       "    <tr>\n",
       "      <th>3345</th>\n",
       "      <td>2010-08-31</td>\n",
       "      <td>122.849998</td>\n",
       "      <td>125.900002</td>\n",
       "      <td>122.500000</td>\n",
       "      <td>124.830002</td>\n",
       "      <td>124.830002</td>\n",
       "      <td>4225600</td>\n",
       "    </tr>\n",
       "    <tr>\n",
       "      <th>1776</th>\n",
       "      <td>2004-06-08</td>\n",
       "      <td>51.299999</td>\n",
       "      <td>52.119999</td>\n",
       "      <td>51.099998</td>\n",
       "      <td>51.939999</td>\n",
       "      <td>51.939999</td>\n",
       "      <td>5994700</td>\n",
       "    </tr>\n",
       "  </tbody>\n",
       "</table>\n",
       "</div>"
      ],
      "text/plain": [
       "            Date         Open         High          Low        Close  \\\n",
       "780   2000-06-19    45.500000    45.875000    43.500000    45.312500   \n",
       "1667  2003-12-31    52.820000    53.480000    52.400002    52.619999   \n",
       "5483  2019-03-01  1655.130005  1674.260010  1651.000000  1671.729980   \n",
       "1509  2003-05-16    32.509998    33.160000    32.380001    33.049999   \n",
       "474   1999-04-05    86.312500    93.750000    85.875000    93.250000   \n",
       "2468  2007-03-09    38.480000    38.889999    38.000000    38.840000   \n",
       "3272  2010-05-18   130.139999   131.250000   125.510002   126.279999   \n",
       "5759  2020-04-03  1911.150024  1926.329956  1889.150024  1906.589966   \n",
       "3345  2010-08-31   122.849998   125.900002   122.500000   124.830002   \n",
       "1776  2004-06-08    51.299999    52.119999    51.099998    51.939999   \n",
       "\n",
       "        Adj Close    Volume  \n",
       "780     45.312500   5151500  \n",
       "1667    52.619999   5307200  \n",
       "5483  1671.729980   4974900  \n",
       "1509    33.049999   7644100  \n",
       "474     93.250000  15916800  \n",
       "2468    38.840000   6200100  \n",
       "3272   126.279999   5256900  \n",
       "5759  1906.589966   3609900  \n",
       "3345   124.830002   4225600  \n",
       "1776    51.939999   5994700  "
      ]
     },
     "execution_count": 10,
     "metadata": {},
     "output_type": "execute_result"
    }
   ],
   "source": [
    "test.head(10)"
   ]
  },
  {
   "cell_type": "code",
   "execution_count": 11,
   "id": "1ad8429f",
   "metadata": {
    "execution": {
     "iopub.execute_input": "2023-04-13T07:47:41.132022Z",
     "iopub.status.busy": "2023-04-13T07:47:41.131301Z",
     "iopub.status.idle": "2023-04-13T07:47:41.137947Z",
     "shell.execute_reply": "2023-04-13T07:47:41.137176Z"
    },
    "papermill": {
     "duration": 0.015623,
     "end_time": "2023-04-13T07:47:41.140037",
     "exception": false,
     "start_time": "2023-04-13T07:47:41.124414",
     "status": "completed"
    },
    "tags": []
   },
   "outputs": [],
   "source": [
    "x_train = train[['Open', 'High', 'Low', 'Volume']].values\n",
    "x_test = test[['Open', 'High', 'Low', 'Volume']].values"
   ]
  },
  {
   "cell_type": "code",
   "execution_count": 12,
   "id": "06d7f727",
   "metadata": {
    "execution": {
     "iopub.execute_input": "2023-04-13T07:47:41.152774Z",
     "iopub.status.busy": "2023-04-13T07:47:41.151981Z",
     "iopub.status.idle": "2023-04-13T07:47:41.157460Z",
     "shell.execute_reply": "2023-04-13T07:47:41.156373Z"
    },
    "papermill": {
     "duration": 0.014229,
     "end_time": "2023-04-13T07:47:41.159718",
     "exception": false,
     "start_time": "2023-04-13T07:47:41.145489",
     "status": "completed"
    },
    "tags": []
   },
   "outputs": [],
   "source": [
    "y_train = train['Close'].values\n",
    "y_test = test['Close'].values"
   ]
  },
  {
   "cell_type": "code",
   "execution_count": 13,
   "id": "663712c5",
   "metadata": {
    "execution": {
     "iopub.execute_input": "2023-04-13T07:47:41.172673Z",
     "iopub.status.busy": "2023-04-13T07:47:41.172267Z",
     "iopub.status.idle": "2023-04-13T07:47:41.210738Z",
     "shell.execute_reply": "2023-04-13T07:47:41.209486Z"
    },
    "papermill": {
     "duration": 0.049559,
     "end_time": "2023-04-13T07:47:41.214963",
     "exception": false,
     "start_time": "2023-04-13T07:47:41.165404",
     "status": "completed"
    },
    "tags": []
   },
   "outputs": [
    {
     "data": {
      "text/plain": [
       "LinearRegression()"
      ]
     },
     "execution_count": 13,
     "metadata": {},
     "output_type": "execute_result"
    }
   ],
   "source": [
    "model = LinearRegression()\n",
    "model.fit(x_train, y_train)"
   ]
  },
  {
   "cell_type": "code",
   "execution_count": 14,
   "id": "13972232",
   "metadata": {
    "execution": {
     "iopub.execute_input": "2023-04-13T07:47:41.248041Z",
     "iopub.status.busy": "2023-04-13T07:47:41.247216Z",
     "iopub.status.idle": "2023-04-13T07:47:41.255562Z",
     "shell.execute_reply": "2023-04-13T07:47:41.254248Z"
    },
    "papermill": {
     "duration": 0.029879,
     "end_time": "2023-04-13T07:47:41.259700",
     "exception": false,
     "start_time": "2023-04-13T07:47:41.229821",
     "status": "completed"
    },
    "tags": []
   },
   "outputs": [],
   "source": [
    "y_pred = model.predict(x_test)"
   ]
  },
  {
   "cell_type": "code",
   "execution_count": 15,
   "id": "b9d218a3",
   "metadata": {
    "execution": {
     "iopub.execute_input": "2023-04-13T07:47:41.292605Z",
     "iopub.status.busy": "2023-04-13T07:47:41.291826Z",
     "iopub.status.idle": "2023-04-13T07:47:41.303423Z",
     "shell.execute_reply": "2023-04-13T07:47:41.302141Z"
    },
    "papermill": {
     "duration": 0.033727,
     "end_time": "2023-04-13T07:47:41.308381",
     "exception": false,
     "start_time": "2023-04-13T07:47:41.274654",
     "status": "completed"
    },
    "tags": []
   },
   "outputs": [
    {
     "name": "stdout",
     "output_type": "stream",
     "text": [
      "[1.79285433]\n"
     ]
    }
   ],
   "source": [
    "result = model.predict([[2.437500, 2.500000, 1.927083, 72156000]])\n",
    "print(result)"
   ]
  }
 ],
 "metadata": {
  "kernelspec": {
   "display_name": "Python 3",
   "language": "python",
   "name": "python3"
  },
  "language_info": {
   "codemirror_mode": {
    "name": "ipython",
    "version": 3
   },
   "file_extension": ".py",
   "mimetype": "text/x-python",
   "name": "python",
   "nbconvert_exporter": "python",
   "pygments_lexer": "ipython3",
   "version": "3.7.12"
  },
  "papermill": {
   "default_parameters": {},
   "duration": 12.954704,
   "end_time": "2023-04-13T07:47:42.239626",
   "environment_variables": {},
   "exception": null,
   "input_path": "__notebook__.ipynb",
   "output_path": "__notebook__.ipynb",
   "parameters": {},
   "start_time": "2023-04-13T07:47:29.284922",
   "version": "2.4.0"
  }
 },
 "nbformat": 4,
 "nbformat_minor": 5
}
