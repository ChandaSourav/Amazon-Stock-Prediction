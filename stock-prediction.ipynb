{
 "cells": [
  {
   "cell_type": "code",
   "execution_count": 1,
   "id": "0fae0d71",
   "metadata": {
    "_cell_guid": "b1076dfc-b9ad-4769-8c92-a6c4dae69d19",
    "_uuid": "8f2839f25d086af736a60e9eeb907d3b93b6e0e5",
    "execution": {
     "iopub.execute_input": "2023-04-13T09:53:24.530157Z",
     "iopub.status.busy": "2023-04-13T09:53:24.529743Z",
     "iopub.status.idle": "2023-04-13T09:53:25.871884Z",
     "shell.execute_reply": "2023-04-13T09:53:25.870777Z"
    },
    "papermill": {
     "duration": 1.355119,
     "end_time": "2023-04-13T09:53:25.875372",
     "exception": false,
     "start_time": "2023-04-13T09:53:24.520253",
     "status": "completed"
    },
    "tags": []
   },
   "outputs": [
    {
     "name": "stdout",
     "output_type": "stream",
     "text": [
      "/kaggle/input/amazon-stock-price-all-time/Amazon.csv\n"
     ]
    }
   ],
   "source": [
    "import numpy as np \n",
    "import pandas as pd\n",
    "import matplotlib.pyplot as plt\n",
    "from sklearn.model_selection import train_test_split\n",
    "from sklearn.linear_model import LinearRegression\n",
    "from sklearn.metrics import mean_squared_error, r2_score, mean_absolute_error, mean_absolute_percentage_error\n",
    "import datetime\n",
    "\n",
    "import os\n",
    "for dirname, _, filenames in os.walk('/kaggle/input'):\n",
    "    for filename in filenames:\n",
    "        print(os.path.join(dirname, filename))\n",
    "\n",
    "import warnings\n",
    "warnings.filterwarnings('ignore')"
   ]
  },
  {
   "cell_type": "code",
   "execution_count": 2,
   "id": "709268e1",
   "metadata": {
    "execution": {
     "iopub.execute_input": "2023-04-13T09:53:25.890558Z",
     "iopub.status.busy": "2023-04-13T09:53:25.890074Z",
     "iopub.status.idle": "2023-04-13T09:53:25.926562Z",
     "shell.execute_reply": "2023-04-13T09:53:25.924581Z"
    },
    "papermill": {
     "duration": 0.047612,
     "end_time": "2023-04-13T09:53:25.929747",
     "exception": false,
     "start_time": "2023-04-13T09:53:25.882135",
     "status": "completed"
    },
    "tags": []
   },
   "outputs": [],
   "source": [
    "df = pd.read_csv(\"/kaggle/input/amazon-stock-price-all-time/Amazon.csv\")"
   ]
  },
  {
   "cell_type": "code",
   "execution_count": 3,
   "id": "32eacaa7",
   "metadata": {
    "execution": {
     "iopub.execute_input": "2023-04-13T09:53:25.945399Z",
     "iopub.status.busy": "2023-04-13T09:53:25.944927Z",
     "iopub.status.idle": "2023-04-13T09:53:25.951375Z",
     "shell.execute_reply": "2023-04-13T09:53:25.950230Z"
    },
    "papermill": {
     "duration": 0.017546,
     "end_time": "2023-04-13T09:53:25.953933",
     "exception": false,
     "start_time": "2023-04-13T09:53:25.936387",
     "status": "completed"
    },
    "tags": []
   },
   "outputs": [],
   "source": [
    "viz = df.copy()"
   ]
  },
  {
   "cell_type": "code",
   "execution_count": 4,
   "id": "27321d3d",
   "metadata": {
    "execution": {
     "iopub.execute_input": "2023-04-13T09:53:25.968784Z",
     "iopub.status.busy": "2023-04-13T09:53:25.968302Z",
     "iopub.status.idle": "2023-04-13T09:53:26.005012Z",
     "shell.execute_reply": "2023-04-13T09:53:26.003625Z"
    },
    "papermill": {
     "duration": 0.047801,
     "end_time": "2023-04-13T09:53:26.008213",
     "exception": false,
     "start_time": "2023-04-13T09:53:25.960412",
     "status": "completed"
    },
    "tags": []
   },
   "outputs": [
    {
     "data": {
      "text/html": [
       "<div>\n",
       "<style scoped>\n",
       "    .dataframe tbody tr th:only-of-type {\n",
       "        vertical-align: middle;\n",
       "    }\n",
       "\n",
       "    .dataframe tbody tr th {\n",
       "        vertical-align: top;\n",
       "    }\n",
       "\n",
       "    .dataframe thead th {\n",
       "        text-align: right;\n",
       "    }\n",
       "</style>\n",
       "<table border=\"1\" class=\"dataframe\">\n",
       "  <thead>\n",
       "    <tr style=\"text-align: right;\">\n",
       "      <th></th>\n",
       "      <th>Date</th>\n",
       "      <th>Open</th>\n",
       "      <th>High</th>\n",
       "      <th>Low</th>\n",
       "      <th>Close</th>\n",
       "      <th>Adj Close</th>\n",
       "      <th>Volume</th>\n",
       "    </tr>\n",
       "  </thead>\n",
       "  <tbody>\n",
       "    <tr>\n",
       "      <th>0</th>\n",
       "      <td>1997-05-15</td>\n",
       "      <td>2.437500</td>\n",
       "      <td>2.500000</td>\n",
       "      <td>1.927083</td>\n",
       "      <td>1.958333</td>\n",
       "      <td>1.958333</td>\n",
       "      <td>72156000</td>\n",
       "    </tr>\n",
       "    <tr>\n",
       "      <th>1</th>\n",
       "      <td>1997-05-16</td>\n",
       "      <td>1.968750</td>\n",
       "      <td>1.979167</td>\n",
       "      <td>1.708333</td>\n",
       "      <td>1.729167</td>\n",
       "      <td>1.729167</td>\n",
       "      <td>14700000</td>\n",
       "    </tr>\n",
       "    <tr>\n",
       "      <th>2</th>\n",
       "      <td>1997-05-19</td>\n",
       "      <td>1.760417</td>\n",
       "      <td>1.770833</td>\n",
       "      <td>1.625000</td>\n",
       "      <td>1.708333</td>\n",
       "      <td>1.708333</td>\n",
       "      <td>6106800</td>\n",
       "    </tr>\n",
       "    <tr>\n",
       "      <th>3</th>\n",
       "      <td>1997-05-20</td>\n",
       "      <td>1.729167</td>\n",
       "      <td>1.750000</td>\n",
       "      <td>1.635417</td>\n",
       "      <td>1.635417</td>\n",
       "      <td>1.635417</td>\n",
       "      <td>5467200</td>\n",
       "    </tr>\n",
       "    <tr>\n",
       "      <th>4</th>\n",
       "      <td>1997-05-21</td>\n",
       "      <td>1.635417</td>\n",
       "      <td>1.645833</td>\n",
       "      <td>1.375000</td>\n",
       "      <td>1.427083</td>\n",
       "      <td>1.427083</td>\n",
       "      <td>18853200</td>\n",
       "    </tr>\n",
       "    <tr>\n",
       "      <th>5</th>\n",
       "      <td>1997-05-22</td>\n",
       "      <td>1.437500</td>\n",
       "      <td>1.447917</td>\n",
       "      <td>1.312500</td>\n",
       "      <td>1.395833</td>\n",
       "      <td>1.395833</td>\n",
       "      <td>11776800</td>\n",
       "    </tr>\n",
       "    <tr>\n",
       "      <th>6</th>\n",
       "      <td>1997-05-23</td>\n",
       "      <td>1.406250</td>\n",
       "      <td>1.520833</td>\n",
       "      <td>1.333333</td>\n",
       "      <td>1.500000</td>\n",
       "      <td>1.500000</td>\n",
       "      <td>15937200</td>\n",
       "    </tr>\n",
       "    <tr>\n",
       "      <th>7</th>\n",
       "      <td>1997-05-27</td>\n",
       "      <td>1.510417</td>\n",
       "      <td>1.645833</td>\n",
       "      <td>1.458333</td>\n",
       "      <td>1.583333</td>\n",
       "      <td>1.583333</td>\n",
       "      <td>8697600</td>\n",
       "    </tr>\n",
       "    <tr>\n",
       "      <th>8</th>\n",
       "      <td>1997-05-28</td>\n",
       "      <td>1.625000</td>\n",
       "      <td>1.635417</td>\n",
       "      <td>1.531250</td>\n",
       "      <td>1.531250</td>\n",
       "      <td>1.531250</td>\n",
       "      <td>4574400</td>\n",
       "    </tr>\n",
       "    <tr>\n",
       "      <th>9</th>\n",
       "      <td>1997-05-29</td>\n",
       "      <td>1.541667</td>\n",
       "      <td>1.541667</td>\n",
       "      <td>1.479167</td>\n",
       "      <td>1.505208</td>\n",
       "      <td>1.505208</td>\n",
       "      <td>3472800</td>\n",
       "    </tr>\n",
       "  </tbody>\n",
       "</table>\n",
       "</div>"
      ],
      "text/plain": [
       "         Date      Open      High       Low     Close  Adj Close    Volume\n",
       "0  1997-05-15  2.437500  2.500000  1.927083  1.958333   1.958333  72156000\n",
       "1  1997-05-16  1.968750  1.979167  1.708333  1.729167   1.729167  14700000\n",
       "2  1997-05-19  1.760417  1.770833  1.625000  1.708333   1.708333   6106800\n",
       "3  1997-05-20  1.729167  1.750000  1.635417  1.635417   1.635417   5467200\n",
       "4  1997-05-21  1.635417  1.645833  1.375000  1.427083   1.427083  18853200\n",
       "5  1997-05-22  1.437500  1.447917  1.312500  1.395833   1.395833  11776800\n",
       "6  1997-05-23  1.406250  1.520833  1.333333  1.500000   1.500000  15937200\n",
       "7  1997-05-27  1.510417  1.645833  1.458333  1.583333   1.583333   8697600\n",
       "8  1997-05-28  1.625000  1.635417  1.531250  1.531250   1.531250   4574400\n",
       "9  1997-05-29  1.541667  1.541667  1.479167  1.505208   1.505208   3472800"
      ]
     },
     "execution_count": 4,
     "metadata": {},
     "output_type": "execute_result"
    }
   ],
   "source": [
    "df.head(10)"
   ]
  },
  {
   "cell_type": "code",
   "execution_count": 5,
   "id": "a77685e2",
   "metadata": {
    "execution": {
     "iopub.execute_input": "2023-04-13T09:53:26.024727Z",
     "iopub.status.busy": "2023-04-13T09:53:26.023562Z",
     "iopub.status.idle": "2023-04-13T09:53:26.036269Z",
     "shell.execute_reply": "2023-04-13T09:53:26.034761Z"
    },
    "papermill": {
     "duration": 0.023738,
     "end_time": "2023-04-13T09:53:26.038796",
     "exception": false,
     "start_time": "2023-04-13T09:53:26.015058",
     "status": "completed"
    },
    "tags": []
   },
   "outputs": [
    {
     "data": {
      "text/plain": [
       "Date         0\n",
       "Open         0\n",
       "High         0\n",
       "Low          0\n",
       "Close        0\n",
       "Adj Close    0\n",
       "Volume       0\n",
       "dtype: int64"
      ]
     },
     "execution_count": 5,
     "metadata": {},
     "output_type": "execute_result"
    }
   ],
   "source": [
    "df.isnull().sum()"
   ]
  },
  {
   "cell_type": "code",
   "execution_count": 6,
   "id": "d8d59a3f",
   "metadata": {
    "execution": {
     "iopub.execute_input": "2023-04-13T09:53:26.054650Z",
     "iopub.status.busy": "2023-04-13T09:53:26.054256Z",
     "iopub.status.idle": "2023-04-13T09:53:26.061714Z",
     "shell.execute_reply": "2023-04-13T09:53:26.060381Z"
    },
    "papermill": {
     "duration": 0.018544,
     "end_time": "2023-04-13T09:53:26.064275",
     "exception": false,
     "start_time": "2023-04-13T09:53:26.045731",
     "status": "completed"
    },
    "tags": []
   },
   "outputs": [
    {
     "data": {
      "text/plain": [
       "(6155, 7)"
      ]
     },
     "execution_count": 6,
     "metadata": {},
     "output_type": "execute_result"
    }
   ],
   "source": [
    "df.shape"
   ]
  },
  {
   "cell_type": "code",
   "execution_count": 7,
   "id": "d5ff1d5d",
   "metadata": {
    "execution": {
     "iopub.execute_input": "2023-04-13T09:53:26.080560Z",
     "iopub.status.busy": "2023-04-13T09:53:26.079649Z",
     "iopub.status.idle": "2023-04-13T09:53:26.111046Z",
     "shell.execute_reply": "2023-04-13T09:53:26.109247Z"
    },
    "papermill": {
     "duration": 0.042783,
     "end_time": "2023-04-13T09:53:26.114114",
     "exception": false,
     "start_time": "2023-04-13T09:53:26.071331",
     "status": "completed"
    },
    "tags": []
   },
   "outputs": [
    {
     "name": "stdout",
     "output_type": "stream",
     "text": [
      "<class 'pandas.core.frame.DataFrame'>\n",
      "RangeIndex: 6155 entries, 0 to 6154\n",
      "Data columns (total 7 columns):\n",
      " #   Column     Non-Null Count  Dtype  \n",
      "---  ------     --------------  -----  \n",
      " 0   Date       6155 non-null   object \n",
      " 1   Open       6155 non-null   float64\n",
      " 2   High       6155 non-null   float64\n",
      " 3   Low        6155 non-null   float64\n",
      " 4   Close      6155 non-null   float64\n",
      " 5   Adj Close  6155 non-null   float64\n",
      " 6   Volume     6155 non-null   int64  \n",
      "dtypes: float64(5), int64(1), object(1)\n",
      "memory usage: 336.7+ KB\n"
     ]
    }
   ],
   "source": [
    "df.info()"
   ]
  },
  {
   "cell_type": "code",
   "execution_count": 8,
   "id": "91664c05",
   "metadata": {
    "execution": {
     "iopub.execute_input": "2023-04-13T09:53:26.130569Z",
     "iopub.status.busy": "2023-04-13T09:53:26.130155Z",
     "iopub.status.idle": "2023-04-13T09:53:26.170459Z",
     "shell.execute_reply": "2023-04-13T09:53:26.169016Z"
    },
    "papermill": {
     "duration": 0.051793,
     "end_time": "2023-04-13T09:53:26.173340",
     "exception": false,
     "start_time": "2023-04-13T09:53:26.121547",
     "status": "completed"
    },
    "tags": []
   },
   "outputs": [
    {
     "data": {
      "text/html": [
       "<div>\n",
       "<style scoped>\n",
       "    .dataframe tbody tr th:only-of-type {\n",
       "        vertical-align: middle;\n",
       "    }\n",
       "\n",
       "    .dataframe tbody tr th {\n",
       "        vertical-align: top;\n",
       "    }\n",
       "\n",
       "    .dataframe thead th {\n",
       "        text-align: right;\n",
       "    }\n",
       "</style>\n",
       "<table border=\"1\" class=\"dataframe\">\n",
       "  <thead>\n",
       "    <tr style=\"text-align: right;\">\n",
       "      <th></th>\n",
       "      <th>count</th>\n",
       "      <th>mean</th>\n",
       "      <th>std</th>\n",
       "      <th>min</th>\n",
       "      <th>25%</th>\n",
       "      <th>50%</th>\n",
       "      <th>75%</th>\n",
       "      <th>max</th>\n",
       "    </tr>\n",
       "  </thead>\n",
       "  <tbody>\n",
       "    <tr>\n",
       "      <th>Open</th>\n",
       "      <td>6155.0</td>\n",
       "      <td>5.205563e+02</td>\n",
       "      <td>8.571617e+02</td>\n",
       "      <td>1.406250</td>\n",
       "      <td>3.875000e+01</td>\n",
       "      <td>9.267000e+01</td>\n",
       "      <td>5.289500e+02</td>\n",
       "      <td>3.744000e+03</td>\n",
       "    </tr>\n",
       "    <tr>\n",
       "      <th>High</th>\n",
       "      <td>6155.0</td>\n",
       "      <td>5.262161e+02</td>\n",
       "      <td>8.658210e+02</td>\n",
       "      <td>1.447917</td>\n",
       "      <td>3.951500e+01</td>\n",
       "      <td>9.419000e+01</td>\n",
       "      <td>5.353050e+02</td>\n",
       "      <td>3.773080e+03</td>\n",
       "    </tr>\n",
       "    <tr>\n",
       "      <th>Low</th>\n",
       "      <td>6155.0</td>\n",
       "      <td>5.142773e+02</td>\n",
       "      <td>8.472709e+02</td>\n",
       "      <td>1.312500</td>\n",
       "      <td>3.810500e+01</td>\n",
       "      <td>9.075000e+01</td>\n",
       "      <td>5.219500e+02</td>\n",
       "      <td>3.696790e+03</td>\n",
       "    </tr>\n",
       "    <tr>\n",
       "      <th>Close</th>\n",
       "      <td>6155.0</td>\n",
       "      <td>5.204298e+02</td>\n",
       "      <td>8.566685e+02</td>\n",
       "      <td>1.395833</td>\n",
       "      <td>3.882125e+01</td>\n",
       "      <td>9.264000e+01</td>\n",
       "      <td>5.294500e+02</td>\n",
       "      <td>3.731410e+03</td>\n",
       "    </tr>\n",
       "    <tr>\n",
       "      <th>Adj Close</th>\n",
       "      <td>6155.0</td>\n",
       "      <td>5.204298e+02</td>\n",
       "      <td>8.566685e+02</td>\n",
       "      <td>1.395833</td>\n",
       "      <td>3.882125e+01</td>\n",
       "      <td>9.264000e+01</td>\n",
       "      <td>5.294500e+02</td>\n",
       "      <td>3.731410e+03</td>\n",
       "    </tr>\n",
       "    <tr>\n",
       "      <th>Volume</th>\n",
       "      <td>6155.0</td>\n",
       "      <td>7.329010e+06</td>\n",
       "      <td>7.149521e+06</td>\n",
       "      <td>487200.000000</td>\n",
       "      <td>3.579350e+06</td>\n",
       "      <td>5.470000e+06</td>\n",
       "      <td>8.294950e+06</td>\n",
       "      <td>1.043292e+08</td>\n",
       "    </tr>\n",
       "  </tbody>\n",
       "</table>\n",
       "</div>"
      ],
      "text/plain": [
       "            count          mean           std            min           25%  \\\n",
       "Open       6155.0  5.205563e+02  8.571617e+02       1.406250  3.875000e+01   \n",
       "High       6155.0  5.262161e+02  8.658210e+02       1.447917  3.951500e+01   \n",
       "Low        6155.0  5.142773e+02  8.472709e+02       1.312500  3.810500e+01   \n",
       "Close      6155.0  5.204298e+02  8.566685e+02       1.395833  3.882125e+01   \n",
       "Adj Close  6155.0  5.204298e+02  8.566685e+02       1.395833  3.882125e+01   \n",
       "Volume     6155.0  7.329010e+06  7.149521e+06  487200.000000  3.579350e+06   \n",
       "\n",
       "                    50%           75%           max  \n",
       "Open       9.267000e+01  5.289500e+02  3.744000e+03  \n",
       "High       9.419000e+01  5.353050e+02  3.773080e+03  \n",
       "Low        9.075000e+01  5.219500e+02  3.696790e+03  \n",
       "Close      9.264000e+01  5.294500e+02  3.731410e+03  \n",
       "Adj Close  9.264000e+01  5.294500e+02  3.731410e+03  \n",
       "Volume     5.470000e+06  8.294950e+06  1.043292e+08  "
      ]
     },
     "execution_count": 8,
     "metadata": {},
     "output_type": "execute_result"
    }
   ],
   "source": [
    "df.describe().T"
   ]
  },
  {
   "cell_type": "code",
   "execution_count": 9,
   "id": "dbc75cab",
   "metadata": {
    "execution": {
     "iopub.execute_input": "2023-04-13T09:53:26.190350Z",
     "iopub.status.busy": "2023-04-13T09:53:26.189490Z",
     "iopub.status.idle": "2023-04-13T09:53:26.200135Z",
     "shell.execute_reply": "2023-04-13T09:53:26.199072Z"
    },
    "papermill": {
     "duration": 0.022432,
     "end_time": "2023-04-13T09:53:26.203050",
     "exception": false,
     "start_time": "2023-04-13T09:53:26.180618",
     "status": "completed"
    },
    "tags": []
   },
   "outputs": [],
   "source": [
    "train, test = train_test_split(df, test_size = 0.2)"
   ]
  },
  {
   "cell_type": "code",
   "execution_count": 10,
   "id": "03e69202",
   "metadata": {
    "execution": {
     "iopub.execute_input": "2023-04-13T09:53:26.220006Z",
     "iopub.status.busy": "2023-04-13T09:53:26.219565Z",
     "iopub.status.idle": "2023-04-13T09:53:26.235706Z",
     "shell.execute_reply": "2023-04-13T09:53:26.234375Z"
    },
    "papermill": {
     "duration": 0.028716,
     "end_time": "2023-04-13T09:53:26.239101",
     "exception": false,
     "start_time": "2023-04-13T09:53:26.210385",
     "status": "completed"
    },
    "tags": []
   },
   "outputs": [
    {
     "data": {
      "text/html": [
       "<div>\n",
       "<style scoped>\n",
       "    .dataframe tbody tr th:only-of-type {\n",
       "        vertical-align: middle;\n",
       "    }\n",
       "\n",
       "    .dataframe tbody tr th {\n",
       "        vertical-align: top;\n",
       "    }\n",
       "\n",
       "    .dataframe thead th {\n",
       "        text-align: right;\n",
       "    }\n",
       "</style>\n",
       "<table border=\"1\" class=\"dataframe\">\n",
       "  <thead>\n",
       "    <tr style=\"text-align: right;\">\n",
       "      <th></th>\n",
       "      <th>Date</th>\n",
       "      <th>Open</th>\n",
       "      <th>High</th>\n",
       "      <th>Low</th>\n",
       "      <th>Close</th>\n",
       "      <th>Adj Close</th>\n",
       "      <th>Volume</th>\n",
       "    </tr>\n",
       "  </thead>\n",
       "  <tbody>\n",
       "    <tr>\n",
       "      <th>4960</th>\n",
       "      <td>2017-01-31</td>\n",
       "      <td>823.750000</td>\n",
       "      <td>826.989990</td>\n",
       "      <td>819.559998</td>\n",
       "      <td>823.479980</td>\n",
       "      <td>823.479980</td>\n",
       "      <td>3137200</td>\n",
       "    </tr>\n",
       "    <tr>\n",
       "      <th>2218</th>\n",
       "      <td>2006-03-10</td>\n",
       "      <td>36.240002</td>\n",
       "      <td>36.500000</td>\n",
       "      <td>35.740002</td>\n",
       "      <td>36.220001</td>\n",
       "      <td>36.220001</td>\n",
       "      <td>4972700</td>\n",
       "    </tr>\n",
       "    <tr>\n",
       "      <th>176</th>\n",
       "      <td>1998-01-27</td>\n",
       "      <td>4.817708</td>\n",
       "      <td>4.864583</td>\n",
       "      <td>4.666667</td>\n",
       "      <td>4.750000</td>\n",
       "      <td>4.750000</td>\n",
       "      <td>4104000</td>\n",
       "    </tr>\n",
       "    <tr>\n",
       "      <th>2482</th>\n",
       "      <td>2007-03-29</td>\n",
       "      <td>39.650002</td>\n",
       "      <td>39.919998</td>\n",
       "      <td>39.299999</td>\n",
       "      <td>39.810001</td>\n",
       "      <td>39.810001</td>\n",
       "      <td>6405200</td>\n",
       "    </tr>\n",
       "    <tr>\n",
       "      <th>1022</th>\n",
       "      <td>2001-06-05</td>\n",
       "      <td>17.059999</td>\n",
       "      <td>17.920000</td>\n",
       "      <td>16.000000</td>\n",
       "      <td>16.440001</td>\n",
       "      <td>16.440001</td>\n",
       "      <td>12758100</td>\n",
       "    </tr>\n",
       "    <tr>\n",
       "      <th>5326</th>\n",
       "      <td>2018-07-16</td>\n",
       "      <td>1821.949951</td>\n",
       "      <td>1841.949951</td>\n",
       "      <td>1814.449951</td>\n",
       "      <td>1822.489990</td>\n",
       "      <td>1822.489990</td>\n",
       "      <td>5466200</td>\n",
       "    </tr>\n",
       "    <tr>\n",
       "      <th>1287</th>\n",
       "      <td>2002-06-28</td>\n",
       "      <td>15.690000</td>\n",
       "      <td>16.360001</td>\n",
       "      <td>15.400000</td>\n",
       "      <td>16.250000</td>\n",
       "      <td>16.250000</td>\n",
       "      <td>6237900</td>\n",
       "    </tr>\n",
       "    <tr>\n",
       "      <th>5150</th>\n",
       "      <td>2017-10-31</td>\n",
       "      <td>1109.000000</td>\n",
       "      <td>1110.540039</td>\n",
       "      <td>1101.119995</td>\n",
       "      <td>1105.280029</td>\n",
       "      <td>1105.280029</td>\n",
       "      <td>3477000</td>\n",
       "    </tr>\n",
       "    <tr>\n",
       "      <th>226</th>\n",
       "      <td>1998-04-08</td>\n",
       "      <td>7.197917</td>\n",
       "      <td>7.479167</td>\n",
       "      <td>7.125000</td>\n",
       "      <td>7.385417</td>\n",
       "      <td>7.385417</td>\n",
       "      <td>11314800</td>\n",
       "    </tr>\n",
       "    <tr>\n",
       "      <th>3458</th>\n",
       "      <td>2011-02-10</td>\n",
       "      <td>184.389999</td>\n",
       "      <td>187.240005</td>\n",
       "      <td>183.600006</td>\n",
       "      <td>186.210007</td>\n",
       "      <td>186.210007</td>\n",
       "      <td>5331400</td>\n",
       "    </tr>\n",
       "  </tbody>\n",
       "</table>\n",
       "</div>"
      ],
      "text/plain": [
       "            Date         Open         High          Low        Close  \\\n",
       "4960  2017-01-31   823.750000   826.989990   819.559998   823.479980   \n",
       "2218  2006-03-10    36.240002    36.500000    35.740002    36.220001   \n",
       "176   1998-01-27     4.817708     4.864583     4.666667     4.750000   \n",
       "2482  2007-03-29    39.650002    39.919998    39.299999    39.810001   \n",
       "1022  2001-06-05    17.059999    17.920000    16.000000    16.440001   \n",
       "5326  2018-07-16  1821.949951  1841.949951  1814.449951  1822.489990   \n",
       "1287  2002-06-28    15.690000    16.360001    15.400000    16.250000   \n",
       "5150  2017-10-31  1109.000000  1110.540039  1101.119995  1105.280029   \n",
       "226   1998-04-08     7.197917     7.479167     7.125000     7.385417   \n",
       "3458  2011-02-10   184.389999   187.240005   183.600006   186.210007   \n",
       "\n",
       "        Adj Close    Volume  \n",
       "4960   823.479980   3137200  \n",
       "2218    36.220001   4972700  \n",
       "176      4.750000   4104000  \n",
       "2482    39.810001   6405200  \n",
       "1022    16.440001  12758100  \n",
       "5326  1822.489990   5466200  \n",
       "1287    16.250000   6237900  \n",
       "5150  1105.280029   3477000  \n",
       "226      7.385417  11314800  \n",
       "3458   186.210007   5331400  "
      ]
     },
     "execution_count": 10,
     "metadata": {},
     "output_type": "execute_result"
    }
   ],
   "source": [
    "train.head(10)"
   ]
  },
  {
   "cell_type": "code",
   "execution_count": 11,
   "id": "3f1d5543",
   "metadata": {
    "execution": {
     "iopub.execute_input": "2023-04-13T09:53:26.263051Z",
     "iopub.status.busy": "2023-04-13T09:53:26.262621Z",
     "iopub.status.idle": "2023-04-13T09:53:26.280012Z",
     "shell.execute_reply": "2023-04-13T09:53:26.278693Z"
    },
    "papermill": {
     "duration": 0.032798,
     "end_time": "2023-04-13T09:53:26.283877",
     "exception": false,
     "start_time": "2023-04-13T09:53:26.251079",
     "status": "completed"
    },
    "tags": []
   },
   "outputs": [
    {
     "data": {
      "text/html": [
       "<div>\n",
       "<style scoped>\n",
       "    .dataframe tbody tr th:only-of-type {\n",
       "        vertical-align: middle;\n",
       "    }\n",
       "\n",
       "    .dataframe tbody tr th {\n",
       "        vertical-align: top;\n",
       "    }\n",
       "\n",
       "    .dataframe thead th {\n",
       "        text-align: right;\n",
       "    }\n",
       "</style>\n",
       "<table border=\"1\" class=\"dataframe\">\n",
       "  <thead>\n",
       "    <tr style=\"text-align: right;\">\n",
       "      <th></th>\n",
       "      <th>Date</th>\n",
       "      <th>Open</th>\n",
       "      <th>High</th>\n",
       "      <th>Low</th>\n",
       "      <th>Close</th>\n",
       "      <th>Adj Close</th>\n",
       "      <th>Volume</th>\n",
       "    </tr>\n",
       "  </thead>\n",
       "  <tbody>\n",
       "    <tr>\n",
       "      <th>5713</th>\n",
       "      <td>2020-01-29</td>\n",
       "      <td>1864.000000</td>\n",
       "      <td>1874.750000</td>\n",
       "      <td>1855.020020</td>\n",
       "      <td>1858.000000</td>\n",
       "      <td>1858.000000</td>\n",
       "      <td>2088000</td>\n",
       "    </tr>\n",
       "    <tr>\n",
       "      <th>116</th>\n",
       "      <td>1997-10-29</td>\n",
       "      <td>5.145833</td>\n",
       "      <td>5.500000</td>\n",
       "      <td>5.000000</td>\n",
       "      <td>5.390625</td>\n",
       "      <td>5.390625</td>\n",
       "      <td>7126800</td>\n",
       "    </tr>\n",
       "    <tr>\n",
       "      <th>1017</th>\n",
       "      <td>2001-05-29</td>\n",
       "      <td>17.209999</td>\n",
       "      <td>17.540001</td>\n",
       "      <td>16.700001</td>\n",
       "      <td>17.219999</td>\n",
       "      <td>17.219999</td>\n",
       "      <td>9394900</td>\n",
       "    </tr>\n",
       "    <tr>\n",
       "      <th>477</th>\n",
       "      <td>1999-04-08</td>\n",
       "      <td>87.406250</td>\n",
       "      <td>92.062500</td>\n",
       "      <td>83.000000</td>\n",
       "      <td>89.500000</td>\n",
       "      <td>89.500000</td>\n",
       "      <td>11487800</td>\n",
       "    </tr>\n",
       "    <tr>\n",
       "      <th>5582</th>\n",
       "      <td>2019-07-23</td>\n",
       "      <td>1995.989990</td>\n",
       "      <td>1997.790039</td>\n",
       "      <td>1973.130005</td>\n",
       "      <td>1994.489990</td>\n",
       "      <td>1994.489990</td>\n",
       "      <td>2703500</td>\n",
       "    </tr>\n",
       "    <tr>\n",
       "      <th>2645</th>\n",
       "      <td>2007-11-19</td>\n",
       "      <td>78.830002</td>\n",
       "      <td>79.750000</td>\n",
       "      <td>77.940002</td>\n",
       "      <td>79.180000</td>\n",
       "      <td>79.180000</td>\n",
       "      <td>8649800</td>\n",
       "    </tr>\n",
       "    <tr>\n",
       "      <th>2901</th>\n",
       "      <td>2008-11-24</td>\n",
       "      <td>38.790001</td>\n",
       "      <td>43.439999</td>\n",
       "      <td>38.700001</td>\n",
       "      <td>42.500000</td>\n",
       "      <td>42.500000</td>\n",
       "      <td>14549700</td>\n",
       "    </tr>\n",
       "    <tr>\n",
       "      <th>857</th>\n",
       "      <td>2000-10-06</td>\n",
       "      <td>32.500000</td>\n",
       "      <td>33.250000</td>\n",
       "      <td>30.187500</td>\n",
       "      <td>31.562500</td>\n",
       "      <td>31.562500</td>\n",
       "      <td>8871100</td>\n",
       "    </tr>\n",
       "    <tr>\n",
       "      <th>5091</th>\n",
       "      <td>2017-08-08</td>\n",
       "      <td>994.349976</td>\n",
       "      <td>996.280029</td>\n",
       "      <td>985.789978</td>\n",
       "      <td>989.840027</td>\n",
       "      <td>989.840027</td>\n",
       "      <td>2902800</td>\n",
       "    </tr>\n",
       "    <tr>\n",
       "      <th>930</th>\n",
       "      <td>2001-01-23</td>\n",
       "      <td>18.375000</td>\n",
       "      <td>19.312500</td>\n",
       "      <td>18.250000</td>\n",
       "      <td>18.953125</td>\n",
       "      <td>18.953125</td>\n",
       "      <td>4744300</td>\n",
       "    </tr>\n",
       "  </tbody>\n",
       "</table>\n",
       "</div>"
      ],
      "text/plain": [
       "            Date         Open         High          Low        Close  \\\n",
       "5713  2020-01-29  1864.000000  1874.750000  1855.020020  1858.000000   \n",
       "116   1997-10-29     5.145833     5.500000     5.000000     5.390625   \n",
       "1017  2001-05-29    17.209999    17.540001    16.700001    17.219999   \n",
       "477   1999-04-08    87.406250    92.062500    83.000000    89.500000   \n",
       "5582  2019-07-23  1995.989990  1997.790039  1973.130005  1994.489990   \n",
       "2645  2007-11-19    78.830002    79.750000    77.940002    79.180000   \n",
       "2901  2008-11-24    38.790001    43.439999    38.700001    42.500000   \n",
       "857   2000-10-06    32.500000    33.250000    30.187500    31.562500   \n",
       "5091  2017-08-08   994.349976   996.280029   985.789978   989.840027   \n",
       "930   2001-01-23    18.375000    19.312500    18.250000    18.953125   \n",
       "\n",
       "        Adj Close    Volume  \n",
       "5713  1858.000000   2088000  \n",
       "116      5.390625   7126800  \n",
       "1017    17.219999   9394900  \n",
       "477     89.500000  11487800  \n",
       "5582  1994.489990   2703500  \n",
       "2645    79.180000   8649800  \n",
       "2901    42.500000  14549700  \n",
       "857     31.562500   8871100  \n",
       "5091   989.840027   2902800  \n",
       "930     18.953125   4744300  "
      ]
     },
     "execution_count": 11,
     "metadata": {},
     "output_type": "execute_result"
    }
   ],
   "source": [
    "test.head(10)"
   ]
  },
  {
   "cell_type": "code",
   "execution_count": 12,
   "id": "d9af6c60",
   "metadata": {
    "execution": {
     "iopub.execute_input": "2023-04-13T09:53:26.303852Z",
     "iopub.status.busy": "2023-04-13T09:53:26.303429Z",
     "iopub.status.idle": "2023-04-13T09:53:26.311702Z",
     "shell.execute_reply": "2023-04-13T09:53:26.310185Z"
    },
    "papermill": {
     "duration": 0.020371,
     "end_time": "2023-04-13T09:53:26.314425",
     "exception": false,
     "start_time": "2023-04-13T09:53:26.294054",
     "status": "completed"
    },
    "tags": []
   },
   "outputs": [],
   "source": [
    "x_train = train[['Open', 'High', 'Low', 'Volume']].values\n",
    "x_test = test[['Open', 'High', 'Low', 'Volume']].values"
   ]
  },
  {
   "cell_type": "code",
   "execution_count": 13,
   "id": "f699c8ba",
   "metadata": {
    "execution": {
     "iopub.execute_input": "2023-04-13T09:53:26.336314Z",
     "iopub.status.busy": "2023-04-13T09:53:26.335449Z",
     "iopub.status.idle": "2023-04-13T09:53:26.340609Z",
     "shell.execute_reply": "2023-04-13T09:53:26.339617Z"
    },
    "papermill": {
     "duration": 0.020293,
     "end_time": "2023-04-13T09:53:26.343521",
     "exception": false,
     "start_time": "2023-04-13T09:53:26.323228",
     "status": "completed"
    },
    "tags": []
   },
   "outputs": [],
   "source": [
    "y_train = train['Close'].values\n",
    "y_test = test['Close'].values"
   ]
  },
  {
   "cell_type": "code",
   "execution_count": 14,
   "id": "5c545e2e",
   "metadata": {
    "execution": {
     "iopub.execute_input": "2023-04-13T09:53:26.369209Z",
     "iopub.status.busy": "2023-04-13T09:53:26.368394Z",
     "iopub.status.idle": "2023-04-13T09:53:26.409828Z",
     "shell.execute_reply": "2023-04-13T09:53:26.407758Z"
    },
    "papermill": {
     "duration": 0.058387,
     "end_time": "2023-04-13T09:53:26.413432",
     "exception": false,
     "start_time": "2023-04-13T09:53:26.355045",
     "status": "completed"
    },
    "tags": []
   },
   "outputs": [
    {
     "data": {
      "text/plain": [
       "LinearRegression()"
      ]
     },
     "execution_count": 14,
     "metadata": {},
     "output_type": "execute_result"
    }
   ],
   "source": [
    "model = LinearRegression()\n",
    "model.fit(x_train, y_train)"
   ]
  },
  {
   "cell_type": "code",
   "execution_count": 15,
   "id": "afbc81c7",
   "metadata": {
    "execution": {
     "iopub.execute_input": "2023-04-13T09:53:26.452953Z",
     "iopub.status.busy": "2023-04-13T09:53:26.452232Z",
     "iopub.status.idle": "2023-04-13T09:53:26.462729Z",
     "shell.execute_reply": "2023-04-13T09:53:26.461004Z"
    },
    "papermill": {
     "duration": 0.039126,
     "end_time": "2023-04-13T09:53:26.466247",
     "exception": false,
     "start_time": "2023-04-13T09:53:26.427121",
     "status": "completed"
    },
    "tags": []
   },
   "outputs": [],
   "source": [
    "y_pred = model.predict(x_test)"
   ]
  },
  {
   "cell_type": "code",
   "execution_count": 16,
   "id": "72314dad",
   "metadata": {
    "execution": {
     "iopub.execute_input": "2023-04-13T09:53:26.508108Z",
     "iopub.status.busy": "2023-04-13T09:53:26.507593Z",
     "iopub.status.idle": "2023-04-13T09:53:26.518886Z",
     "shell.execute_reply": "2023-04-13T09:53:26.517805Z"
    },
    "papermill": {
     "duration": 0.035217,
     "end_time": "2023-04-13T09:53:26.522029",
     "exception": false,
     "start_time": "2023-04-13T09:53:26.486812",
     "status": "completed"
    },
    "tags": []
   },
   "outputs": [],
   "source": [
    "viz['Date']=pd.to_datetime(viz['Date'],format='%Y-%m-%d')"
   ]
  },
  {
   "cell_type": "code",
   "execution_count": 17,
   "id": "24ad2457",
   "metadata": {
    "execution": {
     "iopub.execute_input": "2023-04-13T09:53:26.540385Z",
     "iopub.status.busy": "2023-04-13T09:53:26.539949Z",
     "iopub.status.idle": "2023-04-13T09:53:26.579642Z",
     "shell.execute_reply": "2023-04-13T09:53:26.578656Z"
    },
    "papermill": {
     "duration": 0.05248,
     "end_time": "2023-04-13T09:53:26.582636",
     "exception": false,
     "start_time": "2023-04-13T09:53:26.530156",
     "status": "completed"
    },
    "tags": []
   },
   "outputs": [
    {
     "data": {
      "text/html": [
       "<div>\n",
       "<style scoped>\n",
       "    .dataframe tbody tr th:only-of-type {\n",
       "        vertical-align: middle;\n",
       "    }\n",
       "\n",
       "    .dataframe tbody tr th {\n",
       "        vertical-align: top;\n",
       "    }\n",
       "\n",
       "    .dataframe thead th {\n",
       "        text-align: right;\n",
       "    }\n",
       "</style>\n",
       "<table border=\"1\" class=\"dataframe\">\n",
       "  <thead>\n",
       "    <tr style=\"text-align: right;\">\n",
       "      <th></th>\n",
       "      <th>Close</th>\n",
       "    </tr>\n",
       "    <tr>\n",
       "      <th>Date</th>\n",
       "      <th></th>\n",
       "    </tr>\n",
       "  </thead>\n",
       "  <tbody>\n",
       "    <tr>\n",
       "      <th>1997-05-15</th>\n",
       "      <td>1.958333</td>\n",
       "    </tr>\n",
       "    <tr>\n",
       "      <th>1997-05-16</th>\n",
       "      <td>1.729167</td>\n",
       "    </tr>\n",
       "    <tr>\n",
       "      <th>1997-05-17</th>\n",
       "      <td>NaN</td>\n",
       "    </tr>\n",
       "    <tr>\n",
       "      <th>1997-05-18</th>\n",
       "      <td>NaN</td>\n",
       "    </tr>\n",
       "    <tr>\n",
       "      <th>1997-05-19</th>\n",
       "      <td>1.708333</td>\n",
       "    </tr>\n",
       "    <tr>\n",
       "      <th>...</th>\n",
       "      <td>...</td>\n",
       "    </tr>\n",
       "    <tr>\n",
       "      <th>2021-10-23</th>\n",
       "      <td>NaN</td>\n",
       "    </tr>\n",
       "    <tr>\n",
       "      <th>2021-10-24</th>\n",
       "      <td>NaN</td>\n",
       "    </tr>\n",
       "    <tr>\n",
       "      <th>2021-10-25</th>\n",
       "      <td>3320.370117</td>\n",
       "    </tr>\n",
       "    <tr>\n",
       "      <th>2021-10-26</th>\n",
       "      <td>3376.070068</td>\n",
       "    </tr>\n",
       "    <tr>\n",
       "      <th>2021-10-27</th>\n",
       "      <td>3396.189941</td>\n",
       "    </tr>\n",
       "  </tbody>\n",
       "</table>\n",
       "<p>8932 rows × 1 columns</p>\n",
       "</div>"
      ],
      "text/plain": [
       "                  Close\n",
       "Date                   \n",
       "1997-05-15     1.958333\n",
       "1997-05-16     1.729167\n",
       "1997-05-17          NaN\n",
       "1997-05-18          NaN\n",
       "1997-05-19     1.708333\n",
       "...                 ...\n",
       "2021-10-23          NaN\n",
       "2021-10-24          NaN\n",
       "2021-10-25  3320.370117\n",
       "2021-10-26  3376.070068\n",
       "2021-10-27  3396.189941\n",
       "\n",
       "[8932 rows x 1 columns]"
      ]
     },
     "execution_count": 17,
     "metadata": {},
     "output_type": "execute_result"
    }
   ],
   "source": [
    "data = pd.DataFrame(viz[['Date','Close']])\n",
    "data=data.reset_index()\n",
    "data=data.drop('index',axis=1)\n",
    "data.set_index('Date', inplace=True)\n",
    "data = data.asfreq('D')\n",
    "data"
   ]
  },
  {
   "cell_type": "code",
   "execution_count": 18,
   "id": "8ebb28a4",
   "metadata": {
    "execution": {
     "iopub.execute_input": "2023-04-13T09:53:26.608415Z",
     "iopub.status.busy": "2023-04-13T09:53:26.607942Z",
     "iopub.status.idle": "2023-04-13T09:53:27.041090Z",
     "shell.execute_reply": "2023-04-13T09:53:27.039724Z"
    },
    "papermill": {
     "duration": 0.449771,
     "end_time": "2023-04-13T09:53:27.044422",
     "exception": false,
     "start_time": "2023-04-13T09:53:26.594651",
     "status": "completed"
    },
    "tags": []
   },
   "outputs": [
    {
     "data": {
      "text/plain": [
       "<matplotlib.legend.Legend at 0x725e895d1e50>"
      ]
     },
     "execution_count": 18,
     "metadata": {},
     "output_type": "execute_result"
    },
    {
     "data": {
      "image/png": "[encoded data removed]",
      "text/plain": [
       "<Figure size 1500x1000 with 1 Axes>"
      ]
     },
     "metadata": {},
     "output_type": "display_data"
    }
   ],
   "source": [
    "plt.figure(facecolor='black', figsize=(15,10))\n",
    "ax = plt.axes()\n",
    "\n",
    "ax.tick_params(axis='x', colors='white')    #setting up X-axis tick color to red\n",
    "ax.tick_params(axis='y', colors='white')    #setting up Y-axis tick color to black\n",
    "\n",
    "ax.spines['left'].set_color('white')        # setting up Y-axis tick color to red\n",
    "ax.spines['bottom'].set_color('white')      #setting up above X-axis tick color to red\n",
    "\n",
    "ax.set_facecolor(\"black\")               # Setting the background color of the plot using set_facecolor() method\n",
    "plt.title('Closing Stock Price', color=\"white\")\n",
    "plt.plot(viz.Date, viz.Close)\n",
    "plt.legend([\"Close\"], loc =\"lower right\", facecolor='black', labelcolor='white')"
   ]
  },
  {
   "cell_type": "code",
   "execution_count": 19,
   "id": "47b98569",
   "metadata": {
    "execution": {
     "iopub.execute_input": "2023-04-13T09:53:27.065658Z",
     "iopub.status.busy": "2023-04-13T09:53:27.065220Z",
     "iopub.status.idle": "2023-04-13T09:53:27.508919Z",
     "shell.execute_reply": "2023-04-13T09:53:27.507762Z"
    },
    "papermill": {
     "duration": 0.458243,
     "end_time": "2023-04-13T09:53:27.512180",
     "exception": false,
     "start_time": "2023-04-13T09:53:27.053937",
     "status": "completed"
    },
    "tags": []
   },
   "outputs": [
    {
     "data": {
      "text/plain": [
       "<matplotlib.legend.Legend at 0x725e88c85990>"
      ]
     },
     "execution_count": 19,
     "metadata": {},
     "output_type": "execute_result"
    },
    {
     "data": {
      "image/png": "[encoded data removed]",
      "text/plain": [
       "<Figure size 1500x1000 with 1 Axes>"
      ]
     },
     "metadata": {},
     "output_type": "display_data"
    }
   ],
   "source": [
    "plt.figure(facecolor='black', figsize=(15,10))\n",
    "ax = plt.axes()\n",
    "\n",
    "ax.tick_params(axis='x', colors='white')    #setting up X-axis tick color to red\n",
    "ax.tick_params(axis='y', colors='white')    #setting up Y-axis tick color to black\n",
    "\n",
    "ax.spines['left'].set_color('white')        # setting up Y-axis tick color to red\n",
    "ax.spines['bottom'].set_color('white')      #setting up above X-axis tick color to red\n",
    "\n",
    "ax.set_facecolor(\"black\")               # Setting the background color of the plot using set_facecolor() method\n",
    "plt.title('Linear Regression', color=\"white\")\n",
    "plt.scatter(y_pred, y_test, color=\"#94F008\")\n",
    "plt.scatter(y_test, y_test, color=\"red\")\n",
    "plt.plot(y_test, y_test, color=\"yellow\")\n",
    "plt.legend([\"Predicted_Close\", \"Actual_Close\", \"Regression Line\"], loc =\"lower right\", facecolor='black', labelcolor='white')"
   ]
  },
  {
   "cell_type": "code",
   "execution_count": 20,
   "id": "3dc8ceaa",
   "metadata": {
    "execution": {
     "iopub.execute_input": "2023-04-13T09:53:27.534651Z",
     "iopub.status.busy": "2023-04-13T09:53:27.534230Z",
     "iopub.status.idle": "2023-04-13T09:53:27.544144Z",
     "shell.execute_reply": "2023-04-13T09:53:27.542838Z"
    },
    "papermill": {
     "duration": 0.024416,
     "end_time": "2023-04-13T09:53:27.546977",
     "exception": false,
     "start_time": "2023-04-13T09:53:27.522561",
     "status": "completed"
    },
    "tags": []
   },
   "outputs": [
    {
     "name": "stdout",
     "output_type": "stream",
     "text": [
      "MSE 41.257\n",
      "RMSE 6.423\n",
      "MAE 2.549\n",
      "MAPE 0.009\n",
      "R2 Score :  1.0\n"
     ]
    }
   ],
   "source": [
    "print(\"MSE\",round(mean_squared_error(y_test,y_pred), 3))\n",
    "print(\"RMSE\",round(np.sqrt(mean_squared_error(y_test,y_pred)), 3))\n",
    "print(\"MAE\",round(mean_absolute_error(y_test,y_pred), 3))\n",
    "print(\"MAPE\",round(mean_absolute_percentage_error(y_test,y_pred), 3))\n",
    "print(\"R2 Score : \", round(r2_score(y_test,y_pred), 3))"
   ]
  },
  {
   "cell_type": "code",
   "execution_count": 21,
   "id": "768b33d4",
   "metadata": {
    "execution": {
     "iopub.execute_input": "2023-04-13T09:53:27.569462Z",
     "iopub.status.busy": "2023-04-13T09:53:27.569033Z",
     "iopub.status.idle": "2023-04-13T09:53:27.587868Z",
     "shell.execute_reply": "2023-04-13T09:53:27.586630Z"
    },
    "papermill": {
     "duration": 0.03326,
     "end_time": "2023-04-13T09:53:27.590337",
     "exception": false,
     "start_time": "2023-04-13T09:53:27.557077",
     "status": "completed"
    },
    "tags": []
   },
   "outputs": [
    {
     "data": {
      "text/html": [
       "<div>\n",
       "<style scoped>\n",
       "    .dataframe tbody tr th:only-of-type {\n",
       "        vertical-align: middle;\n",
       "    }\n",
       "\n",
       "    .dataframe tbody tr th {\n",
       "        vertical-align: top;\n",
       "    }\n",
       "\n",
       "    .dataframe thead th {\n",
       "        text-align: right;\n",
       "    }\n",
       "</style>\n",
       "<table border=\"1\" class=\"dataframe\">\n",
       "  <thead>\n",
       "    <tr style=\"text-align: right;\">\n",
       "      <th></th>\n",
       "      <th>Date</th>\n",
       "      <th>Open</th>\n",
       "      <th>High</th>\n",
       "      <th>Low</th>\n",
       "      <th>Close</th>\n",
       "      <th>Adj Close</th>\n",
       "      <th>Volume</th>\n",
       "    </tr>\n",
       "  </thead>\n",
       "  <tbody>\n",
       "    <tr>\n",
       "      <th>5713</th>\n",
       "      <td>2020-01-29</td>\n",
       "      <td>1864.000000</td>\n",
       "      <td>1874.750000</td>\n",
       "      <td>1855.020020</td>\n",
       "      <td>1858.000000</td>\n",
       "      <td>1858.000000</td>\n",
       "      <td>2088000</td>\n",
       "    </tr>\n",
       "    <tr>\n",
       "      <th>116</th>\n",
       "      <td>1997-10-29</td>\n",
       "      <td>5.145833</td>\n",
       "      <td>5.500000</td>\n",
       "      <td>5.000000</td>\n",
       "      <td>5.390625</td>\n",
       "      <td>5.390625</td>\n",
       "      <td>7126800</td>\n",
       "    </tr>\n",
       "    <tr>\n",
       "      <th>1017</th>\n",
       "      <td>2001-05-29</td>\n",
       "      <td>17.209999</td>\n",
       "      <td>17.540001</td>\n",
       "      <td>16.700001</td>\n",
       "      <td>17.219999</td>\n",
       "      <td>17.219999</td>\n",
       "      <td>9394900</td>\n",
       "    </tr>\n",
       "    <tr>\n",
       "      <th>477</th>\n",
       "      <td>1999-04-08</td>\n",
       "      <td>87.406250</td>\n",
       "      <td>92.062500</td>\n",
       "      <td>83.000000</td>\n",
       "      <td>89.500000</td>\n",
       "      <td>89.500000</td>\n",
       "      <td>11487800</td>\n",
       "    </tr>\n",
       "    <tr>\n",
       "      <th>5582</th>\n",
       "      <td>2019-07-23</td>\n",
       "      <td>1995.989990</td>\n",
       "      <td>1997.790039</td>\n",
       "      <td>1973.130005</td>\n",
       "      <td>1994.489990</td>\n",
       "      <td>1994.489990</td>\n",
       "      <td>2703500</td>\n",
       "    </tr>\n",
       "    <tr>\n",
       "      <th>...</th>\n",
       "      <td>...</td>\n",
       "      <td>...</td>\n",
       "      <td>...</td>\n",
       "      <td>...</td>\n",
       "      <td>...</td>\n",
       "      <td>...</td>\n",
       "      <td>...</td>\n",
       "    </tr>\n",
       "    <tr>\n",
       "      <th>2007</th>\n",
       "      <td>2005-05-09</td>\n",
       "      <td>34.400002</td>\n",
       "      <td>34.799999</td>\n",
       "      <td>34.250000</td>\n",
       "      <td>34.639999</td>\n",
       "      <td>34.639999</td>\n",
       "      <td>4431600</td>\n",
       "    </tr>\n",
       "    <tr>\n",
       "      <th>2586</th>\n",
       "      <td>2007-08-27</td>\n",
       "      <td>80.559998</td>\n",
       "      <td>80.800003</td>\n",
       "      <td>78.419998</td>\n",
       "      <td>78.650002</td>\n",
       "      <td>78.650002</td>\n",
       "      <td>6951300</td>\n",
       "    </tr>\n",
       "    <tr>\n",
       "      <th>2968</th>\n",
       "      <td>2009-03-04</td>\n",
       "      <td>62.799999</td>\n",
       "      <td>65.790001</td>\n",
       "      <td>62.400002</td>\n",
       "      <td>64.809998</td>\n",
       "      <td>64.809998</td>\n",
       "      <td>11960900</td>\n",
       "    </tr>\n",
       "    <tr>\n",
       "      <th>4098</th>\n",
       "      <td>2013-08-28</td>\n",
       "      <td>280.359985</td>\n",
       "      <td>283.000000</td>\n",
       "      <td>279.329987</td>\n",
       "      <td>281.579987</td>\n",
       "      <td>281.579987</td>\n",
       "      <td>1457100</td>\n",
       "    </tr>\n",
       "    <tr>\n",
       "      <th>2956</th>\n",
       "      <td>2009-02-13</td>\n",
       "      <td>63.970001</td>\n",
       "      <td>64.680000</td>\n",
       "      <td>62.869999</td>\n",
       "      <td>63.259998</td>\n",
       "      <td>63.259998</td>\n",
       "      <td>4130900</td>\n",
       "    </tr>\n",
       "  </tbody>\n",
       "</table>\n",
       "<p>1231 rows × 7 columns</p>\n",
       "</div>"
      ],
      "text/plain": [
       "            Date         Open         High          Low        Close  \\\n",
       "5713  2020-01-29  1864.000000  1874.750000  1855.020020  1858.000000   \n",
       "116   1997-10-29     5.145833     5.500000     5.000000     5.390625   \n",
       "1017  2001-05-29    17.209999    17.540001    16.700001    17.219999   \n",
       "477   1999-04-08    87.406250    92.062500    83.000000    89.500000   \n",
       "5582  2019-07-23  1995.989990  1997.790039  1973.130005  1994.489990   \n",
       "...          ...          ...          ...          ...          ...   \n",
       "2007  2005-05-09    34.400002    34.799999    34.250000    34.639999   \n",
       "2586  2007-08-27    80.559998    80.800003    78.419998    78.650002   \n",
       "2968  2009-03-04    62.799999    65.790001    62.400002    64.809998   \n",
       "4098  2013-08-28   280.359985   283.000000   279.329987   281.579987   \n",
       "2956  2009-02-13    63.970001    64.680000    62.869999    63.259998   \n",
       "\n",
       "        Adj Close    Volume  \n",
       "5713  1858.000000   2088000  \n",
       "116      5.390625   7126800  \n",
       "1017    17.219999   9394900  \n",
       "477     89.500000  11487800  \n",
       "5582  1994.489990   2703500  \n",
       "...           ...       ...  \n",
       "2007    34.639999   4431600  \n",
       "2586    78.650002   6951300  \n",
       "2968    64.809998  11960900  \n",
       "4098   281.579987   1457100  \n",
       "2956    63.259998   4130900  \n",
       "\n",
       "[1231 rows x 7 columns]"
      ]
     },
     "execution_count": 21,
     "metadata": {},
     "output_type": "execute_result"
    }
   ],
   "source": [
    "pred_df = test.copy()\n",
    "pred_df"
   ]
  },
  {
   "cell_type": "code",
   "execution_count": 22,
   "id": "7fa45fd8",
   "metadata": {
    "execution": {
     "iopub.execute_input": "2023-04-13T09:53:27.613634Z",
     "iopub.status.busy": "2023-04-13T09:53:27.613241Z",
     "iopub.status.idle": "2023-04-13T09:53:27.619804Z",
     "shell.execute_reply": "2023-04-13T09:53:27.618343Z"
    },
    "papermill": {
     "duration": 0.021924,
     "end_time": "2023-04-13T09:53:27.622883",
     "exception": false,
     "start_time": "2023-04-13T09:53:27.600959",
     "status": "completed"
    },
    "tags": []
   },
   "outputs": [
    {
     "name": "stdout",
     "output_type": "stream",
     "text": [
      "[1.62180694]\n"
     ]
    }
   ],
   "source": [
    "result = model.predict([[2.437500, 2.500000, 1.927083, 72156000]])\n",
    "print(result)"
   ]
  },
  {
   "cell_type": "code",
   "execution_count": 23,
   "id": "74b49961",
   "metadata": {
    "execution": {
     "iopub.execute_input": "2023-04-13T09:53:27.647529Z",
     "iopub.status.busy": "2023-04-13T09:53:27.646585Z",
     "iopub.status.idle": "2023-04-13T09:53:27.669827Z",
     "shell.execute_reply": "2023-04-13T09:53:27.668489Z"
    },
    "papermill": {
     "duration": 0.038391,
     "end_time": "2023-04-13T09:53:27.672325",
     "exception": false,
     "start_time": "2023-04-13T09:53:27.633934",
     "status": "completed"
    },
    "tags": []
   },
   "outputs": [
    {
     "data": {
      "text/html": [
       "<div>\n",
       "<style scoped>\n",
       "    .dataframe tbody tr th:only-of-type {\n",
       "        vertical-align: middle;\n",
       "    }\n",
       "\n",
       "    .dataframe tbody tr th {\n",
       "        vertical-align: top;\n",
       "    }\n",
       "\n",
       "    .dataframe thead th {\n",
       "        text-align: right;\n",
       "    }\n",
       "</style>\n",
       "<table border=\"1\" class=\"dataframe\">\n",
       "  <thead>\n",
       "    <tr style=\"text-align: right;\">\n",
       "      <th></th>\n",
       "      <th>Date</th>\n",
       "      <th>Open</th>\n",
       "      <th>High</th>\n",
       "      <th>Low</th>\n",
       "      <th>Close</th>\n",
       "      <th>Adj Close</th>\n",
       "      <th>Volume</th>\n",
       "      <th>Close_Prediction</th>\n",
       "    </tr>\n",
       "  </thead>\n",
       "  <tbody>\n",
       "    <tr>\n",
       "      <th>5713</th>\n",
       "      <td>2020-01-29</td>\n",
       "      <td>1864.000000</td>\n",
       "      <td>1874.750000</td>\n",
       "      <td>1855.020020</td>\n",
       "      <td>1858.000000</td>\n",
       "      <td>1858.000000</td>\n",
       "      <td>2088000</td>\n",
       "      <td>1866.139478</td>\n",
       "    </tr>\n",
       "    <tr>\n",
       "      <th>116</th>\n",
       "      <td>1997-10-29</td>\n",
       "      <td>5.145833</td>\n",
       "      <td>5.500000</td>\n",
       "      <td>5.000000</td>\n",
       "      <td>5.390625</td>\n",
       "      <td>5.390625</td>\n",
       "      <td>7126800</td>\n",
       "      <td>5.381662</td>\n",
       "    </tr>\n",
       "    <tr>\n",
       "      <th>1017</th>\n",
       "      <td>2001-05-29</td>\n",
       "      <td>17.209999</td>\n",
       "      <td>17.540001</td>\n",
       "      <td>16.700001</td>\n",
       "      <td>17.219999</td>\n",
       "      <td>17.219999</td>\n",
       "      <td>9394900</td>\n",
       "      <td>17.126106</td>\n",
       "    </tr>\n",
       "    <tr>\n",
       "      <th>477</th>\n",
       "      <td>1999-04-08</td>\n",
       "      <td>87.406250</td>\n",
       "      <td>92.062500</td>\n",
       "      <td>83.000000</td>\n",
       "      <td>89.500000</td>\n",
       "      <td>89.500000</td>\n",
       "      <td>11487800</td>\n",
       "      <td>87.891239</td>\n",
       "    </tr>\n",
       "    <tr>\n",
       "      <th>5582</th>\n",
       "      <td>2019-07-23</td>\n",
       "      <td>1995.989990</td>\n",
       "      <td>1997.790039</td>\n",
       "      <td>1973.130005</td>\n",
       "      <td>1994.489990</td>\n",
       "      <td>1994.489990</td>\n",
       "      <td>2703500</td>\n",
       "      <td>1979.955300</td>\n",
       "    </tr>\n",
       "    <tr>\n",
       "      <th>...</th>\n",
       "      <td>...</td>\n",
       "      <td>...</td>\n",
       "      <td>...</td>\n",
       "      <td>...</td>\n",
       "      <td>...</td>\n",
       "      <td>...</td>\n",
       "      <td>...</td>\n",
       "      <td>...</td>\n",
       "    </tr>\n",
       "    <tr>\n",
       "      <th>2007</th>\n",
       "      <td>2005-05-09</td>\n",
       "      <td>34.400002</td>\n",
       "      <td>34.799999</td>\n",
       "      <td>34.250000</td>\n",
       "      <td>34.639999</td>\n",
       "      <td>34.639999</td>\n",
       "      <td>4431600</td>\n",
       "      <td>34.693356</td>\n",
       "    </tr>\n",
       "    <tr>\n",
       "      <th>2586</th>\n",
       "      <td>2007-08-27</td>\n",
       "      <td>80.559998</td>\n",
       "      <td>80.800003</td>\n",
       "      <td>78.419998</td>\n",
       "      <td>78.650002</td>\n",
       "      <td>78.650002</td>\n",
       "      <td>6951300</td>\n",
       "      <td>79.162478</td>\n",
       "    </tr>\n",
       "    <tr>\n",
       "      <th>2968</th>\n",
       "      <td>2009-03-04</td>\n",
       "      <td>62.799999</td>\n",
       "      <td>65.790001</td>\n",
       "      <td>62.400002</td>\n",
       "      <td>64.809998</td>\n",
       "      <td>64.809998</td>\n",
       "      <td>11960900</td>\n",
       "      <td>64.992984</td>\n",
       "    </tr>\n",
       "    <tr>\n",
       "      <th>4098</th>\n",
       "      <td>2013-08-28</td>\n",
       "      <td>280.359985</td>\n",
       "      <td>283.000000</td>\n",
       "      <td>279.329987</td>\n",
       "      <td>281.579987</td>\n",
       "      <td>281.579987</td>\n",
       "      <td>1457100</td>\n",
       "      <td>281.865994</td>\n",
       "    </tr>\n",
       "    <tr>\n",
       "      <th>2956</th>\n",
       "      <td>2009-02-13</td>\n",
       "      <td>63.970001</td>\n",
       "      <td>64.680000</td>\n",
       "      <td>62.869999</td>\n",
       "      <td>63.259998</td>\n",
       "      <td>63.259998</td>\n",
       "      <td>4130900</td>\n",
       "      <td>63.789761</td>\n",
       "    </tr>\n",
       "  </tbody>\n",
       "</table>\n",
       "<p>1231 rows × 8 columns</p>\n",
       "</div>"
      ],
      "text/plain": [
       "            Date         Open         High          Low        Close  \\\n",
       "5713  2020-01-29  1864.000000  1874.750000  1855.020020  1858.000000   \n",
       "116   1997-10-29     5.145833     5.500000     5.000000     5.390625   \n",
       "1017  2001-05-29    17.209999    17.540001    16.700001    17.219999   \n",
       "477   1999-04-08    87.406250    92.062500    83.000000    89.500000   \n",
       "5582  2019-07-23  1995.989990  1997.790039  1973.130005  1994.489990   \n",
       "...          ...          ...          ...          ...          ...   \n",
       "2007  2005-05-09    34.400002    34.799999    34.250000    34.639999   \n",
       "2586  2007-08-27    80.559998    80.800003    78.419998    78.650002   \n",
       "2968  2009-03-04    62.799999    65.790001    62.400002    64.809998   \n",
       "4098  2013-08-28   280.359985   283.000000   279.329987   281.579987   \n",
       "2956  2009-02-13    63.970001    64.680000    62.869999    63.259998   \n",
       "\n",
       "        Adj Close    Volume  Close_Prediction  \n",
       "5713  1858.000000   2088000       1866.139478  \n",
       "116      5.390625   7126800          5.381662  \n",
       "1017    17.219999   9394900         17.126106  \n",
       "477     89.500000  11487800         87.891239  \n",
       "5582  1994.489990   2703500       1979.955300  \n",
       "...           ...       ...               ...  \n",
       "2007    34.639999   4431600         34.693356  \n",
       "2586    78.650002   6951300         79.162478  \n",
       "2968    64.809998  11960900         64.992984  \n",
       "4098   281.579987   1457100        281.865994  \n",
       "2956    63.259998   4130900         63.789761  \n",
       "\n",
       "[1231 rows x 8 columns]"
      ]
     },
     "execution_count": 23,
     "metadata": {},
     "output_type": "execute_result"
    }
   ],
   "source": [
    "pred_df['Close_Prediction'] = y_pred\n",
    "pred_df"
   ]
  },
  {
   "cell_type": "code",
   "execution_count": 24,
   "id": "56b94d48",
   "metadata": {
    "execution": {
     "iopub.execute_input": "2023-04-13T09:53:27.696642Z",
     "iopub.status.busy": "2023-04-13T09:53:27.696126Z",
     "iopub.status.idle": "2023-04-13T09:53:27.720583Z",
     "shell.execute_reply": "2023-04-13T09:53:27.719502Z"
    },
    "papermill": {
     "duration": 0.040061,
     "end_time": "2023-04-13T09:53:27.723457",
     "exception": false,
     "start_time": "2023-04-13T09:53:27.683396",
     "status": "completed"
    },
    "tags": []
   },
   "outputs": [
    {
     "data": {
      "text/html": [
       "<div>\n",
       "<style scoped>\n",
       "    .dataframe tbody tr th:only-of-type {\n",
       "        vertical-align: middle;\n",
       "    }\n",
       "\n",
       "    .dataframe tbody tr th {\n",
       "        vertical-align: top;\n",
       "    }\n",
       "\n",
       "    .dataframe thead th {\n",
       "        text-align: right;\n",
       "    }\n",
       "</style>\n",
       "<table border=\"1\" class=\"dataframe\">\n",
       "  <thead>\n",
       "    <tr style=\"text-align: right;\">\n",
       "      <th></th>\n",
       "      <th>count</th>\n",
       "      <th>mean</th>\n",
       "      <th>std</th>\n",
       "      <th>min</th>\n",
       "      <th>25%</th>\n",
       "      <th>50%</th>\n",
       "      <th>75%</th>\n",
       "      <th>max</th>\n",
       "    </tr>\n",
       "  </thead>\n",
       "  <tbody>\n",
       "    <tr>\n",
       "      <th>Close</th>\n",
       "      <td>1231.0</td>\n",
       "      <td>514.427539</td>\n",
       "      <td>845.062416</td>\n",
       "      <td>1.479167</td>\n",
       "      <td>37.885001</td>\n",
       "      <td>89.500000</td>\n",
       "      <td>566.214996</td>\n",
       "      <td>3675.739990</td>\n",
       "    </tr>\n",
       "    <tr>\n",
       "      <th>Close_Prediction</th>\n",
       "      <td>1231.0</td>\n",
       "      <td>514.644140</td>\n",
       "      <td>845.603714</td>\n",
       "      <td>1.592602</td>\n",
       "      <td>38.109160</td>\n",
       "      <td>89.718943</td>\n",
       "      <td>564.113725</td>\n",
       "      <td>3658.571281</td>\n",
       "    </tr>\n",
       "  </tbody>\n",
       "</table>\n",
       "</div>"
      ],
      "text/plain": [
       "                   count        mean         std       min        25%  \\\n",
       "Close             1231.0  514.427539  845.062416  1.479167  37.885001   \n",
       "Close_Prediction  1231.0  514.644140  845.603714  1.592602  38.109160   \n",
       "\n",
       "                        50%         75%          max  \n",
       "Close             89.500000  566.214996  3675.739990  \n",
       "Close_Prediction  89.718943  564.113725  3658.571281  "
      ]
     },
     "execution_count": 24,
     "metadata": {},
     "output_type": "execute_result"
    }
   ],
   "source": [
    "pred_df[['Close', 'Close_Prediction']].describe().T"
   ]
  }
 ],
 "metadata": {
  "kernelspec": {
   "display_name": "Python 3",
   "language": "python",
   "name": "python3"
  },
  "language_info": {
   "codemirror_mode": {
    "name": "ipython",
    "version": 3
   },
   "file_extension": ".py",
   "mimetype": "text/x-python",
   "name": "python",
   "nbconvert_exporter": "python",
   "pygments_lexer": "ipython3",
   "version": "3.7.12"
  },
  "papermill": {
   "default_parameters": {},
   "duration": 15.301154,
   "end_time": "2023-04-13T09:53:28.557940",
   "environment_variables": {},
   "exception": null,
   "input_path": "__notebook__.ipynb",
   "output_path": "__notebook__.ipynb",
   "parameters": {},
   "start_time": "2023-04-13T09:53:13.256786",
   "version": "2.4.0"
  }
 },
 "nbformat": 4,
 "nbformat_minor": 5
}
