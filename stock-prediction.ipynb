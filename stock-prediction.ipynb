{
 "cells": [
  {
   "cell_type": "markdown",
   "id": "9dc83cb4",
   "metadata": {
    "papermill": {
     "duration": 0.009058,
     "end_time": "2023-04-13T10:28:51.391565",
     "exception": false,
     "start_time": "2023-04-13T10:28:51.382507",
     "status": "completed"
    },
    "tags": []
   },
   "source": [
    "<h1>Amazon Stock Price Detection</h1>"
   ]
  },
  {
   "cell_type": "markdown",
   "id": "67103462",
   "metadata": {
    "papermill": {
     "duration": 0.007274,
     "end_time": "2023-04-13T10:28:51.406745",
     "exception": false,
     "start_time": "2023-04-13T10:28:51.399471",
     "status": "completed"
    },
    "tags": []
   },
   "source": [
    "# Importing Libraries"
   ]
  },
  {
   "cell_type": "code",
   "execution_count": 1,
   "id": "7fd66ee9",
   "metadata": {
    "_cell_guid": "b1076dfc-b9ad-4769-8c92-a6c4dae69d19",
    "_uuid": "8f2839f25d086af736a60e9eeb907d3b93b6e0e5",
    "execution": {
     "iopub.execute_input": "2023-04-13T10:28:51.424749Z",
     "iopub.status.busy": "2023-04-13T10:28:51.423760Z",
     "iopub.status.idle": "2023-04-13T10:28:52.887360Z",
     "shell.execute_reply": "2023-04-13T10:28:52.885849Z"
    },
    "papermill": {
     "duration": 1.475537,
     "end_time": "2023-04-13T10:28:52.889901",
     "exception": false,
     "start_time": "2023-04-13T10:28:51.414364",
     "status": "completed"
    },
    "tags": []
   },
   "outputs": [
    {
     "name": "stdout",
     "output_type": "stream",
     "text": [
      "/kaggle/input/amazon-stock-price-all-time/Amazon.csv\n"
     ]
    }
   ],
   "source": [
    "import numpy as np \n",
    "import pandas as pd\n",
    "import matplotlib.pyplot as plt\n",
    "from sklearn.model_selection import train_test_split\n",
    "from sklearn.linear_model import LinearRegression\n",
    "from sklearn.metrics import mean_squared_error, r2_score, mean_absolute_error, mean_absolute_percentage_error\n",
    "import datetime\n",
    "\n",
    "import os\n",
    "for dirname, _, filenames in os.walk('/kaggle/input'):\n",
    "    for filename in filenames:\n",
    "        print(os.path.join(dirname, filename))\n",
    "\n",
    "import warnings\n",
    "warnings.filterwarnings('ignore')"
   ]
  },
  {
   "cell_type": "markdown",
   "id": "13c4ac48",
   "metadata": {
    "papermill": {
     "duration": 0.007344,
     "end_time": "2023-04-13T10:28:52.905089",
     "exception": false,
     "start_time": "2023-04-13T10:28:52.897745",
     "status": "completed"
    },
    "tags": []
   },
   "source": [
    "# Loading Data"
   ]
  },
  {
   "cell_type": "code",
   "execution_count": 2,
   "id": "702a79ee",
   "metadata": {
    "execution": {
     "iopub.execute_input": "2023-04-13T10:28:52.924003Z",
     "iopub.status.busy": "2023-04-13T10:28:52.922510Z",
     "iopub.status.idle": "2023-04-13T10:28:52.963679Z",
     "shell.execute_reply": "2023-04-13T10:28:52.961845Z"
    },
    "papermill": {
     "duration": 0.053943,
     "end_time": "2023-04-13T10:28:52.966742",
     "exception": false,
     "start_time": "2023-04-13T10:28:52.912799",
     "status": "completed"
    },
    "tags": []
   },
   "outputs": [],
   "source": [
    "df = pd.read_csv(\"/kaggle/input/amazon-stock-price-all-time/Amazon.csv\")"
   ]
  },
  {
   "cell_type": "code",
   "execution_count": 3,
   "id": "badb2369",
   "metadata": {
    "execution": {
     "iopub.execute_input": "2023-04-13T10:28:52.985190Z",
     "iopub.status.busy": "2023-04-13T10:28:52.984650Z",
     "iopub.status.idle": "2023-04-13T10:28:52.991299Z",
     "shell.execute_reply": "2023-04-13T10:28:52.989832Z"
    },
    "papermill": {
     "duration": 0.019357,
     "end_time": "2023-04-13T10:28:52.994016",
     "exception": false,
     "start_time": "2023-04-13T10:28:52.974659",
     "status": "completed"
    },
    "tags": []
   },
   "outputs": [],
   "source": [
    "viz = df.copy()"
   ]
  },
  {
   "cell_type": "code",
   "execution_count": 4,
   "id": "47e8d4a6",
   "metadata": {
    "execution": {
     "iopub.execute_input": "2023-04-13T10:28:53.012901Z",
     "iopub.status.busy": "2023-04-13T10:28:53.012290Z",
     "iopub.status.idle": "2023-04-13T10:28:53.050509Z",
     "shell.execute_reply": "2023-04-13T10:28:53.049196Z"
    },
    "papermill": {
     "duration": 0.051351,
     "end_time": "2023-04-13T10:28:53.053329",
     "exception": false,
     "start_time": "2023-04-13T10:28:53.001978",
     "status": "completed"
    },
    "tags": []
   },
   "outputs": [
    {
     "data": {
      "text/html": [
       "<div>\n",
       "<style scoped>\n",
       "    .dataframe tbody tr th:only-of-type {\n",
       "        vertical-align: middle;\n",
       "    }\n",
       "\n",
       "    .dataframe tbody tr th {\n",
       "        vertical-align: top;\n",
       "    }\n",
       "\n",
       "    .dataframe thead th {\n",
       "        text-align: right;\n",
       "    }\n",
       "</style>\n",
       "<table border=\"1\" class=\"dataframe\">\n",
       "  <thead>\n",
       "    <tr style=\"text-align: right;\">\n",
       "      <th></th>\n",
       "      <th>Date</th>\n",
       "      <th>Open</th>\n",
       "      <th>High</th>\n",
       "      <th>Low</th>\n",
       "      <th>Close</th>\n",
       "      <th>Adj Close</th>\n",
       "      <th>Volume</th>\n",
       "    </tr>\n",
       "  </thead>\n",
       "  <tbody>\n",
       "    <tr>\n",
       "      <th>0</th>\n",
       "      <td>1997-05-15</td>\n",
       "      <td>2.437500</td>\n",
       "      <td>2.500000</td>\n",
       "      <td>1.927083</td>\n",
       "      <td>1.958333</td>\n",
       "      <td>1.958333</td>\n",
       "      <td>72156000</td>\n",
       "    </tr>\n",
       "    <tr>\n",
       "      <th>1</th>\n",
       "      <td>1997-05-16</td>\n",
       "      <td>1.968750</td>\n",
       "      <td>1.979167</td>\n",
       "      <td>1.708333</td>\n",
       "      <td>1.729167</td>\n",
       "      <td>1.729167</td>\n",
       "      <td>14700000</td>\n",
       "    </tr>\n",
       "    <tr>\n",
       "      <th>2</th>\n",
       "      <td>1997-05-19</td>\n",
       "      <td>1.760417</td>\n",
       "      <td>1.770833</td>\n",
       "      <td>1.625000</td>\n",
       "      <td>1.708333</td>\n",
       "      <td>1.708333</td>\n",
       "      <td>6106800</td>\n",
       "    </tr>\n",
       "    <tr>\n",
       "      <th>3</th>\n",
       "      <td>1997-05-20</td>\n",
       "      <td>1.729167</td>\n",
       "      <td>1.750000</td>\n",
       "      <td>1.635417</td>\n",
       "      <td>1.635417</td>\n",
       "      <td>1.635417</td>\n",
       "      <td>5467200</td>\n",
       "    </tr>\n",
       "    <tr>\n",
       "      <th>4</th>\n",
       "      <td>1997-05-21</td>\n",
       "      <td>1.635417</td>\n",
       "      <td>1.645833</td>\n",
       "      <td>1.375000</td>\n",
       "      <td>1.427083</td>\n",
       "      <td>1.427083</td>\n",
       "      <td>18853200</td>\n",
       "    </tr>\n",
       "    <tr>\n",
       "      <th>5</th>\n",
       "      <td>1997-05-22</td>\n",
       "      <td>1.437500</td>\n",
       "      <td>1.447917</td>\n",
       "      <td>1.312500</td>\n",
       "      <td>1.395833</td>\n",
       "      <td>1.395833</td>\n",
       "      <td>11776800</td>\n",
       "    </tr>\n",
       "    <tr>\n",
       "      <th>6</th>\n",
       "      <td>1997-05-23</td>\n",
       "      <td>1.406250</td>\n",
       "      <td>1.520833</td>\n",
       "      <td>1.333333</td>\n",
       "      <td>1.500000</td>\n",
       "      <td>1.500000</td>\n",
       "      <td>15937200</td>\n",
       "    </tr>\n",
       "    <tr>\n",
       "      <th>7</th>\n",
       "      <td>1997-05-27</td>\n",
       "      <td>1.510417</td>\n",
       "      <td>1.645833</td>\n",
       "      <td>1.458333</td>\n",
       "      <td>1.583333</td>\n",
       "      <td>1.583333</td>\n",
       "      <td>8697600</td>\n",
       "    </tr>\n",
       "    <tr>\n",
       "      <th>8</th>\n",
       "      <td>1997-05-28</td>\n",
       "      <td>1.625000</td>\n",
       "      <td>1.635417</td>\n",
       "      <td>1.531250</td>\n",
       "      <td>1.531250</td>\n",
       "      <td>1.531250</td>\n",
       "      <td>4574400</td>\n",
       "    </tr>\n",
       "    <tr>\n",
       "      <th>9</th>\n",
       "      <td>1997-05-29</td>\n",
       "      <td>1.541667</td>\n",
       "      <td>1.541667</td>\n",
       "      <td>1.479167</td>\n",
       "      <td>1.505208</td>\n",
       "      <td>1.505208</td>\n",
       "      <td>3472800</td>\n",
       "    </tr>\n",
       "  </tbody>\n",
       "</table>\n",
       "</div>"
      ],
      "text/plain": [
       "         Date      Open      High       Low     Close  Adj Close    Volume\n",
       "0  1997-05-15  2.437500  2.500000  1.927083  1.958333   1.958333  72156000\n",
       "1  1997-05-16  1.968750  1.979167  1.708333  1.729167   1.729167  14700000\n",
       "2  1997-05-19  1.760417  1.770833  1.625000  1.708333   1.708333   6106800\n",
       "3  1997-05-20  1.729167  1.750000  1.635417  1.635417   1.635417   5467200\n",
       "4  1997-05-21  1.635417  1.645833  1.375000  1.427083   1.427083  18853200\n",
       "5  1997-05-22  1.437500  1.447917  1.312500  1.395833   1.395833  11776800\n",
       "6  1997-05-23  1.406250  1.520833  1.333333  1.500000   1.500000  15937200\n",
       "7  1997-05-27  1.510417  1.645833  1.458333  1.583333   1.583333   8697600\n",
       "8  1997-05-28  1.625000  1.635417  1.531250  1.531250   1.531250   4574400\n",
       "9  1997-05-29  1.541667  1.541667  1.479167  1.505208   1.505208   3472800"
      ]
     },
     "execution_count": 4,
     "metadata": {},
     "output_type": "execute_result"
    }
   ],
   "source": [
    "df.head(10)"
   ]
  },
  {
   "cell_type": "code",
   "execution_count": 5,
   "id": "33a7cd5e",
   "metadata": {
    "execution": {
     "iopub.execute_input": "2023-04-13T10:28:53.073094Z",
     "iopub.status.busy": "2023-04-13T10:28:53.072561Z",
     "iopub.status.idle": "2023-04-13T10:28:53.085643Z",
     "shell.execute_reply": "2023-04-13T10:28:53.084125Z"
    },
    "papermill": {
     "duration": 0.02635,
     "end_time": "2023-04-13T10:28:53.088772",
     "exception": false,
     "start_time": "2023-04-13T10:28:53.062422",
     "status": "completed"
    },
    "tags": []
   },
   "outputs": [
    {
     "data": {
      "text/plain": [
       "Date         0\n",
       "Open         0\n",
       "High         0\n",
       "Low          0\n",
       "Close        0\n",
       "Adj Close    0\n",
       "Volume       0\n",
       "dtype: int64"
      ]
     },
     "execution_count": 5,
     "metadata": {},
     "output_type": "execute_result"
    }
   ],
   "source": [
    "df.isnull().sum()"
   ]
  },
  {
   "cell_type": "code",
   "execution_count": 6,
   "id": "b91ef6e9",
   "metadata": {
    "execution": {
     "iopub.execute_input": "2023-04-13T10:28:53.107751Z",
     "iopub.status.busy": "2023-04-13T10:28:53.107248Z",
     "iopub.status.idle": "2023-04-13T10:28:53.115508Z",
     "shell.execute_reply": "2023-04-13T10:28:53.114180Z"
    },
    "papermill": {
     "duration": 0.020895,
     "end_time": "2023-04-13T10:28:53.117929",
     "exception": false,
     "start_time": "2023-04-13T10:28:53.097034",
     "status": "completed"
    },
    "tags": []
   },
   "outputs": [
    {
     "data": {
      "text/plain": [
       "(6155, 7)"
      ]
     },
     "execution_count": 6,
     "metadata": {},
     "output_type": "execute_result"
    }
   ],
   "source": [
    "df.shape"
   ]
  },
  {
   "cell_type": "code",
   "execution_count": 7,
   "id": "18f73f30",
   "metadata": {
    "execution": {
     "iopub.execute_input": "2023-04-13T10:28:53.137236Z",
     "iopub.status.busy": "2023-04-13T10:28:53.136812Z",
     "iopub.status.idle": "2023-04-13T10:28:53.167285Z",
     "shell.execute_reply": "2023-04-13T10:28:53.166281Z"
    },
    "papermill": {
     "duration": 0.043625,
     "end_time": "2023-04-13T10:28:53.170495",
     "exception": false,
     "start_time": "2023-04-13T10:28:53.126870",
     "status": "completed"
    },
    "tags": []
   },
   "outputs": [
    {
     "name": "stdout",
     "output_type": "stream",
     "text": [
      "<class 'pandas.core.frame.DataFrame'>\n",
      "RangeIndex: 6155 entries, 0 to 6154\n",
      "Data columns (total 7 columns):\n",
      " #   Column     Non-Null Count  Dtype  \n",
      "---  ------     --------------  -----  \n",
      " 0   Date       6155 non-null   object \n",
      " 1   Open       6155 non-null   float64\n",
      " 2   High       6155 non-null   float64\n",
      " 3   Low        6155 non-null   float64\n",
      " 4   Close      6155 non-null   float64\n",
      " 5   Adj Close  6155 non-null   float64\n",
      " 6   Volume     6155 non-null   int64  \n",
      "dtypes: float64(5), int64(1), object(1)\n",
      "memory usage: 336.7+ KB\n"
     ]
    }
   ],
   "source": [
    "df.info()"
   ]
  },
  {
   "cell_type": "code",
   "execution_count": 8,
   "id": "d64b803e",
   "metadata": {
    "execution": {
     "iopub.execute_input": "2023-04-13T10:28:53.191506Z",
     "iopub.status.busy": "2023-04-13T10:28:53.191077Z",
     "iopub.status.idle": "2023-04-13T10:28:53.236663Z",
     "shell.execute_reply": "2023-04-13T10:28:53.234786Z"
    },
    "papermill": {
     "duration": 0.060256,
     "end_time": "2023-04-13T10:28:53.239817",
     "exception": false,
     "start_time": "2023-04-13T10:28:53.179561",
     "status": "completed"
    },
    "tags": []
   },
   "outputs": [
    {
     "data": {
      "text/html": [
       "<div>\n",
       "<style scoped>\n",
       "    .dataframe tbody tr th:only-of-type {\n",
       "        vertical-align: middle;\n",
       "    }\n",
       "\n",
       "    .dataframe tbody tr th {\n",
       "        vertical-align: top;\n",
       "    }\n",
       "\n",
       "    .dataframe thead th {\n",
       "        text-align: right;\n",
       "    }\n",
       "</style>\n",
       "<table border=\"1\" class=\"dataframe\">\n",
       "  <thead>\n",
       "    <tr style=\"text-align: right;\">\n",
       "      <th></th>\n",
       "      <th>count</th>\n",
       "      <th>mean</th>\n",
       "      <th>std</th>\n",
       "      <th>min</th>\n",
       "      <th>25%</th>\n",
       "      <th>50%</th>\n",
       "      <th>75%</th>\n",
       "      <th>max</th>\n",
       "    </tr>\n",
       "  </thead>\n",
       "  <tbody>\n",
       "    <tr>\n",
       "      <th>Open</th>\n",
       "      <td>6155.0</td>\n",
       "      <td>5.205563e+02</td>\n",
       "      <td>8.571617e+02</td>\n",
       "      <td>1.406250</td>\n",
       "      <td>3.875000e+01</td>\n",
       "      <td>9.267000e+01</td>\n",
       "      <td>5.289500e+02</td>\n",
       "      <td>3.744000e+03</td>\n",
       "    </tr>\n",
       "    <tr>\n",
       "      <th>High</th>\n",
       "      <td>6155.0</td>\n",
       "      <td>5.262161e+02</td>\n",
       "      <td>8.658210e+02</td>\n",
       "      <td>1.447917</td>\n",
       "      <td>3.951500e+01</td>\n",
       "      <td>9.419000e+01</td>\n",
       "      <td>5.353050e+02</td>\n",
       "      <td>3.773080e+03</td>\n",
       "    </tr>\n",
       "    <tr>\n",
       "      <th>Low</th>\n",
       "      <td>6155.0</td>\n",
       "      <td>5.142773e+02</td>\n",
       "      <td>8.472709e+02</td>\n",
       "      <td>1.312500</td>\n",
       "      <td>3.810500e+01</td>\n",
       "      <td>9.075000e+01</td>\n",
       "      <td>5.219500e+02</td>\n",
       "      <td>3.696790e+03</td>\n",
       "    </tr>\n",
       "    <tr>\n",
       "      <th>Close</th>\n",
       "      <td>6155.0</td>\n",
       "      <td>5.204298e+02</td>\n",
       "      <td>8.566685e+02</td>\n",
       "      <td>1.395833</td>\n",
       "      <td>3.882125e+01</td>\n",
       "      <td>9.264000e+01</td>\n",
       "      <td>5.294500e+02</td>\n",
       "      <td>3.731410e+03</td>\n",
       "    </tr>\n",
       "    <tr>\n",
       "      <th>Adj Close</th>\n",
       "      <td>6155.0</td>\n",
       "      <td>5.204298e+02</td>\n",
       "      <td>8.566685e+02</td>\n",
       "      <td>1.395833</td>\n",
       "      <td>3.882125e+01</td>\n",
       "      <td>9.264000e+01</td>\n",
       "      <td>5.294500e+02</td>\n",
       "      <td>3.731410e+03</td>\n",
       "    </tr>\n",
       "    <tr>\n",
       "      <th>Volume</th>\n",
       "      <td>6155.0</td>\n",
       "      <td>7.329010e+06</td>\n",
       "      <td>7.149521e+06</td>\n",
       "      <td>487200.000000</td>\n",
       "      <td>3.579350e+06</td>\n",
       "      <td>5.470000e+06</td>\n",
       "      <td>8.294950e+06</td>\n",
       "      <td>1.043292e+08</td>\n",
       "    </tr>\n",
       "  </tbody>\n",
       "</table>\n",
       "</div>"
      ],
      "text/plain": [
       "            count          mean           std            min           25%  \\\n",
       "Open       6155.0  5.205563e+02  8.571617e+02       1.406250  3.875000e+01   \n",
       "High       6155.0  5.262161e+02  8.658210e+02       1.447917  3.951500e+01   \n",
       "Low        6155.0  5.142773e+02  8.472709e+02       1.312500  3.810500e+01   \n",
       "Close      6155.0  5.204298e+02  8.566685e+02       1.395833  3.882125e+01   \n",
       "Adj Close  6155.0  5.204298e+02  8.566685e+02       1.395833  3.882125e+01   \n",
       "Volume     6155.0  7.329010e+06  7.149521e+06  487200.000000  3.579350e+06   \n",
       "\n",
       "                    50%           75%           max  \n",
       "Open       9.267000e+01  5.289500e+02  3.744000e+03  \n",
       "High       9.419000e+01  5.353050e+02  3.773080e+03  \n",
       "Low        9.075000e+01  5.219500e+02  3.696790e+03  \n",
       "Close      9.264000e+01  5.294500e+02  3.731410e+03  \n",
       "Adj Close  9.264000e+01  5.294500e+02  3.731410e+03  \n",
       "Volume     5.470000e+06  8.294950e+06  1.043292e+08  "
      ]
     },
     "execution_count": 8,
     "metadata": {},
     "output_type": "execute_result"
    }
   ],
   "source": [
    "df.describe().T"
   ]
  },
  {
   "cell_type": "markdown",
   "id": "3765112e",
   "metadata": {
    "papermill": {
     "duration": 0.008839,
     "end_time": "2023-04-13T10:28:53.257654",
     "exception": false,
     "start_time": "2023-04-13T10:28:53.248815",
     "status": "completed"
    },
    "tags": []
   },
   "source": [
    "# Train & Test Splitting the Data"
   ]
  },
  {
   "cell_type": "code",
   "execution_count": 9,
   "id": "95df1baf",
   "metadata": {
    "execution": {
     "iopub.execute_input": "2023-04-13T10:28:53.278111Z",
     "iopub.status.busy": "2023-04-13T10:28:53.277671Z",
     "iopub.status.idle": "2023-04-13T10:28:53.289795Z",
     "shell.execute_reply": "2023-04-13T10:28:53.288622Z"
    },
    "papermill": {
     "duration": 0.025973,
     "end_time": "2023-04-13T10:28:53.292813",
     "exception": false,
     "start_time": "2023-04-13T10:28:53.266840",
     "status": "completed"
    },
    "tags": []
   },
   "outputs": [],
   "source": [
    "train, test = train_test_split(df, test_size = 0.2)"
   ]
  },
  {
   "cell_type": "code",
   "execution_count": 10,
   "id": "8e48da2a",
   "metadata": {
    "execution": {
     "iopub.execute_input": "2023-04-13T10:28:53.314146Z",
     "iopub.status.busy": "2023-04-13T10:28:53.313153Z",
     "iopub.status.idle": "2023-04-13T10:28:53.330726Z",
     "shell.execute_reply": "2023-04-13T10:28:53.329292Z"
    },
    "papermill": {
     "duration": 0.031565,
     "end_time": "2023-04-13T10:28:53.333569",
     "exception": false,
     "start_time": "2023-04-13T10:28:53.302004",
     "status": "completed"
    },
    "tags": []
   },
   "outputs": [
    {
     "data": {
      "text/html": [
       "<div>\n",
       "<style scoped>\n",
       "    .dataframe tbody tr th:only-of-type {\n",
       "        vertical-align: middle;\n",
       "    }\n",
       "\n",
       "    .dataframe tbody tr th {\n",
       "        vertical-align: top;\n",
       "    }\n",
       "\n",
       "    .dataframe thead th {\n",
       "        text-align: right;\n",
       "    }\n",
       "</style>\n",
       "<table border=\"1\" class=\"dataframe\">\n",
       "  <thead>\n",
       "    <tr style=\"text-align: right;\">\n",
       "      <th></th>\n",
       "      <th>Date</th>\n",
       "      <th>Open</th>\n",
       "      <th>High</th>\n",
       "      <th>Low</th>\n",
       "      <th>Close</th>\n",
       "      <th>Adj Close</th>\n",
       "      <th>Volume</th>\n",
       "    </tr>\n",
       "  </thead>\n",
       "  <tbody>\n",
       "    <tr>\n",
       "      <th>2812</th>\n",
       "      <td>2008-07-21</td>\n",
       "      <td>69.519997</td>\n",
       "      <td>69.800003</td>\n",
       "      <td>66.300003</td>\n",
       "      <td>68.480003</td>\n",
       "      <td>68.480003</td>\n",
       "      <td>6896900</td>\n",
       "    </tr>\n",
       "    <tr>\n",
       "      <th>4476</th>\n",
       "      <td>2015-03-02</td>\n",
       "      <td>380.850006</td>\n",
       "      <td>385.899994</td>\n",
       "      <td>379.480011</td>\n",
       "      <td>385.660004</td>\n",
       "      <td>385.660004</td>\n",
       "      <td>2139200</td>\n",
       "    </tr>\n",
       "    <tr>\n",
       "      <th>285</th>\n",
       "      <td>1998-07-02</td>\n",
       "      <td>19.291668</td>\n",
       "      <td>20.916668</td>\n",
       "      <td>18.750000</td>\n",
       "      <td>20.666668</td>\n",
       "      <td>20.666668</td>\n",
       "      <td>52279800</td>\n",
       "    </tr>\n",
       "    <tr>\n",
       "      <th>4931</th>\n",
       "      <td>2016-12-16</td>\n",
       "      <td>765.000000</td>\n",
       "      <td>765.130005</td>\n",
       "      <td>754.000000</td>\n",
       "      <td>757.770020</td>\n",
       "      <td>757.770020</td>\n",
       "      <td>4848200</td>\n",
       "    </tr>\n",
       "    <tr>\n",
       "      <th>2748</th>\n",
       "      <td>2008-04-18</td>\n",
       "      <td>76.480003</td>\n",
       "      <td>82.000000</td>\n",
       "      <td>76.320000</td>\n",
       "      <td>80.099998</td>\n",
       "      <td>80.099998</td>\n",
       "      <td>16791300</td>\n",
       "    </tr>\n",
       "    <tr>\n",
       "      <th>2240</th>\n",
       "      <td>2006-04-11</td>\n",
       "      <td>36.610001</td>\n",
       "      <td>36.750000</td>\n",
       "      <td>35.520000</td>\n",
       "      <td>36.060001</td>\n",
       "      <td>36.060001</td>\n",
       "      <td>6605600</td>\n",
       "    </tr>\n",
       "    <tr>\n",
       "      <th>1779</th>\n",
       "      <td>2004-06-14</td>\n",
       "      <td>49.340000</td>\n",
       "      <td>49.990002</td>\n",
       "      <td>49.040001</td>\n",
       "      <td>49.250000</td>\n",
       "      <td>49.250000</td>\n",
       "      <td>5180900</td>\n",
       "    </tr>\n",
       "    <tr>\n",
       "      <th>1784</th>\n",
       "      <td>2004-06-21</td>\n",
       "      <td>49.450001</td>\n",
       "      <td>50.299999</td>\n",
       "      <td>49.250000</td>\n",
       "      <td>49.770000</td>\n",
       "      <td>49.770000</td>\n",
       "      <td>4490300</td>\n",
       "    </tr>\n",
       "    <tr>\n",
       "      <th>4779</th>\n",
       "      <td>2016-05-12</td>\n",
       "      <td>717.380005</td>\n",
       "      <td>722.450012</td>\n",
       "      <td>711.510010</td>\n",
       "      <td>717.929993</td>\n",
       "      <td>717.929993</td>\n",
       "      <td>5048200</td>\n",
       "    </tr>\n",
       "    <tr>\n",
       "      <th>1171</th>\n",
       "      <td>2002-01-11</td>\n",
       "      <td>11.030000</td>\n",
       "      <td>11.340000</td>\n",
       "      <td>10.930000</td>\n",
       "      <td>11.030000</td>\n",
       "      <td>11.030000</td>\n",
       "      <td>4276800</td>\n",
       "    </tr>\n",
       "  </tbody>\n",
       "</table>\n",
       "</div>"
      ],
      "text/plain": [
       "            Date        Open        High         Low       Close   Adj Close  \\\n",
       "2812  2008-07-21   69.519997   69.800003   66.300003   68.480003   68.480003   \n",
       "4476  2015-03-02  380.850006  385.899994  379.480011  385.660004  385.660004   \n",
       "285   1998-07-02   19.291668   20.916668   18.750000   20.666668   20.666668   \n",
       "4931  2016-12-16  765.000000  765.130005  754.000000  757.770020  757.770020   \n",
       "2748  2008-04-18   76.480003   82.000000   76.320000   80.099998   80.099998   \n",
       "2240  2006-04-11   36.610001   36.750000   35.520000   36.060001   36.060001   \n",
       "1779  2004-06-14   49.340000   49.990002   49.040001   49.250000   49.250000   \n",
       "1784  2004-06-21   49.450001   50.299999   49.250000   49.770000   49.770000   \n",
       "4779  2016-05-12  717.380005  722.450012  711.510010  717.929993  717.929993   \n",
       "1171  2002-01-11   11.030000   11.340000   10.930000   11.030000   11.030000   \n",
       "\n",
       "        Volume  \n",
       "2812   6896900  \n",
       "4476   2139200  \n",
       "285   52279800  \n",
       "4931   4848200  \n",
       "2748  16791300  \n",
       "2240   6605600  \n",
       "1779   5180900  \n",
       "1784   4490300  \n",
       "4779   5048200  \n",
       "1171   4276800  "
      ]
     },
     "execution_count": 10,
     "metadata": {},
     "output_type": "execute_result"
    }
   ],
   "source": [
    "train.head(10)"
   ]
  },
  {
   "cell_type": "code",
   "execution_count": 11,
   "id": "26f5d8bd",
   "metadata": {
    "execution": {
     "iopub.execute_input": "2023-04-13T10:28:53.354527Z",
     "iopub.status.busy": "2023-04-13T10:28:53.354084Z",
     "iopub.status.idle": "2023-04-13T10:28:53.371589Z",
     "shell.execute_reply": "2023-04-13T10:28:53.370107Z"
    },
    "papermill": {
     "duration": 0.031325,
     "end_time": "2023-04-13T10:28:53.374306",
     "exception": false,
     "start_time": "2023-04-13T10:28:53.342981",
     "status": "completed"
    },
    "tags": []
   },
   "outputs": [
    {
     "data": {
      "text/html": [
       "<div>\n",
       "<style scoped>\n",
       "    .dataframe tbody tr th:only-of-type {\n",
       "        vertical-align: middle;\n",
       "    }\n",
       "\n",
       "    .dataframe tbody tr th {\n",
       "        vertical-align: top;\n",
       "    }\n",
       "\n",
       "    .dataframe thead th {\n",
       "        text-align: right;\n",
       "    }\n",
       "</style>\n",
       "<table border=\"1\" class=\"dataframe\">\n",
       "  <thead>\n",
       "    <tr style=\"text-align: right;\">\n",
       "      <th></th>\n",
       "      <th>Date</th>\n",
       "      <th>Open</th>\n",
       "      <th>High</th>\n",
       "      <th>Low</th>\n",
       "      <th>Close</th>\n",
       "      <th>Adj Close</th>\n",
       "      <th>Volume</th>\n",
       "    </tr>\n",
       "  </thead>\n",
       "  <tbody>\n",
       "    <tr>\n",
       "      <th>3453</th>\n",
       "      <td>2011-02-03</td>\n",
       "      <td>173.500000</td>\n",
       "      <td>174.669998</td>\n",
       "      <td>171.949997</td>\n",
       "      <td>173.710007</td>\n",
       "      <td>173.710007</td>\n",
       "      <td>3678900</td>\n",
       "    </tr>\n",
       "    <tr>\n",
       "      <th>1671</th>\n",
       "      <td>2004-01-07</td>\n",
       "      <td>52.180000</td>\n",
       "      <td>52.660000</td>\n",
       "      <td>50.939999</td>\n",
       "      <td>51.900002</td>\n",
       "      <td>51.900002</td>\n",
       "      <td>9242700</td>\n",
       "    </tr>\n",
       "    <tr>\n",
       "      <th>1544</th>\n",
       "      <td>2003-07-08</td>\n",
       "      <td>38.759998</td>\n",
       "      <td>40.830002</td>\n",
       "      <td>38.750000</td>\n",
       "      <td>40.509998</td>\n",
       "      <td>40.509998</td>\n",
       "      <td>12145400</td>\n",
       "    </tr>\n",
       "    <tr>\n",
       "      <th>2297</th>\n",
       "      <td>2006-07-03</td>\n",
       "      <td>38.520000</td>\n",
       "      <td>38.619999</td>\n",
       "      <td>38.230000</td>\n",
       "      <td>38.610001</td>\n",
       "      <td>38.610001</td>\n",
       "      <td>1436300</td>\n",
       "    </tr>\n",
       "    <tr>\n",
       "      <th>4596</th>\n",
       "      <td>2015-08-20</td>\n",
       "      <td>530.390015</td>\n",
       "      <td>533.250000</td>\n",
       "      <td>515.770020</td>\n",
       "      <td>515.780029</td>\n",
       "      <td>515.780029</td>\n",
       "      <td>4408000</td>\n",
       "    </tr>\n",
       "    <tr>\n",
       "      <th>1282</th>\n",
       "      <td>2002-06-21</td>\n",
       "      <td>17.600000</td>\n",
       "      <td>17.790001</td>\n",
       "      <td>17.340000</td>\n",
       "      <td>17.530001</td>\n",
       "      <td>17.530001</td>\n",
       "      <td>5176800</td>\n",
       "    </tr>\n",
       "    <tr>\n",
       "      <th>2635</th>\n",
       "      <td>2007-11-05</td>\n",
       "      <td>84.349998</td>\n",
       "      <td>86.019997</td>\n",
       "      <td>82.760002</td>\n",
       "      <td>84.370003</td>\n",
       "      <td>84.370003</td>\n",
       "      <td>7453100</td>\n",
       "    </tr>\n",
       "    <tr>\n",
       "      <th>3162</th>\n",
       "      <td>2009-12-08</td>\n",
       "      <td>134.300003</td>\n",
       "      <td>136.080002</td>\n",
       "      <td>132.869995</td>\n",
       "      <td>134.110001</td>\n",
       "      <td>134.110001</td>\n",
       "      <td>8002800</td>\n",
       "    </tr>\n",
       "    <tr>\n",
       "      <th>2462</th>\n",
       "      <td>2007-03-01</td>\n",
       "      <td>39.320000</td>\n",
       "      <td>39.320000</td>\n",
       "      <td>38.049999</td>\n",
       "      <td>38.849998</td>\n",
       "      <td>38.849998</td>\n",
       "      <td>9255800</td>\n",
       "    </tr>\n",
       "    <tr>\n",
       "      <th>1921</th>\n",
       "      <td>2005-01-04</td>\n",
       "      <td>42.669998</td>\n",
       "      <td>43.259998</td>\n",
       "      <td>41.500000</td>\n",
       "      <td>42.139999</td>\n",
       "      <td>42.139999</td>\n",
       "      <td>19418500</td>\n",
       "    </tr>\n",
       "  </tbody>\n",
       "</table>\n",
       "</div>"
      ],
      "text/plain": [
       "            Date        Open        High         Low       Close   Adj Close  \\\n",
       "3453  2011-02-03  173.500000  174.669998  171.949997  173.710007  173.710007   \n",
       "1671  2004-01-07   52.180000   52.660000   50.939999   51.900002   51.900002   \n",
       "1544  2003-07-08   38.759998   40.830002   38.750000   40.509998   40.509998   \n",
       "2297  2006-07-03   38.520000   38.619999   38.230000   38.610001   38.610001   \n",
       "4596  2015-08-20  530.390015  533.250000  515.770020  515.780029  515.780029   \n",
       "1282  2002-06-21   17.600000   17.790001   17.340000   17.530001   17.530001   \n",
       "2635  2007-11-05   84.349998   86.019997   82.760002   84.370003   84.370003   \n",
       "3162  2009-12-08  134.300003  136.080002  132.869995  134.110001  134.110001   \n",
       "2462  2007-03-01   39.320000   39.320000   38.049999   38.849998   38.849998   \n",
       "1921  2005-01-04   42.669998   43.259998   41.500000   42.139999   42.139999   \n",
       "\n",
       "        Volume  \n",
       "3453   3678900  \n",
       "1671   9242700  \n",
       "1544  12145400  \n",
       "2297   1436300  \n",
       "4596   4408000  \n",
       "1282   5176800  \n",
       "2635   7453100  \n",
       "3162   8002800  \n",
       "2462   9255800  \n",
       "1921  19418500  "
      ]
     },
     "execution_count": 11,
     "metadata": {},
     "output_type": "execute_result"
    }
   ],
   "source": [
    "test.head(10)"
   ]
  },
  {
   "cell_type": "code",
   "execution_count": 12,
   "id": "9a07fee0",
   "metadata": {
    "execution": {
     "iopub.execute_input": "2023-04-13T10:28:53.396945Z",
     "iopub.status.busy": "2023-04-13T10:28:53.396526Z",
     "iopub.status.idle": "2023-04-13T10:28:53.405951Z",
     "shell.execute_reply": "2023-04-13T10:28:53.404512Z"
    },
    "papermill": {
     "duration": 0.024918,
     "end_time": "2023-04-13T10:28:53.409222",
     "exception": false,
     "start_time": "2023-04-13T10:28:53.384304",
     "status": "completed"
    },
    "tags": []
   },
   "outputs": [],
   "source": [
    "x_train = train[['Open', 'High', 'Low', 'Volume']].values\n",
    "x_test = test[['Open', 'High', 'Low', 'Volume']].values"
   ]
  },
  {
   "cell_type": "code",
   "execution_count": 13,
   "id": "21d0862e",
   "metadata": {
    "execution": {
     "iopub.execute_input": "2023-04-13T10:28:53.432267Z",
     "iopub.status.busy": "2023-04-13T10:28:53.431242Z",
     "iopub.status.idle": "2023-04-13T10:28:53.437664Z",
     "shell.execute_reply": "2023-04-13T10:28:53.436620Z"
    },
    "papermill": {
     "duration": 0.02097,
     "end_time": "2023-04-13T10:28:53.440530",
     "exception": false,
     "start_time": "2023-04-13T10:28:53.419560",
     "status": "completed"
    },
    "tags": []
   },
   "outputs": [],
   "source": [
    "y_train = train['Close'].values\n",
    "y_test = test['Close'].values"
   ]
  },
  {
   "cell_type": "markdown",
   "id": "7b87dc64",
   "metadata": {
    "papermill": {
     "duration": 0.009567,
     "end_time": "2023-04-13T10:28:53.459742",
     "exception": false,
     "start_time": "2023-04-13T10:28:53.450175",
     "status": "completed"
    },
    "tags": []
   },
   "source": [
    "# Logistic Regression"
   ]
  },
  {
   "cell_type": "code",
   "execution_count": 14,
   "id": "831aab86",
   "metadata": {
    "execution": {
     "iopub.execute_input": "2023-04-13T10:28:53.481913Z",
     "iopub.status.busy": "2023-04-13T10:28:53.480939Z",
     "iopub.status.idle": "2023-04-13T10:28:53.527597Z",
     "shell.execute_reply": "2023-04-13T10:28:53.525650Z"
    },
    "papermill": {
     "duration": 0.063966,
     "end_time": "2023-04-13T10:28:53.533334",
     "exception": false,
     "start_time": "2023-04-13T10:28:53.469368",
     "status": "completed"
    },
    "tags": []
   },
   "outputs": [
    {
     "data": {
      "text/plain": [
       "LinearRegression()"
      ]
     },
     "execution_count": 14,
     "metadata": {},
     "output_type": "execute_result"
    }
   ],
   "source": [
    "model = LinearRegression()\n",
    "model.fit(x_train, y_train)"
   ]
  },
  {
   "cell_type": "code",
   "execution_count": 15,
   "id": "a89bc22a",
   "metadata": {
    "execution": {
     "iopub.execute_input": "2023-04-13T10:28:53.589372Z",
     "iopub.status.busy": "2023-04-13T10:28:53.588381Z",
     "iopub.status.idle": "2023-04-13T10:28:53.601880Z",
     "shell.execute_reply": "2023-04-13T10:28:53.600002Z"
    },
    "papermill": {
     "duration": 0.046867,
     "end_time": "2023-04-13T10:28:53.606540",
     "exception": false,
     "start_time": "2023-04-13T10:28:53.559673",
     "status": "completed"
    },
    "tags": []
   },
   "outputs": [],
   "source": [
    "y_pred = model.predict(x_test)"
   ]
  },
  {
   "cell_type": "markdown",
   "id": "18129051",
   "metadata": {
    "papermill": {
     "duration": 0.010766,
     "end_time": "2023-04-13T10:28:53.636855",
     "exception": false,
     "start_time": "2023-04-13T10:28:53.626089",
     "status": "completed"
    },
    "tags": []
   },
   "source": [
    "# Visualizing the Data"
   ]
  },
  {
   "cell_type": "code",
   "execution_count": 16,
   "id": "6ff50ba0",
   "metadata": {
    "execution": {
     "iopub.execute_input": "2023-04-13T10:28:53.660153Z",
     "iopub.status.busy": "2023-04-13T10:28:53.658670Z",
     "iopub.status.idle": "2023-04-13T10:28:53.670975Z",
     "shell.execute_reply": "2023-04-13T10:28:53.669939Z"
    },
    "papermill": {
     "duration": 0.027278,
     "end_time": "2023-04-13T10:28:53.674337",
     "exception": false,
     "start_time": "2023-04-13T10:28:53.647059",
     "status": "completed"
    },
    "tags": []
   },
   "outputs": [],
   "source": [
    "viz['Date']=pd.to_datetime(viz['Date'],format='%Y-%m-%d')"
   ]
  },
  {
   "cell_type": "code",
   "execution_count": 17,
   "id": "92c5b29f",
   "metadata": {
    "execution": {
     "iopub.execute_input": "2023-04-13T10:28:53.697225Z",
     "iopub.status.busy": "2023-04-13T10:28:53.696206Z",
     "iopub.status.idle": "2023-04-13T10:28:53.746213Z",
     "shell.execute_reply": "2023-04-13T10:28:53.744477Z"
    },
    "papermill": {
     "duration": 0.064809,
     "end_time": "2023-04-13T10:28:53.749140",
     "exception": false,
     "start_time": "2023-04-13T10:28:53.684331",
     "status": "completed"
    },
    "tags": []
   },
   "outputs": [
    {
     "data": {
      "text/html": [
       "<div>\n",
       "<style scoped>\n",
       "    .dataframe tbody tr th:only-of-type {\n",
       "        vertical-align: middle;\n",
       "    }\n",
       "\n",
       "    .dataframe tbody tr th {\n",
       "        vertical-align: top;\n",
       "    }\n",
       "\n",
       "    .dataframe thead th {\n",
       "        text-align: right;\n",
       "    }\n",
       "</style>\n",
       "<table border=\"1\" class=\"dataframe\">\n",
       "  <thead>\n",
       "    <tr style=\"text-align: right;\">\n",
       "      <th></th>\n",
       "      <th>Close</th>\n",
       "    </tr>\n",
       "    <tr>\n",
       "      <th>Date</th>\n",
       "      <th></th>\n",
       "    </tr>\n",
       "  </thead>\n",
       "  <tbody>\n",
       "    <tr>\n",
       "      <th>1997-05-15</th>\n",
       "      <td>1.958333</td>\n",
       "    </tr>\n",
       "    <tr>\n",
       "      <th>1997-05-16</th>\n",
       "      <td>1.729167</td>\n",
       "    </tr>\n",
       "    <tr>\n",
       "      <th>1997-05-17</th>\n",
       "      <td>NaN</td>\n",
       "    </tr>\n",
       "    <tr>\n",
       "      <th>1997-05-18</th>\n",
       "      <td>NaN</td>\n",
       "    </tr>\n",
       "    <tr>\n",
       "      <th>1997-05-19</th>\n",
       "      <td>1.708333</td>\n",
       "    </tr>\n",
       "    <tr>\n",
       "      <th>...</th>\n",
       "      <td>...</td>\n",
       "    </tr>\n",
       "    <tr>\n",
       "      <th>2021-10-23</th>\n",
       "      <td>NaN</td>\n",
       "    </tr>\n",
       "    <tr>\n",
       "      <th>2021-10-24</th>\n",
       "      <td>NaN</td>\n",
       "    </tr>\n",
       "    <tr>\n",
       "      <th>2021-10-25</th>\n",
       "      <td>3320.370117</td>\n",
       "    </tr>\n",
       "    <tr>\n",
       "      <th>2021-10-26</th>\n",
       "      <td>3376.070068</td>\n",
       "    </tr>\n",
       "    <tr>\n",
       "      <th>2021-10-27</th>\n",
       "      <td>3396.189941</td>\n",
       "    </tr>\n",
       "  </tbody>\n",
       "</table>\n",
       "<p>8932 rows × 1 columns</p>\n",
       "</div>"
      ],
      "text/plain": [
       "                  Close\n",
       "Date                   \n",
       "1997-05-15     1.958333\n",
       "1997-05-16     1.729167\n",
       "1997-05-17          NaN\n",
       "1997-05-18          NaN\n",
       "1997-05-19     1.708333\n",
       "...                 ...\n",
       "2021-10-23          NaN\n",
       "2021-10-24          NaN\n",
       "2021-10-25  3320.370117\n",
       "2021-10-26  3376.070068\n",
       "2021-10-27  3396.189941\n",
       "\n",
       "[8932 rows x 1 columns]"
      ]
     },
     "execution_count": 17,
     "metadata": {},
     "output_type": "execute_result"
    }
   ],
   "source": [
    "data = pd.DataFrame(viz[['Date','Close']])\n",
    "data=data.reset_index()\n",
    "data=data.drop('index',axis=1)\n",
    "data.set_index('Date', inplace=True)\n",
    "data = data.asfreq('D')\n",
    "data"
   ]
  },
  {
   "cell_type": "code",
   "execution_count": 18,
   "id": "857d8e11",
   "metadata": {
    "execution": {
     "iopub.execute_input": "2023-04-13T10:28:53.772121Z",
     "iopub.status.busy": "2023-04-13T10:28:53.771614Z",
     "iopub.status.idle": "2023-04-13T10:28:53.779823Z",
     "shell.execute_reply": "2023-04-13T10:28:53.778061Z"
    },
    "papermill": {
     "duration": 0.023702,
     "end_time": "2023-04-13T10:28:53.783158",
     "exception": false,
     "start_time": "2023-04-13T10:28:53.759456",
     "status": "completed"
    },
    "tags": []
   },
   "outputs": [],
   "source": [
    "def style():\n",
    "    plt.figure(facecolor='black', figsize=(15,10))\n",
    "    ax = plt.axes()\n",
    "\n",
    "    ax.tick_params(axis='x', colors='white')    #setting up X-axis tick color to red\n",
    "    ax.tick_params(axis='y', colors='white')    #setting up Y-axis tick color to black\n",
    "\n",
    "    ax.spines['left'].set_color('white')        # setting up Y-axis tick color to red\n",
    "    ax.spines['bottom'].set_color('white')      #setting up above X-axis tick color to red\n",
    "\n",
    "    ax.set_facecolor(\"black\")                   # Setting the background color of the plot using set_facecolor() method"
   ]
  },
  {
   "cell_type": "code",
   "execution_count": 19,
   "id": "bea6a01f",
   "metadata": {
    "execution": {
     "iopub.execute_input": "2023-04-13T10:28:53.806279Z",
     "iopub.status.busy": "2023-04-13T10:28:53.805807Z",
     "iopub.status.idle": "2023-04-13T10:28:54.259542Z",
     "shell.execute_reply": "2023-04-13T10:28:54.258254Z"
    },
    "papermill": {
     "duration": 0.468828,
     "end_time": "2023-04-13T10:28:54.262154",
     "exception": false,
     "start_time": "2023-04-13T10:28:53.793326",
     "status": "completed"
    },
    "tags": []
   },
   "outputs": [
    {
     "data": {
      "text/plain": [
       "<matplotlib.legend.Legend at 0x775b976da250>"
      ]
     },
     "execution_count": 19,
     "metadata": {},
     "output_type": "execute_result"
    },
    {
     "data": {
      "image/png": "[encoded data removed]",
      "text/plain": [
       "<Figure size 1500x1000 with 1 Axes>"
      ]
     },
     "metadata": {},
     "output_type": "display_data"
    }
   ],
   "source": [
    "style()\n",
    "\n",
    "plt.title('Closing Stock Price', color=\"white\")\n",
    "plt.plot(viz.Date, viz.Close, color=\"#94F008\")\n",
    "plt.legend([\"Close\"], loc =\"lower right\", facecolor='black', labelcolor='white')"
   ]
  },
  {
   "cell_type": "code",
   "execution_count": 20,
   "id": "8bfb672a",
   "metadata": {
    "execution": {
     "iopub.execute_input": "2023-04-13T10:28:54.285286Z",
     "iopub.status.busy": "2023-04-13T10:28:54.284887Z",
     "iopub.status.idle": "2023-04-13T10:28:54.714083Z",
     "shell.execute_reply": "2023-04-13T10:28:54.712767Z"
    },
    "papermill": {
     "duration": 0.444292,
     "end_time": "2023-04-13T10:28:54.717281",
     "exception": false,
     "start_time": "2023-04-13T10:28:54.272989",
     "status": "completed"
    },
    "tags": []
   },
   "outputs": [
    {
     "data": {
      "text/plain": [
       "<matplotlib.legend.Legend at 0x775b96def250>"
      ]
     },
     "execution_count": 20,
     "metadata": {},
     "output_type": "execute_result"
    },
    {
     "data": {
      "image/png": "[encoded data removed]",
      "text/plain": [
       "<Figure size 1500x1000 with 1 Axes>"
      ]
     },
     "metadata": {},
     "output_type": "display_data"
    }
   ],
   "source": [
    "style()\n",
    "\n",
    "plt.title('Linear Regression', color=\"white\")\n",
    "plt.scatter(y_pred, y_test, color=\"#94F008\")\n",
    "plt.scatter(y_test, y_test, color=\"red\")\n",
    "plt.plot(y_test, y_test, color=\"yellow\")\n",
    "plt.legend([\"Predicted_Close\", \"Actual_Close\", \"Regression Line\"], loc =\"lower right\", facecolor='black', labelcolor='white')"
   ]
  },
  {
   "cell_type": "markdown",
   "id": "b6c9ecde",
   "metadata": {
    "papermill": {
     "duration": 0.011418,
     "end_time": "2023-04-13T10:28:54.740833",
     "exception": false,
     "start_time": "2023-04-13T10:28:54.729415",
     "status": "completed"
    },
    "tags": []
   },
   "source": [
    "# Model Evaluation"
   ]
  },
  {
   "cell_type": "code",
   "execution_count": 21,
   "id": "b6397517",
   "metadata": {
    "execution": {
     "iopub.execute_input": "2023-04-13T10:28:54.766680Z",
     "iopub.status.busy": "2023-04-13T10:28:54.766251Z",
     "iopub.status.idle": "2023-04-13T10:28:54.777662Z",
     "shell.execute_reply": "2023-04-13T10:28:54.775975Z"
    },
    "papermill": {
     "duration": 0.028123,
     "end_time": "2023-04-13T10:28:54.780537",
     "exception": false,
     "start_time": "2023-04-13T10:28:54.752414",
     "status": "completed"
    },
    "tags": []
   },
   "outputs": [
    {
     "name": "stdout",
     "output_type": "stream",
     "text": [
      "MSE 42.134\n",
      "RMSE 6.491\n",
      "MAE 2.472\n",
      "MAPE 0.009\n",
      "R2 Score :  1.0\n"
     ]
    }
   ],
   "source": [
    "print(\"MSE\",round(mean_squared_error(y_test,y_pred), 3))\n",
    "print(\"RMSE\",round(np.sqrt(mean_squared_error(y_test,y_pred)), 3))\n",
    "print(\"MAE\",round(mean_absolute_error(y_test,y_pred), 3))\n",
    "print(\"MAPE\",round(mean_absolute_percentage_error(y_test,y_pred), 3))\n",
    "print(\"R2 Score : \", round(r2_score(y_test,y_pred), 3))"
   ]
  },
  {
   "cell_type": "code",
   "execution_count": 22,
   "id": "6b8191c4",
   "metadata": {
    "execution": {
     "iopub.execute_input": "2023-04-13T10:28:54.806301Z",
     "iopub.status.busy": "2023-04-13T10:28:54.805164Z",
     "iopub.status.idle": "2023-04-13T10:28:54.823771Z",
     "shell.execute_reply": "2023-04-13T10:28:54.822495Z"
    },
    "papermill": {
     "duration": 0.0343,
     "end_time": "2023-04-13T10:28:54.826561",
     "exception": false,
     "start_time": "2023-04-13T10:28:54.792261",
     "status": "completed"
    },
    "tags": []
   },
   "outputs": [
    {
     "data": {
      "text/html": [
       "<div>\n",
       "<style scoped>\n",
       "    .dataframe tbody tr th:only-of-type {\n",
       "        vertical-align: middle;\n",
       "    }\n",
       "\n",
       "    .dataframe tbody tr th {\n",
       "        vertical-align: top;\n",
       "    }\n",
       "\n",
       "    .dataframe thead th {\n",
       "        text-align: right;\n",
       "    }\n",
       "</style>\n",
       "<table border=\"1\" class=\"dataframe\">\n",
       "  <thead>\n",
       "    <tr style=\"text-align: right;\">\n",
       "      <th></th>\n",
       "      <th>Date</th>\n",
       "      <th>Open</th>\n",
       "      <th>High</th>\n",
       "      <th>Low</th>\n",
       "      <th>Close</th>\n",
       "      <th>Adj Close</th>\n",
       "      <th>Volume</th>\n",
       "    </tr>\n",
       "  </thead>\n",
       "  <tbody>\n",
       "    <tr>\n",
       "      <th>3453</th>\n",
       "      <td>2011-02-03</td>\n",
       "      <td>173.500000</td>\n",
       "      <td>174.669998</td>\n",
       "      <td>171.949997</td>\n",
       "      <td>173.710007</td>\n",
       "      <td>173.710007</td>\n",
       "      <td>3678900</td>\n",
       "    </tr>\n",
       "    <tr>\n",
       "      <th>1671</th>\n",
       "      <td>2004-01-07</td>\n",
       "      <td>52.180000</td>\n",
       "      <td>52.660000</td>\n",
       "      <td>50.939999</td>\n",
       "      <td>51.900002</td>\n",
       "      <td>51.900002</td>\n",
       "      <td>9242700</td>\n",
       "    </tr>\n",
       "    <tr>\n",
       "      <th>1544</th>\n",
       "      <td>2003-07-08</td>\n",
       "      <td>38.759998</td>\n",
       "      <td>40.830002</td>\n",
       "      <td>38.750000</td>\n",
       "      <td>40.509998</td>\n",
       "      <td>40.509998</td>\n",
       "      <td>12145400</td>\n",
       "    </tr>\n",
       "    <tr>\n",
       "      <th>2297</th>\n",
       "      <td>2006-07-03</td>\n",
       "      <td>38.520000</td>\n",
       "      <td>38.619999</td>\n",
       "      <td>38.230000</td>\n",
       "      <td>38.610001</td>\n",
       "      <td>38.610001</td>\n",
       "      <td>1436300</td>\n",
       "    </tr>\n",
       "    <tr>\n",
       "      <th>4596</th>\n",
       "      <td>2015-08-20</td>\n",
       "      <td>530.390015</td>\n",
       "      <td>533.250000</td>\n",
       "      <td>515.770020</td>\n",
       "      <td>515.780029</td>\n",
       "      <td>515.780029</td>\n",
       "      <td>4408000</td>\n",
       "    </tr>\n",
       "    <tr>\n",
       "      <th>...</th>\n",
       "      <td>...</td>\n",
       "      <td>...</td>\n",
       "      <td>...</td>\n",
       "      <td>...</td>\n",
       "      <td>...</td>\n",
       "      <td>...</td>\n",
       "      <td>...</td>\n",
       "    </tr>\n",
       "    <tr>\n",
       "      <th>4738</th>\n",
       "      <td>2016-03-15</td>\n",
       "      <td>571.000000</td>\n",
       "      <td>581.520020</td>\n",
       "      <td>567.000000</td>\n",
       "      <td>577.020020</td>\n",
       "      <td>577.020020</td>\n",
       "      <td>3876800</td>\n",
       "    </tr>\n",
       "    <tr>\n",
       "      <th>262</th>\n",
       "      <td>1998-06-01</td>\n",
       "      <td>7.333333</td>\n",
       "      <td>7.375000</td>\n",
       "      <td>6.942708</td>\n",
       "      <td>7.135417</td>\n",
       "      <td>7.135417</td>\n",
       "      <td>8043600</td>\n",
       "    </tr>\n",
       "    <tr>\n",
       "      <th>4166</th>\n",
       "      <td>2013-12-04</td>\n",
       "      <td>383.500000</td>\n",
       "      <td>389.690002</td>\n",
       "      <td>381.489990</td>\n",
       "      <td>385.959991</td>\n",
       "      <td>385.959991</td>\n",
       "      <td>2355300</td>\n",
       "    </tr>\n",
       "    <tr>\n",
       "      <th>154</th>\n",
       "      <td>1997-12-23</td>\n",
       "      <td>4.687500</td>\n",
       "      <td>4.739583</td>\n",
       "      <td>4.625000</td>\n",
       "      <td>4.625000</td>\n",
       "      <td>4.625000</td>\n",
       "      <td>1177200</td>\n",
       "    </tr>\n",
       "    <tr>\n",
       "      <th>5105</th>\n",
       "      <td>2017-08-28</td>\n",
       "      <td>946.539978</td>\n",
       "      <td>953.000000</td>\n",
       "      <td>942.250000</td>\n",
       "      <td>946.020020</td>\n",
       "      <td>946.020020</td>\n",
       "      <td>2596700</td>\n",
       "    </tr>\n",
       "  </tbody>\n",
       "</table>\n",
       "<p>1231 rows × 7 columns</p>\n",
       "</div>"
      ],
      "text/plain": [
       "            Date        Open        High         Low       Close   Adj Close  \\\n",
       "3453  2011-02-03  173.500000  174.669998  171.949997  173.710007  173.710007   \n",
       "1671  2004-01-07   52.180000   52.660000   50.939999   51.900002   51.900002   \n",
       "1544  2003-07-08   38.759998   40.830002   38.750000   40.509998   40.509998   \n",
       "2297  2006-07-03   38.520000   38.619999   38.230000   38.610001   38.610001   \n",
       "4596  2015-08-20  530.390015  533.250000  515.770020  515.780029  515.780029   \n",
       "...          ...         ...         ...         ...         ...         ...   \n",
       "4738  2016-03-15  571.000000  581.520020  567.000000  577.020020  577.020020   \n",
       "262   1998-06-01    7.333333    7.375000    6.942708    7.135417    7.135417   \n",
       "4166  2013-12-04  383.500000  389.690002  381.489990  385.959991  385.959991   \n",
       "154   1997-12-23    4.687500    4.739583    4.625000    4.625000    4.625000   \n",
       "5105  2017-08-28  946.539978  953.000000  942.250000  946.020020  946.020020   \n",
       "\n",
       "        Volume  \n",
       "3453   3678900  \n",
       "1671   9242700  \n",
       "1544  12145400  \n",
       "2297   1436300  \n",
       "4596   4408000  \n",
       "...        ...  \n",
       "4738   3876800  \n",
       "262    8043600  \n",
       "4166   2355300  \n",
       "154    1177200  \n",
       "5105   2596700  \n",
       "\n",
       "[1231 rows x 7 columns]"
      ]
     },
     "execution_count": 22,
     "metadata": {},
     "output_type": "execute_result"
    }
   ],
   "source": [
    "pred_df = test.copy()\n",
    "pred_df"
   ]
  },
  {
   "cell_type": "code",
   "execution_count": 23,
   "id": "9a692e7d",
   "metadata": {
    "execution": {
     "iopub.execute_input": "2023-04-13T10:28:54.852801Z",
     "iopub.status.busy": "2023-04-13T10:28:54.852360Z",
     "iopub.status.idle": "2023-04-13T10:28:54.858920Z",
     "shell.execute_reply": "2023-04-13T10:28:54.857765Z"
    },
    "papermill": {
     "duration": 0.022506,
     "end_time": "2023-04-13T10:28:54.861375",
     "exception": false,
     "start_time": "2023-04-13T10:28:54.838869",
     "status": "completed"
    },
    "tags": []
   },
   "outputs": [
    {
     "name": "stdout",
     "output_type": "stream",
     "text": [
      "[1.85839727]\n"
     ]
    }
   ],
   "source": [
    "result = model.predict([[2.437500, 2.500000, 1.927083, 72156000]])\n",
    "print(result)"
   ]
  },
  {
   "cell_type": "code",
   "execution_count": 24,
   "id": "5da293f1",
   "metadata": {
    "execution": {
     "iopub.execute_input": "2023-04-13T10:28:54.888267Z",
     "iopub.status.busy": "2023-04-13T10:28:54.887813Z",
     "iopub.status.idle": "2023-04-13T10:28:54.911105Z",
     "shell.execute_reply": "2023-04-13T10:28:54.910090Z"
    },
    "papermill": {
     "duration": 0.039437,
     "end_time": "2023-04-13T10:28:54.913616",
     "exception": false,
     "start_time": "2023-04-13T10:28:54.874179",
     "status": "completed"
    },
    "tags": []
   },
   "outputs": [
    {
     "data": {
      "text/html": [
       "<div>\n",
       "<style scoped>\n",
       "    .dataframe tbody tr th:only-of-type {\n",
       "        vertical-align: middle;\n",
       "    }\n",
       "\n",
       "    .dataframe tbody tr th {\n",
       "        vertical-align: top;\n",
       "    }\n",
       "\n",
       "    .dataframe thead th {\n",
       "        text-align: right;\n",
       "    }\n",
       "</style>\n",
       "<table border=\"1\" class=\"dataframe\">\n",
       "  <thead>\n",
       "    <tr style=\"text-align: right;\">\n",
       "      <th></th>\n",
       "      <th>Date</th>\n",
       "      <th>Open</th>\n",
       "      <th>High</th>\n",
       "      <th>Low</th>\n",
       "      <th>Close</th>\n",
       "      <th>Adj Close</th>\n",
       "      <th>Volume</th>\n",
       "      <th>Close_Prediction</th>\n",
       "    </tr>\n",
       "  </thead>\n",
       "  <tbody>\n",
       "    <tr>\n",
       "      <th>3453</th>\n",
       "      <td>2011-02-03</td>\n",
       "      <td>173.500000</td>\n",
       "      <td>174.669998</td>\n",
       "      <td>171.949997</td>\n",
       "      <td>173.710007</td>\n",
       "      <td>173.710007</td>\n",
       "      <td>3678900</td>\n",
       "      <td>173.350575</td>\n",
       "    </tr>\n",
       "    <tr>\n",
       "      <th>1671</th>\n",
       "      <td>2004-01-07</td>\n",
       "      <td>52.180000</td>\n",
       "      <td>52.660000</td>\n",
       "      <td>50.939999</td>\n",
       "      <td>51.900002</td>\n",
       "      <td>51.900002</td>\n",
       "      <td>9242700</td>\n",
       "      <td>51.654001</td>\n",
       "    </tr>\n",
       "    <tr>\n",
       "      <th>1544</th>\n",
       "      <td>2003-07-08</td>\n",
       "      <td>38.759998</td>\n",
       "      <td>40.830002</td>\n",
       "      <td>38.750000</td>\n",
       "      <td>40.509998</td>\n",
       "      <td>40.509998</td>\n",
       "      <td>12145400</td>\n",
       "      <td>40.534809</td>\n",
       "    </tr>\n",
       "    <tr>\n",
       "      <th>2297</th>\n",
       "      <td>2006-07-03</td>\n",
       "      <td>38.520000</td>\n",
       "      <td>38.619999</td>\n",
       "      <td>38.230000</td>\n",
       "      <td>38.610001</td>\n",
       "      <td>38.610001</td>\n",
       "      <td>1436300</td>\n",
       "      <td>38.479548</td>\n",
       "    </tr>\n",
       "    <tr>\n",
       "      <th>4596</th>\n",
       "      <td>2015-08-20</td>\n",
       "      <td>530.390015</td>\n",
       "      <td>533.250000</td>\n",
       "      <td>515.770020</td>\n",
       "      <td>515.780029</td>\n",
       "      <td>515.780029</td>\n",
       "      <td>4408000</td>\n",
       "      <td>521.144197</td>\n",
       "    </tr>\n",
       "    <tr>\n",
       "      <th>...</th>\n",
       "      <td>...</td>\n",
       "      <td>...</td>\n",
       "      <td>...</td>\n",
       "      <td>...</td>\n",
       "      <td>...</td>\n",
       "      <td>...</td>\n",
       "      <td>...</td>\n",
       "      <td>...</td>\n",
       "    </tr>\n",
       "    <tr>\n",
       "      <th>4738</th>\n",
       "      <td>2016-03-15</td>\n",
       "      <td>571.000000</td>\n",
       "      <td>581.520020</td>\n",
       "      <td>567.000000</td>\n",
       "      <td>577.020020</td>\n",
       "      <td>577.020020</td>\n",
       "      <td>3876800</td>\n",
       "      <td>576.730518</td>\n",
       "    </tr>\n",
       "    <tr>\n",
       "      <th>262</th>\n",
       "      <td>1998-06-01</td>\n",
       "      <td>7.333333</td>\n",
       "      <td>7.375000</td>\n",
       "      <td>6.942708</td>\n",
       "      <td>7.135417</td>\n",
       "      <td>7.135417</td>\n",
       "      <td>8043600</td>\n",
       "      <td>7.125541</td>\n",
       "    </tr>\n",
       "    <tr>\n",
       "      <th>4166</th>\n",
       "      <td>2013-12-04</td>\n",
       "      <td>383.500000</td>\n",
       "      <td>389.690002</td>\n",
       "      <td>381.489990</td>\n",
       "      <td>385.959991</td>\n",
       "      <td>385.959991</td>\n",
       "      <td>2355300</td>\n",
       "      <td>387.205772</td>\n",
       "    </tr>\n",
       "    <tr>\n",
       "      <th>154</th>\n",
       "      <td>1997-12-23</td>\n",
       "      <td>4.687500</td>\n",
       "      <td>4.739583</td>\n",
       "      <td>4.625000</td>\n",
       "      <td>4.625000</td>\n",
       "      <td>4.625000</td>\n",
       "      <td>1177200</td>\n",
       "      <td>4.784521</td>\n",
       "    </tr>\n",
       "    <tr>\n",
       "      <th>5105</th>\n",
       "      <td>2017-08-28</td>\n",
       "      <td>946.539978</td>\n",
       "      <td>953.000000</td>\n",
       "      <td>942.250000</td>\n",
       "      <td>946.020020</td>\n",
       "      <td>946.020020</td>\n",
       "      <td>2596700</td>\n",
       "      <td>948.757588</td>\n",
       "    </tr>\n",
       "  </tbody>\n",
       "</table>\n",
       "<p>1231 rows × 8 columns</p>\n",
       "</div>"
      ],
      "text/plain": [
       "            Date        Open        High         Low       Close   Adj Close  \\\n",
       "3453  2011-02-03  173.500000  174.669998  171.949997  173.710007  173.710007   \n",
       "1671  2004-01-07   52.180000   52.660000   50.939999   51.900002   51.900002   \n",
       "1544  2003-07-08   38.759998   40.830002   38.750000   40.509998   40.509998   \n",
       "2297  2006-07-03   38.520000   38.619999   38.230000   38.610001   38.610001   \n",
       "4596  2015-08-20  530.390015  533.250000  515.770020  515.780029  515.780029   \n",
       "...          ...         ...         ...         ...         ...         ...   \n",
       "4738  2016-03-15  571.000000  581.520020  567.000000  577.020020  577.020020   \n",
       "262   1998-06-01    7.333333    7.375000    6.942708    7.135417    7.135417   \n",
       "4166  2013-12-04  383.500000  389.690002  381.489990  385.959991  385.959991   \n",
       "154   1997-12-23    4.687500    4.739583    4.625000    4.625000    4.625000   \n",
       "5105  2017-08-28  946.539978  953.000000  942.250000  946.020020  946.020020   \n",
       "\n",
       "        Volume  Close_Prediction  \n",
       "3453   3678900        173.350575  \n",
       "1671   9242700         51.654001  \n",
       "1544  12145400         40.534809  \n",
       "2297   1436300         38.479548  \n",
       "4596   4408000        521.144197  \n",
       "...        ...               ...  \n",
       "4738   3876800        576.730518  \n",
       "262    8043600          7.125541  \n",
       "4166   2355300        387.205772  \n",
       "154    1177200          4.784521  \n",
       "5105   2596700        948.757588  \n",
       "\n",
       "[1231 rows x 8 columns]"
      ]
     },
     "execution_count": 24,
     "metadata": {},
     "output_type": "execute_result"
    }
   ],
   "source": [
    "pred_df['Close_Prediction'] = y_pred\n",
    "pred_df"
   ]
  },
  {
   "cell_type": "code",
   "execution_count": 25,
   "id": "631059a6",
   "metadata": {
    "execution": {
     "iopub.execute_input": "2023-04-13T10:28:54.940869Z",
     "iopub.status.busy": "2023-04-13T10:28:54.940101Z",
     "iopub.status.idle": "2023-04-13T10:28:54.962875Z",
     "shell.execute_reply": "2023-04-13T10:28:54.961693Z"
    },
    "papermill": {
     "duration": 0.039369,
     "end_time": "2023-04-13T10:28:54.965542",
     "exception": false,
     "start_time": "2023-04-13T10:28:54.926173",
     "status": "completed"
    },
    "tags": []
   },
   "outputs": [
    {
     "data": {
      "text/html": [
       "<div>\n",
       "<style scoped>\n",
       "    .dataframe tbody tr th:only-of-type {\n",
       "        vertical-align: middle;\n",
       "    }\n",
       "\n",
       "    .dataframe tbody tr th {\n",
       "        vertical-align: top;\n",
       "    }\n",
       "\n",
       "    .dataframe thead th {\n",
       "        text-align: right;\n",
       "    }\n",
       "</style>\n",
       "<table border=\"1\" class=\"dataframe\">\n",
       "  <thead>\n",
       "    <tr style=\"text-align: right;\">\n",
       "      <th></th>\n",
       "      <th>count</th>\n",
       "      <th>mean</th>\n",
       "      <th>std</th>\n",
       "      <th>min</th>\n",
       "      <th>25%</th>\n",
       "      <th>50%</th>\n",
       "      <th>75%</th>\n",
       "      <th>max</th>\n",
       "    </tr>\n",
       "  </thead>\n",
       "  <tbody>\n",
       "    <tr>\n",
       "      <th>Close</th>\n",
       "      <td>1231.0</td>\n",
       "      <td>500.424698</td>\n",
       "      <td>812.826505</td>\n",
       "      <td>1.489583</td>\n",
       "      <td>38.534999</td>\n",
       "      <td>92.370003</td>\n",
       "      <td>528.195007</td>\n",
       "      <td>3656.639893</td>\n",
       "    </tr>\n",
       "    <tr>\n",
       "      <th>Close_Prediction</th>\n",
       "      <td>1231.0</td>\n",
       "      <td>500.151284</td>\n",
       "      <td>812.400125</td>\n",
       "      <td>1.570001</td>\n",
       "      <td>38.546069</td>\n",
       "      <td>92.340053</td>\n",
       "      <td>526.262292</td>\n",
       "      <td>3648.122404</td>\n",
       "    </tr>\n",
       "  </tbody>\n",
       "</table>\n",
       "</div>"
      ],
      "text/plain": [
       "                   count        mean         std       min        25%  \\\n",
       "Close             1231.0  500.424698  812.826505  1.489583  38.534999   \n",
       "Close_Prediction  1231.0  500.151284  812.400125  1.570001  38.546069   \n",
       "\n",
       "                        50%         75%          max  \n",
       "Close             92.370003  528.195007  3656.639893  \n",
       "Close_Prediction  92.340053  526.262292  3648.122404  "
      ]
     },
     "execution_count": 25,
     "metadata": {},
     "output_type": "execute_result"
    }
   ],
   "source": [
    "pred_df[['Close', 'Close_Prediction']].describe().T"
   ]
  },
  {
   "cell_type": "markdown",
   "id": "ba8e99ec",
   "metadata": {
    "papermill": {
     "duration": 0.012427,
     "end_time": "2023-04-13T10:28:54.991072",
     "exception": false,
     "start_time": "2023-04-13T10:28:54.978645",
     "status": "completed"
    },
    "tags": []
   },
   "source": [
    "<br>\n",
    "<p style=\"text-align:center; font-weight:800; font-size:18px\"><em>Thank you! For viewing this Notebook, do upvote if you like it and please feel free to provide feedback.</em>\n",
    "<p style=\"text-align:center\"><img src=\"https://cdn.pixabay.com/animation/2023/03/21/22/04/22-04-05-16_512.gif\" width=\"480\" height=\"200\"></p>"
   ]
  },
  {
   "cell_type": "markdown",
   "id": "ba82e920",
   "metadata": {
    "papermill": {
     "duration": 0.012418,
     "end_time": "2023-04-13T10:28:55.017299",
     "exception": false,
     "start_time": "2023-04-13T10:28:55.004881",
     "status": "completed"
    },
    "tags": []
   },
   "source": []
  }
 ],
 "metadata": {
  "kernelspec": {
   "display_name": "Python 3",
   "language": "python",
   "name": "python3"
  },
  "language_info": {
   "codemirror_mode": {
    "name": "ipython",
    "version": 3
   },
   "file_extension": ".py",
   "mimetype": "text/x-python",
   "name": "python",
   "nbconvert_exporter": "python",
   "pygments_lexer": "ipython3",
   "version": "3.7.12"
  },
  "papermill": {
   "default_parameters": {},
   "duration": 17.321304,
   "end_time": "2023-04-13T10:28:56.058338",
   "environment_variables": {},
   "exception": null,
   "input_path": "__notebook__.ipynb",
   "output_path": "__notebook__.ipynb",
   "parameters": {},
   "start_time": "2023-04-13T10:28:38.737034",
   "version": "2.4.0"
  }
 },
 "nbformat": 4,
 "nbformat_minor": 5
}
