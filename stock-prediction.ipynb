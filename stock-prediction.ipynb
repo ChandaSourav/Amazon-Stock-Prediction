{
 "cells": [
  {
   "cell_type": "code",
   "execution_count": 1,
   "id": "9ce5aa8d",
   "metadata": {
    "_cell_guid": "b1076dfc-b9ad-4769-8c92-a6c4dae69d19",
    "_uuid": "8f2839f25d086af736a60e9eeb907d3b93b6e0e5",
    "execution": {
     "iopub.execute_input": "2023-04-13T07:44:39.161089Z",
     "iopub.status.busy": "2023-04-13T07:44:39.160693Z",
     "iopub.status.idle": "2023-04-13T07:44:40.348800Z",
     "shell.execute_reply": "2023-04-13T07:44:40.347306Z"
    },
    "papermill": {
     "duration": 1.198881,
     "end_time": "2023-04-13T07:44:40.352050",
     "exception": false,
     "start_time": "2023-04-13T07:44:39.153169",
     "status": "completed"
    },
    "tags": []
   },
   "outputs": [
    {
     "name": "stdout",
     "output_type": "stream",
     "text": [
      "/kaggle/input/amazon-stock-price-all-time/Amazon.csv\n"
     ]
    }
   ],
   "source": [
    "import numpy as np \n",
    "import pandas as pd\n",
    "import matplotlib.pyplot as plt\n",
    "from sklearn.model_selection import train_test_split\n",
    "from sklearn.linear_model import LinearRegression\n",
    "import os\n",
    "for dirname, _, filenames in os.walk('/kaggle/input'):\n",
    "    for filename in filenames:\n",
    "        print(os.path.join(dirname, filename))\n",
    "import warnings\n",
    "warnings.filterwarnings('ignore')"
   ]
  },
  {
   "cell_type": "code",
   "execution_count": 2,
   "id": "603a6bf2",
   "metadata": {
    "execution": {
     "iopub.execute_input": "2023-04-13T07:44:40.363139Z",
     "iopub.status.busy": "2023-04-13T07:44:40.362729Z",
     "iopub.status.idle": "2023-04-13T07:44:40.397857Z",
     "shell.execute_reply": "2023-04-13T07:44:40.396584Z"
    },
    "papermill": {
     "duration": 0.044057,
     "end_time": "2023-04-13T07:44:40.400803",
     "exception": false,
     "start_time": "2023-04-13T07:44:40.356746",
     "status": "completed"
    },
    "tags": []
   },
   "outputs": [],
   "source": [
    "df = pd.read_csv(\"/kaggle/input/amazon-stock-price-all-time/Amazon.csv\")"
   ]
  },
  {
   "cell_type": "code",
   "execution_count": 3,
   "id": "48abeee6",
   "metadata": {
    "execution": {
     "iopub.execute_input": "2023-04-13T07:44:40.412025Z",
     "iopub.status.busy": "2023-04-13T07:44:40.411011Z",
     "iopub.status.idle": "2023-04-13T07:44:40.445289Z",
     "shell.execute_reply": "2023-04-13T07:44:40.444122Z"
    },
    "papermill": {
     "duration": 0.042784,
     "end_time": "2023-04-13T07:44:40.448122",
     "exception": false,
     "start_time": "2023-04-13T07:44:40.405338",
     "status": "completed"
    },
    "tags": []
   },
   "outputs": [
    {
     "data": {
      "text/html": [
       "<div>\n",
       "<style scoped>\n",
       "    .dataframe tbody tr th:only-of-type {\n",
       "        vertical-align: middle;\n",
       "    }\n",
       "\n",
       "    .dataframe tbody tr th {\n",
       "        vertical-align: top;\n",
       "    }\n",
       "\n",
       "    .dataframe thead th {\n",
       "        text-align: right;\n",
       "    }\n",
       "</style>\n",
       "<table border=\"1\" class=\"dataframe\">\n",
       "  <thead>\n",
       "    <tr style=\"text-align: right;\">\n",
       "      <th></th>\n",
       "      <th>Date</th>\n",
       "      <th>Open</th>\n",
       "      <th>High</th>\n",
       "      <th>Low</th>\n",
       "      <th>Close</th>\n",
       "      <th>Adj Close</th>\n",
       "      <th>Volume</th>\n",
       "    </tr>\n",
       "  </thead>\n",
       "  <tbody>\n",
       "    <tr>\n",
       "      <th>0</th>\n",
       "      <td>1997-05-15</td>\n",
       "      <td>2.437500</td>\n",
       "      <td>2.500000</td>\n",
       "      <td>1.927083</td>\n",
       "      <td>1.958333</td>\n",
       "      <td>1.958333</td>\n",
       "      <td>72156000</td>\n",
       "    </tr>\n",
       "    <tr>\n",
       "      <th>1</th>\n",
       "      <td>1997-05-16</td>\n",
       "      <td>1.968750</td>\n",
       "      <td>1.979167</td>\n",
       "      <td>1.708333</td>\n",
       "      <td>1.729167</td>\n",
       "      <td>1.729167</td>\n",
       "      <td>14700000</td>\n",
       "    </tr>\n",
       "    <tr>\n",
       "      <th>2</th>\n",
       "      <td>1997-05-19</td>\n",
       "      <td>1.760417</td>\n",
       "      <td>1.770833</td>\n",
       "      <td>1.625000</td>\n",
       "      <td>1.708333</td>\n",
       "      <td>1.708333</td>\n",
       "      <td>6106800</td>\n",
       "    </tr>\n",
       "    <tr>\n",
       "      <th>3</th>\n",
       "      <td>1997-05-20</td>\n",
       "      <td>1.729167</td>\n",
       "      <td>1.750000</td>\n",
       "      <td>1.635417</td>\n",
       "      <td>1.635417</td>\n",
       "      <td>1.635417</td>\n",
       "      <td>5467200</td>\n",
       "    </tr>\n",
       "    <tr>\n",
       "      <th>4</th>\n",
       "      <td>1997-05-21</td>\n",
       "      <td>1.635417</td>\n",
       "      <td>1.645833</td>\n",
       "      <td>1.375000</td>\n",
       "      <td>1.427083</td>\n",
       "      <td>1.427083</td>\n",
       "      <td>18853200</td>\n",
       "    </tr>\n",
       "    <tr>\n",
       "      <th>5</th>\n",
       "      <td>1997-05-22</td>\n",
       "      <td>1.437500</td>\n",
       "      <td>1.447917</td>\n",
       "      <td>1.312500</td>\n",
       "      <td>1.395833</td>\n",
       "      <td>1.395833</td>\n",
       "      <td>11776800</td>\n",
       "    </tr>\n",
       "    <tr>\n",
       "      <th>6</th>\n",
       "      <td>1997-05-23</td>\n",
       "      <td>1.406250</td>\n",
       "      <td>1.520833</td>\n",
       "      <td>1.333333</td>\n",
       "      <td>1.500000</td>\n",
       "      <td>1.500000</td>\n",
       "      <td>15937200</td>\n",
       "    </tr>\n",
       "    <tr>\n",
       "      <th>7</th>\n",
       "      <td>1997-05-27</td>\n",
       "      <td>1.510417</td>\n",
       "      <td>1.645833</td>\n",
       "      <td>1.458333</td>\n",
       "      <td>1.583333</td>\n",
       "      <td>1.583333</td>\n",
       "      <td>8697600</td>\n",
       "    </tr>\n",
       "    <tr>\n",
       "      <th>8</th>\n",
       "      <td>1997-05-28</td>\n",
       "      <td>1.625000</td>\n",
       "      <td>1.635417</td>\n",
       "      <td>1.531250</td>\n",
       "      <td>1.531250</td>\n",
       "      <td>1.531250</td>\n",
       "      <td>4574400</td>\n",
       "    </tr>\n",
       "    <tr>\n",
       "      <th>9</th>\n",
       "      <td>1997-05-29</td>\n",
       "      <td>1.541667</td>\n",
       "      <td>1.541667</td>\n",
       "      <td>1.479167</td>\n",
       "      <td>1.505208</td>\n",
       "      <td>1.505208</td>\n",
       "      <td>3472800</td>\n",
       "    </tr>\n",
       "  </tbody>\n",
       "</table>\n",
       "</div>"
      ],
      "text/plain": [
       "         Date      Open      High       Low     Close  Adj Close    Volume\n",
       "0  1997-05-15  2.437500  2.500000  1.927083  1.958333   1.958333  72156000\n",
       "1  1997-05-16  1.968750  1.979167  1.708333  1.729167   1.729167  14700000\n",
       "2  1997-05-19  1.760417  1.770833  1.625000  1.708333   1.708333   6106800\n",
       "3  1997-05-20  1.729167  1.750000  1.635417  1.635417   1.635417   5467200\n",
       "4  1997-05-21  1.635417  1.645833  1.375000  1.427083   1.427083  18853200\n",
       "5  1997-05-22  1.437500  1.447917  1.312500  1.395833   1.395833  11776800\n",
       "6  1997-05-23  1.406250  1.520833  1.333333  1.500000   1.500000  15937200\n",
       "7  1997-05-27  1.510417  1.645833  1.458333  1.583333   1.583333   8697600\n",
       "8  1997-05-28  1.625000  1.635417  1.531250  1.531250   1.531250   4574400\n",
       "9  1997-05-29  1.541667  1.541667  1.479167  1.505208   1.505208   3472800"
      ]
     },
     "execution_count": 3,
     "metadata": {},
     "output_type": "execute_result"
    }
   ],
   "source": [
    "df.head(10)"
   ]
  },
  {
   "cell_type": "code",
   "execution_count": 4,
   "id": "dd763df6",
   "metadata": {
    "execution": {
     "iopub.execute_input": "2023-04-13T07:44:40.459985Z",
     "iopub.status.busy": "2023-04-13T07:44:40.459085Z",
     "iopub.status.idle": "2023-04-13T07:44:40.469891Z",
     "shell.execute_reply": "2023-04-13T07:44:40.468615Z"
    },
    "papermill": {
     "duration": 0.01932,
     "end_time": "2023-04-13T07:44:40.472301",
     "exception": false,
     "start_time": "2023-04-13T07:44:40.452981",
     "status": "completed"
    },
    "tags": []
   },
   "outputs": [
    {
     "data": {
      "text/plain": [
       "Date         0\n",
       "Open         0\n",
       "High         0\n",
       "Low          0\n",
       "Close        0\n",
       "Adj Close    0\n",
       "Volume       0\n",
       "dtype: int64"
      ]
     },
     "execution_count": 4,
     "metadata": {},
     "output_type": "execute_result"
    }
   ],
   "source": [
    "df.isnull().sum()"
   ]
  },
  {
   "cell_type": "code",
   "execution_count": 5,
   "id": "7b211432",
   "metadata": {
    "execution": {
     "iopub.execute_input": "2023-04-13T07:44:40.484005Z",
     "iopub.status.busy": "2023-04-13T07:44:40.483596Z",
     "iopub.status.idle": "2023-04-13T07:44:40.490945Z",
     "shell.execute_reply": "2023-04-13T07:44:40.489789Z"
    },
    "papermill": {
     "duration": 0.01623,
     "end_time": "2023-04-13T07:44:40.493514",
     "exception": false,
     "start_time": "2023-04-13T07:44:40.477284",
     "status": "completed"
    },
    "tags": []
   },
   "outputs": [
    {
     "data": {
      "text/plain": [
       "(6155, 7)"
      ]
     },
     "execution_count": 5,
     "metadata": {},
     "output_type": "execute_result"
    }
   ],
   "source": [
    "df.shape"
   ]
  },
  {
   "cell_type": "code",
   "execution_count": 6,
   "id": "457339cb",
   "metadata": {
    "execution": {
     "iopub.execute_input": "2023-04-13T07:44:40.505437Z",
     "iopub.status.busy": "2023-04-13T07:44:40.505000Z",
     "iopub.status.idle": "2023-04-13T07:44:40.532902Z",
     "shell.execute_reply": "2023-04-13T07:44:40.531470Z"
    },
    "papermill": {
     "duration": 0.037102,
     "end_time": "2023-04-13T07:44:40.535702",
     "exception": false,
     "start_time": "2023-04-13T07:44:40.498600",
     "status": "completed"
    },
    "tags": []
   },
   "outputs": [
    {
     "name": "stdout",
     "output_type": "stream",
     "text": [
      "<class 'pandas.core.frame.DataFrame'>\n",
      "RangeIndex: 6155 entries, 0 to 6154\n",
      "Data columns (total 7 columns):\n",
      " #   Column     Non-Null Count  Dtype  \n",
      "---  ------     --------------  -----  \n",
      " 0   Date       6155 non-null   object \n",
      " 1   Open       6155 non-null   float64\n",
      " 2   High       6155 non-null   float64\n",
      " 3   Low        6155 non-null   float64\n",
      " 4   Close      6155 non-null   float64\n",
      " 5   Adj Close  6155 non-null   float64\n",
      " 6   Volume     6155 non-null   int64  \n",
      "dtypes: float64(5), int64(1), object(1)\n",
      "memory usage: 336.7+ KB\n"
     ]
    }
   ],
   "source": [
    "df.info()"
   ]
  },
  {
   "cell_type": "code",
   "execution_count": 7,
   "id": "eedbd3f1",
   "metadata": {
    "execution": {
     "iopub.execute_input": "2023-04-13T07:44:40.548644Z",
     "iopub.status.busy": "2023-04-13T07:44:40.547340Z",
     "iopub.status.idle": "2023-04-13T07:44:40.584100Z",
     "shell.execute_reply": "2023-04-13T07:44:40.582684Z"
    },
    "papermill": {
     "duration": 0.045811,
     "end_time": "2023-04-13T07:44:40.586710",
     "exception": false,
     "start_time": "2023-04-13T07:44:40.540899",
     "status": "completed"
    },
    "tags": []
   },
   "outputs": [
    {
     "data": {
      "text/html": [
       "<div>\n",
       "<style scoped>\n",
       "    .dataframe tbody tr th:only-of-type {\n",
       "        vertical-align: middle;\n",
       "    }\n",
       "\n",
       "    .dataframe tbody tr th {\n",
       "        vertical-align: top;\n",
       "    }\n",
       "\n",
       "    .dataframe thead th {\n",
       "        text-align: right;\n",
       "    }\n",
       "</style>\n",
       "<table border=\"1\" class=\"dataframe\">\n",
       "  <thead>\n",
       "    <tr style=\"text-align: right;\">\n",
       "      <th></th>\n",
       "      <th>count</th>\n",
       "      <th>mean</th>\n",
       "      <th>std</th>\n",
       "      <th>min</th>\n",
       "      <th>25%</th>\n",
       "      <th>50%</th>\n",
       "      <th>75%</th>\n",
       "      <th>max</th>\n",
       "    </tr>\n",
       "  </thead>\n",
       "  <tbody>\n",
       "    <tr>\n",
       "      <th>Open</th>\n",
       "      <td>6155.0</td>\n",
       "      <td>5.205563e+02</td>\n",
       "      <td>8.571617e+02</td>\n",
       "      <td>1.406250</td>\n",
       "      <td>3.875000e+01</td>\n",
       "      <td>9.267000e+01</td>\n",
       "      <td>5.289500e+02</td>\n",
       "      <td>3.744000e+03</td>\n",
       "    </tr>\n",
       "    <tr>\n",
       "      <th>High</th>\n",
       "      <td>6155.0</td>\n",
       "      <td>5.262161e+02</td>\n",
       "      <td>8.658210e+02</td>\n",
       "      <td>1.447917</td>\n",
       "      <td>3.951500e+01</td>\n",
       "      <td>9.419000e+01</td>\n",
       "      <td>5.353050e+02</td>\n",
       "      <td>3.773080e+03</td>\n",
       "    </tr>\n",
       "    <tr>\n",
       "      <th>Low</th>\n",
       "      <td>6155.0</td>\n",
       "      <td>5.142773e+02</td>\n",
       "      <td>8.472709e+02</td>\n",
       "      <td>1.312500</td>\n",
       "      <td>3.810500e+01</td>\n",
       "      <td>9.075000e+01</td>\n",
       "      <td>5.219500e+02</td>\n",
       "      <td>3.696790e+03</td>\n",
       "    </tr>\n",
       "    <tr>\n",
       "      <th>Close</th>\n",
       "      <td>6155.0</td>\n",
       "      <td>5.204298e+02</td>\n",
       "      <td>8.566685e+02</td>\n",
       "      <td>1.395833</td>\n",
       "      <td>3.882125e+01</td>\n",
       "      <td>9.264000e+01</td>\n",
       "      <td>5.294500e+02</td>\n",
       "      <td>3.731410e+03</td>\n",
       "    </tr>\n",
       "    <tr>\n",
       "      <th>Adj Close</th>\n",
       "      <td>6155.0</td>\n",
       "      <td>5.204298e+02</td>\n",
       "      <td>8.566685e+02</td>\n",
       "      <td>1.395833</td>\n",
       "      <td>3.882125e+01</td>\n",
       "      <td>9.264000e+01</td>\n",
       "      <td>5.294500e+02</td>\n",
       "      <td>3.731410e+03</td>\n",
       "    </tr>\n",
       "    <tr>\n",
       "      <th>Volume</th>\n",
       "      <td>6155.0</td>\n",
       "      <td>7.329010e+06</td>\n",
       "      <td>7.149521e+06</td>\n",
       "      <td>487200.000000</td>\n",
       "      <td>3.579350e+06</td>\n",
       "      <td>5.470000e+06</td>\n",
       "      <td>8.294950e+06</td>\n",
       "      <td>1.043292e+08</td>\n",
       "    </tr>\n",
       "  </tbody>\n",
       "</table>\n",
       "</div>"
      ],
      "text/plain": [
       "            count          mean           std            min           25%  \\\n",
       "Open       6155.0  5.205563e+02  8.571617e+02       1.406250  3.875000e+01   \n",
       "High       6155.0  5.262161e+02  8.658210e+02       1.447917  3.951500e+01   \n",
       "Low        6155.0  5.142773e+02  8.472709e+02       1.312500  3.810500e+01   \n",
       "Close      6155.0  5.204298e+02  8.566685e+02       1.395833  3.882125e+01   \n",
       "Adj Close  6155.0  5.204298e+02  8.566685e+02       1.395833  3.882125e+01   \n",
       "Volume     6155.0  7.329010e+06  7.149521e+06  487200.000000  3.579350e+06   \n",
       "\n",
       "                    50%           75%           max  \n",
       "Open       9.267000e+01  5.289500e+02  3.744000e+03  \n",
       "High       9.419000e+01  5.353050e+02  3.773080e+03  \n",
       "Low        9.075000e+01  5.219500e+02  3.696790e+03  \n",
       "Close      9.264000e+01  5.294500e+02  3.731410e+03  \n",
       "Adj Close  9.264000e+01  5.294500e+02  3.731410e+03  \n",
       "Volume     5.470000e+06  8.294950e+06  1.043292e+08  "
      ]
     },
     "execution_count": 7,
     "metadata": {},
     "output_type": "execute_result"
    }
   ],
   "source": [
    "df.describe().T"
   ]
  },
  {
   "cell_type": "code",
   "execution_count": 8,
   "id": "04e11b2f",
   "metadata": {
    "execution": {
     "iopub.execute_input": "2023-04-13T07:44:40.600584Z",
     "iopub.status.busy": "2023-04-13T07:44:40.600121Z",
     "iopub.status.idle": "2023-04-13T07:44:40.611026Z",
     "shell.execute_reply": "2023-04-13T07:44:40.609461Z"
    },
    "papermill": {
     "duration": 0.020745,
     "end_time": "2023-04-13T07:44:40.614075",
     "exception": false,
     "start_time": "2023-04-13T07:44:40.593330",
     "status": "completed"
    },
    "tags": []
   },
   "outputs": [],
   "source": [
    "train, test = train_test_split(df, test_size = 0.2)"
   ]
  },
  {
   "cell_type": "code",
   "execution_count": 9,
   "id": "345ddf8e",
   "metadata": {
    "execution": {
     "iopub.execute_input": "2023-04-13T07:44:40.628043Z",
     "iopub.status.busy": "2023-04-13T07:44:40.627614Z",
     "iopub.status.idle": "2023-04-13T07:44:40.645499Z",
     "shell.execute_reply": "2023-04-13T07:44:40.644186Z"
    },
    "papermill": {
     "duration": 0.02759,
     "end_time": "2023-04-13T07:44:40.648225",
     "exception": false,
     "start_time": "2023-04-13T07:44:40.620635",
     "status": "completed"
    },
    "tags": []
   },
   "outputs": [
    {
     "data": {
      "text/html": [
       "<div>\n",
       "<style scoped>\n",
       "    .dataframe tbody tr th:only-of-type {\n",
       "        vertical-align: middle;\n",
       "    }\n",
       "\n",
       "    .dataframe tbody tr th {\n",
       "        vertical-align: top;\n",
       "    }\n",
       "\n",
       "    .dataframe thead th {\n",
       "        text-align: right;\n",
       "    }\n",
       "</style>\n",
       "<table border=\"1\" class=\"dataframe\">\n",
       "  <thead>\n",
       "    <tr style=\"text-align: right;\">\n",
       "      <th></th>\n",
       "      <th>Date</th>\n",
       "      <th>Open</th>\n",
       "      <th>High</th>\n",
       "      <th>Low</th>\n",
       "      <th>Close</th>\n",
       "      <th>Adj Close</th>\n",
       "      <th>Volume</th>\n",
       "    </tr>\n",
       "  </thead>\n",
       "  <tbody>\n",
       "    <tr>\n",
       "      <th>3210</th>\n",
       "      <td>2010-02-18</td>\n",
       "      <td>115.839996</td>\n",
       "      <td>118.510002</td>\n",
       "      <td>114.820000</td>\n",
       "      <td>118.080002</td>\n",
       "      <td>118.080002</td>\n",
       "      <td>9800100</td>\n",
       "    </tr>\n",
       "    <tr>\n",
       "      <th>5218</th>\n",
       "      <td>2018-02-08</td>\n",
       "      <td>1429.680054</td>\n",
       "      <td>1433.750000</td>\n",
       "      <td>1349.939941</td>\n",
       "      <td>1350.500000</td>\n",
       "      <td>1350.500000</td>\n",
       "      <td>8578600</td>\n",
       "    </tr>\n",
       "    <tr>\n",
       "      <th>2048</th>\n",
       "      <td>2005-07-07</td>\n",
       "      <td>33.799999</td>\n",
       "      <td>34.509998</td>\n",
       "      <td>33.799999</td>\n",
       "      <td>33.959999</td>\n",
       "      <td>33.959999</td>\n",
       "      <td>4242900</td>\n",
       "    </tr>\n",
       "    <tr>\n",
       "      <th>1623</th>\n",
       "      <td>2003-10-28</td>\n",
       "      <td>55.189999</td>\n",
       "      <td>56.900002</td>\n",
       "      <td>54.549999</td>\n",
       "      <td>56.730000</td>\n",
       "      <td>56.730000</td>\n",
       "      <td>9230900</td>\n",
       "    </tr>\n",
       "    <tr>\n",
       "      <th>2844</th>\n",
       "      <td>2008-09-04</td>\n",
       "      <td>80.599998</td>\n",
       "      <td>80.809998</td>\n",
       "      <td>78.019997</td>\n",
       "      <td>78.029999</td>\n",
       "      <td>78.029999</td>\n",
       "      <td>8316500</td>\n",
       "    </tr>\n",
       "    <tr>\n",
       "      <th>6051</th>\n",
       "      <td>2021-06-02</td>\n",
       "      <td>3223.100098</td>\n",
       "      <td>3235.000000</td>\n",
       "      <td>3208.000000</td>\n",
       "      <td>3233.989990</td>\n",
       "      <td>3233.989990</td>\n",
       "      <td>2014500</td>\n",
       "    </tr>\n",
       "    <tr>\n",
       "      <th>4343</th>\n",
       "      <td>2014-08-19</td>\n",
       "      <td>334.869995</td>\n",
       "      <td>335.809998</td>\n",
       "      <td>333.010010</td>\n",
       "      <td>335.130005</td>\n",
       "      <td>335.130005</td>\n",
       "      <td>1713800</td>\n",
       "    </tr>\n",
       "    <tr>\n",
       "      <th>2417</th>\n",
       "      <td>2006-12-21</td>\n",
       "      <td>39.869999</td>\n",
       "      <td>40.340000</td>\n",
       "      <td>39.650002</td>\n",
       "      <td>39.889999</td>\n",
       "      <td>39.889999</td>\n",
       "      <td>6550200</td>\n",
       "    </tr>\n",
       "    <tr>\n",
       "      <th>1864</th>\n",
       "      <td>2004-10-13</td>\n",
       "      <td>41.419998</td>\n",
       "      <td>41.549999</td>\n",
       "      <td>39.750000</td>\n",
       "      <td>39.980000</td>\n",
       "      <td>39.980000</td>\n",
       "      <td>9220200</td>\n",
       "    </tr>\n",
       "    <tr>\n",
       "      <th>4165</th>\n",
       "      <td>2013-12-03</td>\n",
       "      <td>390.109985</td>\n",
       "      <td>390.950012</td>\n",
       "      <td>383.100006</td>\n",
       "      <td>384.660004</td>\n",
       "      <td>384.660004</td>\n",
       "      <td>3702900</td>\n",
       "    </tr>\n",
       "  </tbody>\n",
       "</table>\n",
       "</div>"
      ],
      "text/plain": [
       "            Date         Open         High          Low        Close  \\\n",
       "3210  2010-02-18   115.839996   118.510002   114.820000   118.080002   \n",
       "5218  2018-02-08  1429.680054  1433.750000  1349.939941  1350.500000   \n",
       "2048  2005-07-07    33.799999    34.509998    33.799999    33.959999   \n",
       "1623  2003-10-28    55.189999    56.900002    54.549999    56.730000   \n",
       "2844  2008-09-04    80.599998    80.809998    78.019997    78.029999   \n",
       "6051  2021-06-02  3223.100098  3235.000000  3208.000000  3233.989990   \n",
       "4343  2014-08-19   334.869995   335.809998   333.010010   335.130005   \n",
       "2417  2006-12-21    39.869999    40.340000    39.650002    39.889999   \n",
       "1864  2004-10-13    41.419998    41.549999    39.750000    39.980000   \n",
       "4165  2013-12-03   390.109985   390.950012   383.100006   384.660004   \n",
       "\n",
       "        Adj Close   Volume  \n",
       "3210   118.080002  9800100  \n",
       "5218  1350.500000  8578600  \n",
       "2048    33.959999  4242900  \n",
       "1623    56.730000  9230900  \n",
       "2844    78.029999  8316500  \n",
       "6051  3233.989990  2014500  \n",
       "4343   335.130005  1713800  \n",
       "2417    39.889999  6550200  \n",
       "1864    39.980000  9220200  \n",
       "4165   384.660004  3702900  "
      ]
     },
     "execution_count": 9,
     "metadata": {},
     "output_type": "execute_result"
    }
   ],
   "source": [
    "train.head(10)"
   ]
  },
  {
   "cell_type": "code",
   "execution_count": 10,
   "id": "dd26a9be",
   "metadata": {
    "execution": {
     "iopub.execute_input": "2023-04-13T07:44:40.664366Z",
     "iopub.status.busy": "2023-04-13T07:44:40.663511Z",
     "iopub.status.idle": "2023-04-13T07:44:40.680518Z",
     "shell.execute_reply": "2023-04-13T07:44:40.679050Z"
    },
    "papermill": {
     "duration": 0.029226,
     "end_time": "2023-04-13T07:44:40.685272",
     "exception": false,
     "start_time": "2023-04-13T07:44:40.656046",
     "status": "completed"
    },
    "tags": []
   },
   "outputs": [
    {
     "data": {
      "text/html": [
       "<div>\n",
       "<style scoped>\n",
       "    .dataframe tbody tr th:only-of-type {\n",
       "        vertical-align: middle;\n",
       "    }\n",
       "\n",
       "    .dataframe tbody tr th {\n",
       "        vertical-align: top;\n",
       "    }\n",
       "\n",
       "    .dataframe thead th {\n",
       "        text-align: right;\n",
       "    }\n",
       "</style>\n",
       "<table border=\"1\" class=\"dataframe\">\n",
       "  <thead>\n",
       "    <tr style=\"text-align: right;\">\n",
       "      <th></th>\n",
       "      <th>Date</th>\n",
       "      <th>Open</th>\n",
       "      <th>High</th>\n",
       "      <th>Low</th>\n",
       "      <th>Close</th>\n",
       "      <th>Adj Close</th>\n",
       "      <th>Volume</th>\n",
       "    </tr>\n",
       "  </thead>\n",
       "  <tbody>\n",
       "    <tr>\n",
       "      <th>3654</th>\n",
       "      <td>2011-11-18</td>\n",
       "      <td>205.330002</td>\n",
       "      <td>205.339996</td>\n",
       "      <td>197.110001</td>\n",
       "      <td>197.139999</td>\n",
       "      <td>197.139999</td>\n",
       "      <td>8437500</td>\n",
       "    </tr>\n",
       "    <tr>\n",
       "      <th>1413</th>\n",
       "      <td>2002-12-27</td>\n",
       "      <td>19.969999</td>\n",
       "      <td>20.100000</td>\n",
       "      <td>18.430000</td>\n",
       "      <td>18.860001</td>\n",
       "      <td>18.860001</td>\n",
       "      <td>21972800</td>\n",
       "    </tr>\n",
       "    <tr>\n",
       "      <th>2547</th>\n",
       "      <td>2007-07-02</td>\n",
       "      <td>68.809998</td>\n",
       "      <td>69.709999</td>\n",
       "      <td>68.199997</td>\n",
       "      <td>69.610001</td>\n",
       "      <td>69.610001</td>\n",
       "      <td>4906100</td>\n",
       "    </tr>\n",
       "    <tr>\n",
       "      <th>4547</th>\n",
       "      <td>2015-06-11</td>\n",
       "      <td>432.290009</td>\n",
       "      <td>438.890015</td>\n",
       "      <td>431.470001</td>\n",
       "      <td>432.970001</td>\n",
       "      <td>432.970001</td>\n",
       "      <td>2922500</td>\n",
       "    </tr>\n",
       "    <tr>\n",
       "      <th>5648</th>\n",
       "      <td>2019-10-24</td>\n",
       "      <td>1771.089966</td>\n",
       "      <td>1788.339966</td>\n",
       "      <td>1760.270020</td>\n",
       "      <td>1780.780029</td>\n",
       "      <td>1780.780029</td>\n",
       "      <td>4446100</td>\n",
       "    </tr>\n",
       "    <tr>\n",
       "      <th>4533</th>\n",
       "      <td>2015-05-21</td>\n",
       "      <td>428.000000</td>\n",
       "      <td>436.899994</td>\n",
       "      <td>428.000000</td>\n",
       "      <td>431.630005</td>\n",
       "      <td>431.630005</td>\n",
       "      <td>4121400</td>\n",
       "    </tr>\n",
       "    <tr>\n",
       "      <th>3126</th>\n",
       "      <td>2009-10-16</td>\n",
       "      <td>95.300003</td>\n",
       "      <td>96.120003</td>\n",
       "      <td>93.610001</td>\n",
       "      <td>95.320000</td>\n",
       "      <td>95.320000</td>\n",
       "      <td>7038400</td>\n",
       "    </tr>\n",
       "    <tr>\n",
       "      <th>1536</th>\n",
       "      <td>2003-06-25</td>\n",
       "      <td>35.299999</td>\n",
       "      <td>36.130001</td>\n",
       "      <td>35.150002</td>\n",
       "      <td>35.389999</td>\n",
       "      <td>35.389999</td>\n",
       "      <td>6659000</td>\n",
       "    </tr>\n",
       "    <tr>\n",
       "      <th>1468</th>\n",
       "      <td>2003-03-19</td>\n",
       "      <td>26.330000</td>\n",
       "      <td>26.690001</td>\n",
       "      <td>26.160000</td>\n",
       "      <td>26.540001</td>\n",
       "      <td>26.540001</td>\n",
       "      <td>8481000</td>\n",
       "    </tr>\n",
       "    <tr>\n",
       "      <th>3859</th>\n",
       "      <td>2012-09-13</td>\n",
       "      <td>254.940002</td>\n",
       "      <td>262.000000</td>\n",
       "      <td>253.800003</td>\n",
       "      <td>260.239990</td>\n",
       "      <td>260.239990</td>\n",
       "      <td>3525600</td>\n",
       "    </tr>\n",
       "  </tbody>\n",
       "</table>\n",
       "</div>"
      ],
      "text/plain": [
       "            Date         Open         High          Low        Close  \\\n",
       "3654  2011-11-18   205.330002   205.339996   197.110001   197.139999   \n",
       "1413  2002-12-27    19.969999    20.100000    18.430000    18.860001   \n",
       "2547  2007-07-02    68.809998    69.709999    68.199997    69.610001   \n",
       "4547  2015-06-11   432.290009   438.890015   431.470001   432.970001   \n",
       "5648  2019-10-24  1771.089966  1788.339966  1760.270020  1780.780029   \n",
       "4533  2015-05-21   428.000000   436.899994   428.000000   431.630005   \n",
       "3126  2009-10-16    95.300003    96.120003    93.610001    95.320000   \n",
       "1536  2003-06-25    35.299999    36.130001    35.150002    35.389999   \n",
       "1468  2003-03-19    26.330000    26.690001    26.160000    26.540001   \n",
       "3859  2012-09-13   254.940002   262.000000   253.800003   260.239990   \n",
       "\n",
       "        Adj Close    Volume  \n",
       "3654   197.139999   8437500  \n",
       "1413    18.860001  21972800  \n",
       "2547    69.610001   4906100  \n",
       "4547   432.970001   2922500  \n",
       "5648  1780.780029   4446100  \n",
       "4533   431.630005   4121400  \n",
       "3126    95.320000   7038400  \n",
       "1536    35.389999   6659000  \n",
       "1468    26.540001   8481000  \n",
       "3859   260.239990   3525600  "
      ]
     },
     "execution_count": 10,
     "metadata": {},
     "output_type": "execute_result"
    }
   ],
   "source": [
    "test.head(10)"
   ]
  },
  {
   "cell_type": "code",
   "execution_count": 11,
   "id": "9ebc1559",
   "metadata": {
    "execution": {
     "iopub.execute_input": "2023-04-13T07:44:40.704887Z",
     "iopub.status.busy": "2023-04-13T07:44:40.704437Z",
     "iopub.status.idle": "2023-04-13T07:44:40.712563Z",
     "shell.execute_reply": "2023-04-13T07:44:40.711463Z"
    },
    "papermill": {
     "duration": 0.021555,
     "end_time": "2023-04-13T07:44:40.715823",
     "exception": false,
     "start_time": "2023-04-13T07:44:40.694268",
     "status": "completed"
    },
    "tags": []
   },
   "outputs": [],
   "source": [
    "x_train = train[['Open', 'High', 'Low', 'Volume']].values\n",
    "x_test = test[['Open', 'High', 'Low', 'Volume']].values"
   ]
  },
  {
   "cell_type": "code",
   "execution_count": 12,
   "id": "e841f44f",
   "metadata": {
    "execution": {
     "iopub.execute_input": "2023-04-13T07:44:40.739418Z",
     "iopub.status.busy": "2023-04-13T07:44:40.738844Z",
     "iopub.status.idle": "2023-04-13T07:44:40.745803Z",
     "shell.execute_reply": "2023-04-13T07:44:40.744488Z"
    },
    "papermill": {
     "duration": 0.021016,
     "end_time": "2023-04-13T07:44:40.748272",
     "exception": false,
     "start_time": "2023-04-13T07:44:40.727256",
     "status": "completed"
    },
    "tags": []
   },
   "outputs": [],
   "source": [
    "y_train = train['Close'].values\n",
    "y_test = test['Close'].values"
   ]
  },
  {
   "cell_type": "code",
   "execution_count": 13,
   "id": "bb4ad788",
   "metadata": {
    "execution": {
     "iopub.execute_input": "2023-04-13T07:44:40.762398Z",
     "iopub.status.busy": "2023-04-13T07:44:40.761541Z",
     "iopub.status.idle": "2023-04-13T07:44:40.801437Z",
     "shell.execute_reply": "2023-04-13T07:44:40.799342Z"
    },
    "papermill": {
     "duration": 0.052377,
     "end_time": "2023-04-13T07:44:40.806505",
     "exception": false,
     "start_time": "2023-04-13T07:44:40.754128",
     "status": "completed"
    },
    "tags": []
   },
   "outputs": [
    {
     "data": {
      "text/plain": [
       "LinearRegression()"
      ]
     },
     "execution_count": 13,
     "metadata": {},
     "output_type": "execute_result"
    }
   ],
   "source": [
    "model = LinearRegression()\n",
    "model.fit(x_train, y_train)"
   ]
  },
  {
   "cell_type": "code",
   "execution_count": 14,
   "id": "8f7d901f",
   "metadata": {
    "execution": {
     "iopub.execute_input": "2023-04-13T07:44:40.862956Z",
     "iopub.status.busy": "2023-04-13T07:44:40.862083Z",
     "iopub.status.idle": "2023-04-13T07:44:40.871001Z",
     "shell.execute_reply": "2023-04-13T07:44:40.869211Z"
    },
    "papermill": {
     "duration": 0.052564,
     "end_time": "2023-04-13T07:44:40.879030",
     "exception": false,
     "start_time": "2023-04-13T07:44:40.826466",
     "status": "completed"
    },
    "tags": []
   },
   "outputs": [],
   "source": [
    "y_pred = model.predict(x_test)"
   ]
  },
  {
   "cell_type": "code",
   "execution_count": 15,
   "id": "eba5f4a2",
   "metadata": {
    "execution": {
     "iopub.execute_input": "2023-04-13T07:44:40.908577Z",
     "iopub.status.busy": "2023-04-13T07:44:40.908157Z",
     "iopub.status.idle": "2023-04-13T07:44:40.923987Z",
     "shell.execute_reply": "2023-04-13T07:44:40.922486Z"
    },
    "papermill": {
     "duration": 0.026573,
     "end_time": "2023-04-13T07:44:40.927540",
     "exception": false,
     "start_time": "2023-04-13T07:44:40.900967",
     "status": "completed"
    },
    "tags": []
   },
   "outputs": [
    {
     "name": "stdout",
     "output_type": "stream",
     "text": [
      "[1.59751565]\n"
     ]
    }
   ],
   "source": [
    "result = model.predict([[2.437500, 2.500000, 1.927083, 72156000]])\n",
    "print(result)"
   ]
  }
 ],
 "metadata": {
  "kernelspec": {
   "display_name": "Python 3",
   "language": "python",
   "name": "python3"
  },
  "language_info": {
   "codemirror_mode": {
    "name": "ipython",
    "version": 3
   },
   "file_extension": ".py",
   "mimetype": "text/x-python",
   "name": "python",
   "nbconvert_exporter": "python",
   "pygments_lexer": "ipython3",
   "version": "3.7.12"
  },
  "papermill": {
   "default_parameters": {},
   "duration": 12.58983,
   "end_time": "2023-04-13T07:44:41.758203",
   "environment_variables": {},
   "exception": null,
   "input_path": "__notebook__.ipynb",
   "output_path": "__notebook__.ipynb",
   "parameters": {},
   "start_time": "2023-04-13T07:44:29.168373",
   "version": "2.4.0"
  }
 },
 "nbformat": 4,
 "nbformat_minor": 5
}
